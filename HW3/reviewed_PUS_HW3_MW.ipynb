{
  "nbformat": 4,
  "nbformat_minor": 0,
  "metadata": {
    "colab": {
      "name": "reviewed PUS_HW3_MW.ipynb",
      "provenance": [],
      "collapsed_sections": [],
      "include_colab_link": true
    },
    "kernelspec": {
      "name": "python3",
      "display_name": "Python 3"
    }
  },
  "cells": [
    {
      "cell_type": "markdown",
      "metadata": {
        "id": "view-in-github",
        "colab_type": "text"
      },
      "source": [
        "<a href=\"https://colab.research.google.com/github/fedhere/PUS2020_MWalter/blob/master/HW3/reviewed_PUS_HW3_MW.ipynb\" target=\"_parent\"><img src=\"https://colab.research.google.com/assets/colab-badge.svg\" alt=\"Open In Colab\"/></a>"
      ]
    },
    {
      "cell_type": "code",
      "metadata": {
        "id": "im4p_Ozl2fpj"
      },
      "source": [
        "import pylab as plt\n",
        "import pandas as pd\n",
        "import numpy as np\n",
        "import datetime\n"
      ],
      "execution_count": null,
      "outputs": []
    },
    {
      "cell_type": "markdown",
      "metadata": {
        "id": "schhUijE3M0p"
      },
      "source": [
        "Question: Is the proportion of customers to subscribers riding citibikes higher on the weekend than weekdays?"
      ]
    },
    {
      "cell_type": "markdown",
      "metadata": {
        "id": "kn31--4hVRDq"
      },
      "source": [
        "# FBB the idea is fine, but is misses a justificaton: why would you ask this? subscribers are regular customers, while customers may be turists, so it makes sense to ask this, but it should be stated."
      ]
    },
    {
      "cell_type": "markdown",
      "metadata": {
        "id": "g8XxrXDRG_2b"
      },
      "source": [
        "Significance Threshold: 5% or .05"
      ]
    },
    {
      "cell_type": "markdown",
      "metadata": {
        "id": "53w6Q1y8HPkc"
      },
      "source": [
        "Null Hypothesis: The proportion of customers to subscribers on the weekend is the same or less than the proportion of customers to subscribers on the weekdays.\n",
        "\n",
        "Alternate Hypothesis: The proportion of customers to subscribers on the weekend is higher than the proportion of customers to subscribers on the weekdays. \n"
      ]
    },
    {
      "cell_type": "markdown",
      "metadata": {
        "id": "qCoJfeR8ICq_"
      },
      "source": [
        "H0 = (customers on weekend / subscribers on weekend) <= (customers on weekdays / subscribers on weekdays)\n",
        "\n",
        "\n",
        "H1 = (customers on weekend / subscribers on weekend) > (customers on weekdays / subscribers on weekdays)"
      ]
    },
    {
      "cell_type": "code",
      "metadata": {
        "id": "9h6XLsRU2jCu"
      },
      "source": [
        "# Read in city bike data with datastring\n",
        "datestring = '201905'\n",
        "cbMay19 = pd.read_csv(\"https://s3.amazonaws.com/tripdata/\"+ datestring + \"-citibike-tripdata.csv.zip\")"
      ],
      "execution_count": null,
      "outputs": []
    },
    {
      "cell_type": "code",
      "metadata": {
        "id": "Ige7uD7W2zCZ"
      },
      "source": [
        "# Add a datetime object\n",
        "cbMay19[\"date\"] = pd.to_datetime(cbMay19.starttime)"
      ],
      "execution_count": null,
      "outputs": []
    },
    {
      "cell_type": "code",
      "metadata": {
        "id": "At8mEyiJ46F3"
      },
      "source": [
        "# Get a day of the week column where 0 = Monday and 6 = Sunday\n",
        "cbMay19['day'] = cbMay19.date.dt.weekday"
      ],
      "execution_count": null,
      "outputs": []
    },
    {
      "cell_type": "code",
      "metadata": {
        "id": "FNZ2cWIJAPkX",
        "outputId": "f77cffc4-ad56-462b-b5d8-d41819309b17",
        "colab": {
          "base_uri": "https://localhost:8080/",
          "height": 232
        }
      },
      "source": [
        "# Explore the distribution of customers per day of the week and subscribers per day of the week\n",
        "cus = cbMay19.loc[cbMay19['usertype'] == 'Customer']\n",
        "sub = cbMay19.loc[cbMay19['usertype'] == 'Subscriber']\n",
        "cus['c'] = 1\n",
        "counts_cus = cus.groupby(['day']).count().reset_index()\n",
        "sub['c'] = 1\n",
        "counts_sub = sub.groupby(['day']).count().reset_index()\n",
        "\n"
      ],
      "execution_count": null,
      "outputs": [
        {
          "output_type": "stream",
          "text": [
            "/usr/local/lib/python3.6/dist-packages/ipykernel_launcher.py:4: SettingWithCopyWarning: \n",
            "A value is trying to be set on a copy of a slice from a DataFrame.\n",
            "Try using .loc[row_indexer,col_indexer] = value instead\n",
            "\n",
            "See the caveats in the documentation: https://pandas.pydata.org/pandas-docs/stable/user_guide/indexing.html#returning-a-view-versus-a-copy\n",
            "  after removing the cwd from sys.path.\n",
            "/usr/local/lib/python3.6/dist-packages/ipykernel_launcher.py:6: SettingWithCopyWarning: \n",
            "A value is trying to be set on a copy of a slice from a DataFrame.\n",
            "Try using .loc[row_indexer,col_indexer] = value instead\n",
            "\n",
            "See the caveats in the documentation: https://pandas.pydata.org/pandas-docs/stable/user_guide/indexing.html#returning-a-view-versus-a-copy\n",
            "  \n"
          ],
          "name": "stderr"
        }
      ]
    },
    {
      "cell_type": "code",
      "metadata": {
        "id": "vA7Dy6SeGoLS",
        "outputId": "366e6c1f-4e63-42fd-e1da-6ad9ce7e51b3",
        "colab": {
          "base_uri": "https://localhost:8080/",
          "height": 307
        }
      },
      "source": [
        "# Plot # of customers by day of the week\n",
        "plt.bar(counts_cus['day'], counts_cus['c'])\n",
        "labels = ['Mon', 'Tue', 'Wed', 'Thu', 'Fri', 'Sat', 'Sun']\n",
        "plt.xticks(ticks = counts_cus.index ,labels = labels, rotation = 'vertical')\n",
        "plt.xlabel('Day of Week')\n",
        "plt.ylabel('# of Customers')"
      ],
      "execution_count": null,
      "outputs": [
        {
          "output_type": "execute_result",
          "data": {
            "text/plain": [
              "Text(0, 0.5, '# of Customers')"
            ]
          },
          "metadata": {
            "tags": []
          },
          "execution_count": 6
        },
        {
          "output_type": "display_data",
          "data": {
            "image/png": "[encoded data removed]",
            "text/plain": [
              "<Figure size 432x288 with 1 Axes>"
            ]
          },
          "metadata": {
            "tags": [],
            "needs_background": "light"
          }
        }
      ]
    },
    {
      "cell_type": "code",
      "metadata": {
        "id": "HPasOeqMGFCL",
        "outputId": "2f4b5a7e-7140-4a05-cae7-13d74cbc094e",
        "colab": {
          "base_uri": "https://localhost:8080/",
          "height": 307
        }
      },
      "source": [
        "# Plot # of subscribers by day of the week\n",
        "plt.bar(counts_sub['day'], counts_sub['c'])\n",
        "labels = ['Mon', 'Tue', 'Wed', 'Thu', 'Fri', 'Sat', 'Sun']\n",
        "plt.xticks(ticks = counts_cus.index ,labels = labels, rotation = 'vertical')\n",
        "plt.xlabel('Day of Week')\n",
        "plt.ylabel('# of Subscribers')"
      ],
      "execution_count": null,
      "outputs": [
        {
          "output_type": "execute_result",
          "data": {
            "text/plain": [
              "Text(0, 0.5, '# of Subscribers')"
            ]
          },
          "metadata": {
            "tags": []
          },
          "execution_count": 7
        },
        {
          "output_type": "display_data",
          "data": {
            "image/png": "[encoded data removed]",
            "text/plain": [
              "<Figure size 432x288 with 1 Axes>"
            ]
          },
          "metadata": {
            "tags": [],
            "needs_background": "light"
          }
        }
      ]
    },
    {
      "cell_type": "code",
      "metadata": {
        "id": "TT5NH2TFJSjM",
        "outputId": "64678b43-23db-442c-d1ba-ef0d3adb7932",
        "colab": {
          "base_uri": "https://localhost:8080/",
          "height": 115
        }
      },
      "source": [
        "# Summary statistics for customers by day of week\n",
        "c_mean = cus['day'].mean()\n",
        "c_mode = cus['day'].mode()\n",
        "c_std = cus['day'].std()\n",
        "\n",
        "print('The average day that customers are riding is:')\n",
        "print(c_mean)\n",
        "\n",
        "print('The day that customers are riding the most is:')\n",
        "print(c_mode[0])\n",
        "\n",
        "print('The customers standard deviation is:')\n",
        "print(c_std)"
      ],
      "execution_count": null,
      "outputs": [
        {
          "output_type": "stream",
          "text": [
            "The average day that customers are riding is:\n",
            "3.3832180224465827\n",
            "The day that customers are riding the most is:\n",
            "5\n",
            "The customers standard deviation is:\n",
            "1.9858564965073362\n"
          ],
          "name": "stdout"
        }
      ]
    },
    {
      "cell_type": "markdown",
      "metadata": {
        "id": "S_nc210UVsn9"
      },
      "source": [
        "# FBB control the number of decimal digits you print - but also these days numbers do not mean anything: they should be mapped to days of the week"
      ]
    },
    {
      "cell_type": "code",
      "metadata": {
        "id": "iaiNxoGvV_eq",
        "outputId": "54176f88-5569-4405-f4b8-89ea98011d49",
        "colab": {
          "base_uri": "https://localhost:8080/",
          "height": 50
        }
      },
      "source": [
        "\n",
        "\n",
        "print('The average day that customers are riding is: {:s}'.format(\n",
        "              labels[int(c_mean + 0.5)]))\n",
        "\n",
        "print('The day that customers are riding the most is: {:s}'.format(\n",
        "              labels[int(c_mode[0] + 0.5)]))\n",
        "\n",
        "\n"
      ],
      "execution_count": null,
      "outputs": [
        {
          "output_type": "stream",
          "text": [
            "The average day that customers are riding is: Thu\n",
            "The day that customers are riding the most is: Sat\n"
          ],
          "name": "stdout"
        }
      ]
    },
    {
      "cell_type": "markdown",
      "metadata": {
        "id": "AG3efLZrWwsN"
      },
      "source": [
        "# FBB ^^^ and printed like this the concept of \"average day that customers are riding\" makes little sense. What does it actually mean?"
      ]
    },
    {
      "cell_type": "code",
      "metadata": {
        "id": "FIWyVvNUWWtA",
        "outputId": "d82eabb4-6c4b-469a-aa93-2dbf67af7ee1",
        "colab": {
          "base_uri": "https://localhost:8080/",
          "height": 66
        }
      },
      "source": [
        "\n",
        "\n",
        "print('The average day that customers are riding is: {:.2f}'.format(\n",
        "              c_mean))\n",
        "\n",
        "print('The day that customers are riding the most is: {:.2f}'.format(\n",
        "              c_mode[0]))\n",
        "\n",
        "print('The customers standard deviation is: {:.2f}'.format(\n",
        "              c_std))\n"
      ],
      "execution_count": null,
      "outputs": [
        {
          "output_type": "stream",
          "text": [
            "The average day that customers are riding is: 3.38\n",
            "The day that customers are riding the most is: 5.00\n",
            "The customers standard deviation is: 1.99\n"
          ],
          "name": "stdout"
        }
      ]
    },
    {
      "cell_type": "code",
      "metadata": {
        "id": "wN74JWqlKpY7",
        "outputId": "4dfdf694-bf4e-4852-f0d3-f4724a37b33f",
        "colab": {
          "base_uri": "https://localhost:8080/",
          "height": 115
        }
      },
      "source": [
        "# Summary statistics for subscribers by day of week\n",
        "s_mean = sub['day'].mean()\n",
        "s_mode = sub['day'].mode()\n",
        "s_std = sub['day'].std()\n",
        "\n",
        "print('The average day that subscribers are riding is:')\n",
        "print(s_mean)\n",
        "\n",
        "print('The day that subscribers are riding the most is:')\n",
        "print(s_mode[0])\n",
        "\n",
        "print('The subscribers standard deviation is:')\n",
        "print(s_std)"
      ],
      "execution_count": null,
      "outputs": [
        {
          "output_type": "stream",
          "text": [
            "The average day that subscribers are riding is:\n",
            "2.784000829449379\n",
            "The day that subscribers are riding the most is:\n",
            "2\n",
            "The subscribers standard deviation is:\n",
            "1.7338211759921858\n"
          ],
          "name": "stdout"
        }
      ]
    },
    {
      "cell_type": "code",
      "metadata": {
        "id": "3B581oaE5WV-"
      },
      "source": [
        "# Group by week day\n",
        "cb_weekday = cbMay19.loc[cbMay19['day'] < 5]"
      ],
      "execution_count": null,
      "outputs": []
    },
    {
      "cell_type": "code",
      "metadata": {
        "id": "XtSNv0Tz5uWu"
      },
      "source": [
        "# Group by weekend\n",
        "cb_weekend = cbMay19.loc[cbMay19['day'] > 5]"
      ],
      "execution_count": null,
      "outputs": []
    },
    {
      "cell_type": "markdown",
      "metadata": {
        "id": "_OqKK08HXEwr"
      },
      "source": [
        "# FBB ^^^ what happens to saturday! cb_weekday should be >=5"
      ]
    },
    {
      "cell_type": "code",
      "metadata": {
        "id": "VyJMxE2X_oiv"
      },
      "source": [
        "# Calculate proportion of customers to subscribers on the weekend\n",
        "weekend_s = cb_weekend.loc[cb_weekend['usertype'] == 'Subscriber']\n",
        "weekend_c = cb_weekend.loc[cb_weekend['usertype'] == 'Customer']\n",
        "p0 = len(weekend_c) / len(weekend_s)\n",
        "n0 = len(cb_weekend)"
      ],
      "execution_count": null,
      "outputs": []
    },
    {
      "cell_type": "code",
      "metadata": {
        "id": "q_Oy5hXW6Zdk"
      },
      "source": [
        "# Calculate proportion of customers to subscribers on the weekday\n",
        "weekday_s = cb_weekday.loc[cb_weekday['usertype'] == 'Subscriber']\n",
        "weekday_c = cb_weekday.loc[cb_weekday['usertype'] == 'Customer']\n",
        "p1 = len(weekday_c) / len(weekday_s)\n",
        "n1 = len(cb_weekday)"
      ],
      "execution_count": null,
      "outputs": []
    },
    {
      "cell_type": "code",
      "metadata": {
        "id": "K6c_w96072gl",
        "outputId": "32980839-082b-4286-818a-e73e4a890977",
        "colab": {
          "base_uri": "https://localhost:8080/",
          "height": 50
        }
      },
      "source": [
        "# Determine if weekend proportion is larger than weekday proportion\n",
        "P0mP1 = p0 - p1\n",
        "print (\"difference between customer:subscriber on weekend to weekday: {:.2f}\".format(P0mP1))\n",
        "if P0mP1 <= 0:\n",
        "    # we are done...\n",
        "    print(\"In accordance with Null Hypothesis\")\n",
        "else:\n",
        "    # morework to do\n",
        "    print (\"We must check the significance before we reject the Null Hypothesis\")\n"
      ],
      "execution_count": null,
      "outputs": [
        {
          "output_type": "stream",
          "text": [
            "difference between customer:subscriber on weekend to weekday: 0.24\n",
            "We must check the significance before we reject the Null Hypothesis\n"
          ],
          "name": "stdout"
        }
      ]
    },
    {
      "cell_type": "code",
      "metadata": {
        "id": "hlaDZz0s8sSy",
        "outputId": "708cafd1-6b7d-4b10-d0c9-253afab08b35",
        "colab": {
          "base_uri": "https://localhost:8080/",
          "height": 33
        }
      },
      "source": [
        "# Calculate Statistics\n",
        "def ztest_p(p0, p1, n0, n1): \n",
        "  return (p0 * n0 + p1 * n1) / (n0 + n1)\n",
        "def ztest_se(p0, p1, n0, n1):\n",
        "  p = ztest_p(p0, p1, n0, n1)\n",
        "  return np.sqrt(p * (1 - p) * (1.0 / n0 + 1.0 / n1)) #standard error\n",
        "def zscore(p0, p1, n0, n1) : \n",
        "  return (p0 - p1) / ztest_se(p0, p1, n0, n1)\n",
        "\n",
        "# calculations\n",
        "\n",
        "z = zscore(p0, p1, n0, n1)\n",
        "print (\"The z statistics is %.2f\"%z) "
      ],
      "execution_count": null,
      "outputs": [
        {
          "output_type": "stream",
          "text": [
            "The z statistics is 246.11\n"
          ],
          "name": "stdout"
        }
      ]
    },
    {
      "cell_type": "markdown",
      "metadata": {
        "id": "pJs91Ox8Ixq1"
      },
      "source": [
        "This high z-score means that we reject the Null Hypothesis. So the proportion of customers to subscribers on the weekend is significantly higher than customers to subscribers on the weekdays. "
      ]
    },
    {
      "cell_type": "code",
      "metadata": {
        "id": "Dx63YvMB-eXp",
        "outputId": "9889e28c-6951-411a-c9d2-5d409b5cf20c",
        "colab": {
          "base_uri": "https://localhost:8080/",
          "height": 33
        }
      },
      "source": [
        "# Calculating Cohen's effect size\n",
        "def r_effectsize (z, n0, n1) :\n",
        "  return z / np.sqrt(n0 + n0)\n",
        "def h_effectsize (p0, p1): \n",
        "  return 2 * (np.arcsin(np.sqrt(p0)) - np.arcsin(np.sqrt(p1)))\n",
        "\n",
        "r = r_effectsize(z, n0, n1)\n",
        "print ('r effect size {:.2f}'.format(r))"
      ],
      "execution_count": null,
      "outputs": [
        {
          "output_type": "stream",
          "text": [
            "r effect size 0.45\n"
          ],
          "name": "stdout"
        }
      ]
    },
    {
      "cell_type": "code",
      "metadata": {
        "id": "mNSHm5kwOSku",
        "outputId": "ab8375e0-e795-4d87-ad69-911d9f74e0ed",
        "colab": {
          "base_uri": "https://localhost:8080/",
          "height": 33
        }
      },
      "source": [
        "h = h_effectsize(p0, p1)\n",
        "print (\"Cohen's h effect size {:.2f}\".format(h))"
      ],
      "execution_count": null,
      "outputs": [
        {
          "output_type": "stream",
          "text": [
            "Cohen's h effect size 0.57\n"
          ],
          "name": "stdout"
        }
      ]
    },
    {
      "cell_type": "markdown",
      "metadata": {
        "id": "t6GnMICWOc41"
      },
      "source": [
        "Because h is around .5 we have a medium effect size."
      ]
    },
    {
      "cell_type": "markdown",
      "metadata": {
        "id": "X0PddeKoOgN7"
      },
      "source": [
        "# FBB good"
      ]
    },
    {
      "cell_type": "code",
      "metadata": {
        "id": "XIcK4AGBXtWL"
      },
      "source": [
        ""
      ],
      "execution_count": null,
      "outputs": []
    }
  ]
}