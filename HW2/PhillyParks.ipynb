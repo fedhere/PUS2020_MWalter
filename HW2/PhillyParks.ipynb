{
  "nbformat": 4,
  "nbformat_minor": 0,
  "metadata": {
    "colab": {
      "name": "PhillyParks",
      "provenance": [],
      "collapsed_sections": [],
      "include_colab_link": true
    },
    "kernelspec": {
      "name": "python3",
      "display_name": "Python 3"
    }
  },
  "cells": [
    {
      "cell_type": "markdown",
      "metadata": {
        "id": "view-in-github",
        "colab_type": "text"
      },
      "source": [
        "<a href=\"https://colab.research.google.com/github/smwalter96/PUS2020_MWalter/blob/master/HW2/PhillyParks.ipynb\" target=\"_parent\"><img src=\"https://colab.research.google.com/assets/colab-badge.svg\" alt=\"Open In Colab\"/></a>"
      ]
    },
    {
      "cell_type": "markdown",
      "metadata": {
        "id": "8f3dS08NNI9L",
        "colab_type": "text"
      },
      "source": [
        "# HW2 : Summary statistics\n",
        "\n",
        "this homework performs strictly an exploratory analysis of the data\n",
        "\n",
        "Consult the https://www.cin.ufpe.br/~embat/Python%20for%20Data%20Analysis.pdf Python for Data Analysis book (pandas book) chapter 7 or this digital rendition of its content here https://github.com/fedhere/PUS2020_FBianco/blob/master/HW2/PandasCh7.ipynb. \n",
        "\n",
        "Also use the code examples in the folder classdemo https://github.com/fedhere/PUS2020_FBianco/tree/master/classdemo\n",
        "\n",
        "**important**\n",
        "turn in the notebook by uploading it to your github repository in a folder called HW2. Before you uploade the notebook make sure you \n",
        "- click above: Runtime -> Restart and run all\n",
        "\n",
        "this will assure that your notebook has not bugs due to running the cells of code out of order.\n"
      ]
    },
    {
      "cell_type": "code",
      "metadata": {
        "id": "bsvHG4L8PCGj",
        "colab_type": "code",
        "colab": {}
      },
      "source": [
        "# you should only need the packathon pandas\n",
        "import pandas as pd"
      ],
      "execution_count": 1,
      "outputs": []
    },
    {
      "cell_type": "markdown",
      "metadata": {
        "id": "_V7he_fTwTGX",
        "colab_type": "text"
      },
      "source": [
        "## Read in the data about the Philly parks \n",
        "you can find the data at \n",
        "http://data-phl.opendata.arcgis.com/datasets/d52445160ab14380a673e5849203eb64_0.csv\")"
      ]
    },
    {
      "cell_type": "code",
      "metadata": {
        "id": "O1W1r9xAPWSG",
        "colab_type": "code",
        "colab": {}
      },
      "source": [
        "pparks = pd.read_csv('http://data-phl.opendata.arcgis.com/datasets/d52445160ab14380a673e5849203eb64_0.csv')"
      ],
      "execution_count": 2,
      "outputs": []
    },
    {
      "cell_type": "code",
      "metadata": {
        "id": "16pd9FMlPpBA",
        "colab_type": "code",
        "colab": {
          "base_uri": "https://localhost:8080/",
          "height": 34
        },
        "outputId": "c0569a48-294d-452a-ec47-bf9779e8f872"
      },
      "source": [
        "# show the shape of the parks file dataframe\n",
        "pparks.shape"
      ],
      "execution_count": 3,
      "outputs": [
        {
          "output_type": "execute_result",
          "data": {
            "text/plain": [
              "(522, 25)"
            ]
          },
          "metadata": {
            "tags": []
          },
          "execution_count": 3
        }
      ]
    },
    {
      "cell_type": "code",
      "metadata": {
        "id": "pJePpswvLoNU",
        "colab_type": "code",
        "colab": {
          "base_uri": "https://localhost:8080/",
          "height": 138
        },
        "outputId": "93da12ad-9b81-4bd8-ffd2-344d580e1d0a"
      },
      "source": [
        "pparks.columns"
      ],
      "execution_count": 4,
      "outputs": [
        {
          "output_type": "execute_result",
          "data": {
            "text/plain": [
              "Index(['OBJECTID', 'PUBLIC_NAME', 'PARENT_NAME', 'NESTED', 'OFFICIAL_NAME',\n",
              "       'LABEL', 'ALIAS', 'DPP_ASSET_ID', 'ADDRESS911', 'ZIPCODE',\n",
              "       'ADDRESS_BRT', 'ALIAS_ADDRESS', 'ACREAGE', 'PROPERTY_CLASSIFICATION',\n",
              "       'PPR_USE', 'PPR_DISTRICT', 'PPR_OPS_DISTRICT', 'COUNCIL_DISTRICT',\n",
              "       'POLICE_DISTRICT', 'CITY_SCALE_MAPS', 'LOCAL_SCALE_MAPS',\n",
              "       'PROGRAM_SITES', 'COMMENTS', 'Shape__Area', 'Shape__Length'],\n",
              "      dtype='object')"
            ]
          },
          "metadata": {
            "tags": []
          },
          "execution_count": 4
        }
      ]
    },
    {
      "cell_type": "code",
      "metadata": {
        "id": "zScLafiKMDCL",
        "colab_type": "code",
        "colab": {
          "base_uri": "https://localhost:8080/",
          "height": 462
        },
        "outputId": "9edfe829-b2cc-4b06-88ef-49ec4d7b1585"
      },
      "source": [
        "pparks.head()"
      ],
      "execution_count": 5,
      "outputs": [
        {
          "output_type": "execute_result",
          "data": {
            "text/html": [
              "<div>\n",
              "<style scoped>\n",
              "    .dataframe tbody tr th:only-of-type {\n",
              "        vertical-align: middle;\n",
              "    }\n",
              "\n",
              "    .dataframe tbody tr th {\n",
              "        vertical-align: top;\n",
              "    }\n",
              "\n",
              "    .dataframe thead th {\n",
              "        text-align: right;\n",
              "    }\n",
              "</style>\n",
              "<table border=\"1\" class=\"dataframe\">\n",
              "  <thead>\n",
              "    <tr style=\"text-align: right;\">\n",
              "      <th></th>\n",
              "      <th>OBJECTID</th>\n",
              "      <th>PUBLIC_NAME</th>\n",
              "      <th>PARENT_NAME</th>\n",
              "      <th>NESTED</th>\n",
              "      <th>OFFICIAL_NAME</th>\n",
              "      <th>LABEL</th>\n",
              "      <th>ALIAS</th>\n",
              "      <th>DPP_ASSET_ID</th>\n",
              "      <th>ADDRESS911</th>\n",
              "      <th>ZIPCODE</th>\n",
              "      <th>ADDRESS_BRT</th>\n",
              "      <th>ALIAS_ADDRESS</th>\n",
              "      <th>ACREAGE</th>\n",
              "      <th>PROPERTY_CLASSIFICATION</th>\n",
              "      <th>PPR_USE</th>\n",
              "      <th>PPR_DISTRICT</th>\n",
              "      <th>PPR_OPS_DISTRICT</th>\n",
              "      <th>COUNCIL_DISTRICT</th>\n",
              "      <th>POLICE_DISTRICT</th>\n",
              "      <th>CITY_SCALE_MAPS</th>\n",
              "      <th>LOCAL_SCALE_MAPS</th>\n",
              "      <th>PROGRAM_SITES</th>\n",
              "      <th>COMMENTS</th>\n",
              "      <th>Shape__Area</th>\n",
              "      <th>Shape__Length</th>\n",
              "    </tr>\n",
              "  </thead>\n",
              "  <tbody>\n",
              "    <tr>\n",
              "      <th>0</th>\n",
              "      <td>1</td>\n",
              "      <td>William H (Billy) Markward Memorial Playground</td>\n",
              "      <td>Schuylkill River Park</td>\n",
              "      <td>Y</td>\n",
              "      <td>William H. (Billy) Markward Memorial Playground</td>\n",
              "      <td>Markward</td>\n",
              "      <td>NaN</td>\n",
              "      <td>1903</td>\n",
              "      <td>400 S TANEY ST</td>\n",
              "      <td>19146</td>\n",
              "      <td>400-16 S TANEY ST, 338-46 S 26TH ST, 300 S 26T...</td>\n",
              "      <td>400-16 S TANEY ST;Pine &amp; Taney;338-46 S 26TH S...</td>\n",
              "      <td>3.379158</td>\n",
              "      <td>NEIGHBORHOOD_PARK</td>\n",
              "      <td>RECREATION_SITE</td>\n",
              "      <td>7</td>\n",
              "      <td>5, 7</td>\n",
              "      <td>2</td>\n",
              "      <td>9</td>\n",
              "      <td>Y</td>\n",
              "      <td>Y</td>\n",
              "      <td>Y</td>\n",
              "      <td>NaN</td>\n",
              "      <td>23295.664062</td>\n",
              "      <td>892.868012</td>\n",
              "    </tr>\n",
              "    <tr>\n",
              "      <th>1</th>\n",
              "      <td>2</td>\n",
              "      <td>Schuylkill Banks</td>\n",
              "      <td>Schuylkill Banks</td>\n",
              "      <td>N</td>\n",
              "      <td>NaN</td>\n",
              "      <td>Schuylkill Banks</td>\n",
              "      <td>NaN</td>\n",
              "      <td>2794</td>\n",
              "      <td>400 S TANEY ST</td>\n",
              "      <td>19103</td>\n",
              "      <td>NaN</td>\n",
              "      <td>400-16 S TANEY ST</td>\n",
              "      <td>14.717314</td>\n",
              "      <td>NEIGHBORHOOD_PARK</td>\n",
              "      <td>GREENWAY_PARKWAY</td>\n",
              "      <td>7</td>\n",
              "      <td>5, 7</td>\n",
              "      <td>2, 5</td>\n",
              "      <td>9, 17</td>\n",
              "      <td>Y</td>\n",
              "      <td>Y</td>\n",
              "      <td>N</td>\n",
              "      <td>Bill 160113 (4/14/16) -South of South St Bridge</td>\n",
              "      <td>101477.179688</td>\n",
              "      <td>9300.670289</td>\n",
              "    </tr>\n",
              "    <tr>\n",
              "      <th>2</th>\n",
              "      <td>3</td>\n",
              "      <td>Schuylkill River Park</td>\n",
              "      <td>Schuylkill River Park</td>\n",
              "      <td>N</td>\n",
              "      <td>NaN</td>\n",
              "      <td>Schuylkill River Park</td>\n",
              "      <td>NaN</td>\n",
              "      <td>2992</td>\n",
              "      <td>400 S TANEY ST</td>\n",
              "      <td>19146</td>\n",
              "      <td>400-16 S TANEY ST, 338-46 S 26TH ST, 300 S 26T...</td>\n",
              "      <td>Pine &amp; Taney;400-16 S TANEY ST, 338-46 S 26TH ...</td>\n",
              "      <td>7.327000</td>\n",
              "      <td>NEIGHBORHOOD_PARK</td>\n",
              "      <td>RECREATION_SITE</td>\n",
              "      <td>7</td>\n",
              "      <td>5, 7</td>\n",
              "      <td>2</td>\n",
              "      <td>9</td>\n",
              "      <td>Y</td>\n",
              "      <td>Y</td>\n",
              "      <td>N</td>\n",
              "      <td>NaN</td>\n",
              "      <td>50512.582031</td>\n",
              "      <td>1259.304657</td>\n",
              "    </tr>\n",
              "    <tr>\n",
              "      <th>3</th>\n",
              "      <td>4</td>\n",
              "      <td>Frankford Boat Launch</td>\n",
              "      <td>Frankford Boat Launch</td>\n",
              "      <td>N</td>\n",
              "      <td>Frankford Boat Launch</td>\n",
              "      <td>Frankford Boat Launch</td>\n",
              "      <td>PA Fish &amp; Boat;Frankford Arsenal Boat Launch</td>\n",
              "      <td>3090</td>\n",
              "      <td>5625 TACONY ST</td>\n",
              "      <td>19137</td>\n",
              "      <td>5625 TACONY ST</td>\n",
              "      <td>5650 Tacony St</td>\n",
              "      <td>19.398075</td>\n",
              "      <td>NEIGHBORHOOD_PARK</td>\n",
              "      <td>BOATHOUSE_LAUNCH</td>\n",
              "      <td>2</td>\n",
              "      <td>2</td>\n",
              "      <td>6</td>\n",
              "      <td>15</td>\n",
              "      <td>Y</td>\n",
              "      <td>Y</td>\n",
              "      <td>N</td>\n",
              "      <td>NaN</td>\n",
              "      <td>133961.171875</td>\n",
              "      <td>1641.529044</td>\n",
              "    </tr>\n",
              "    <tr>\n",
              "      <th>4</th>\n",
              "      <td>5</td>\n",
              "      <td>Orthodox Street Park</td>\n",
              "      <td>Orthodox Street Park</td>\n",
              "      <td>N</td>\n",
              "      <td>NaN</td>\n",
              "      <td>Orthodox</td>\n",
              "      <td>Orthodox Street Parcel; Bridesburg Riverfront ...</td>\n",
              "      <td>3091</td>\n",
              "      <td>3101 ORTHODOX ST</td>\n",
              "      <td>19137</td>\n",
              "      <td>3101 ORTHODOX ST</td>\n",
              "      <td>NaN</td>\n",
              "      <td>16.229629</td>\n",
              "      <td>NEIGHBORHOOD_PARK</td>\n",
              "      <td>UNDEVELOPED</td>\n",
              "      <td>5</td>\n",
              "      <td>2</td>\n",
              "      <td>6</td>\n",
              "      <td>15</td>\n",
              "      <td>Y</td>\n",
              "      <td>Y</td>\n",
              "      <td>N</td>\n",
              "      <td>Officially acquired from PAID in 10/2019. Doc ...</td>\n",
              "      <td>112026.734375</td>\n",
              "      <td>1679.085206</td>\n",
              "    </tr>\n",
              "  </tbody>\n",
              "</table>\n",
              "</div>"
            ],
            "text/plain": [
              "   OBJECTID  ... Shape__Length\n",
              "0         1  ...    892.868012\n",
              "1         2  ...   9300.670289\n",
              "2         3  ...   1259.304657\n",
              "3         4  ...   1641.529044\n",
              "4         5  ...   1679.085206\n",
              "\n",
              "[5 rows x 25 columns]"
            ]
          },
          "metadata": {
            "tags": []
          },
          "execution_count": 5
        }
      ]
    },
    {
      "cell_type": "code",
      "metadata": {
        "id": "fskIVgPM3ZnC",
        "colab_type": "code",
        "colab": {
          "base_uri": "https://localhost:8080/",
          "height": 393
        },
        "outputId": "2503c7b9-1c02-4d5f-f0df-f5da81e780e2"
      },
      "source": [
        "pparks.tail()"
      ],
      "execution_count": 6,
      "outputs": [
        {
          "output_type": "execute_result",
          "data": {
            "text/html": [
              "<div>\n",
              "<style scoped>\n",
              "    .dataframe tbody tr th:only-of-type {\n",
              "        vertical-align: middle;\n",
              "    }\n",
              "\n",
              "    .dataframe tbody tr th {\n",
              "        vertical-align: top;\n",
              "    }\n",
              "\n",
              "    .dataframe thead th {\n",
              "        text-align: right;\n",
              "    }\n",
              "</style>\n",
              "<table border=\"1\" class=\"dataframe\">\n",
              "  <thead>\n",
              "    <tr style=\"text-align: right;\">\n",
              "      <th></th>\n",
              "      <th>OBJECTID</th>\n",
              "      <th>PUBLIC_NAME</th>\n",
              "      <th>PARENT_NAME</th>\n",
              "      <th>NESTED</th>\n",
              "      <th>OFFICIAL_NAME</th>\n",
              "      <th>LABEL</th>\n",
              "      <th>ALIAS</th>\n",
              "      <th>DPP_ASSET_ID</th>\n",
              "      <th>ADDRESS911</th>\n",
              "      <th>ZIPCODE</th>\n",
              "      <th>ADDRESS_BRT</th>\n",
              "      <th>ALIAS_ADDRESS</th>\n",
              "      <th>ACREAGE</th>\n",
              "      <th>PROPERTY_CLASSIFICATION</th>\n",
              "      <th>PPR_USE</th>\n",
              "      <th>PPR_DISTRICT</th>\n",
              "      <th>PPR_OPS_DISTRICT</th>\n",
              "      <th>COUNCIL_DISTRICT</th>\n",
              "      <th>POLICE_DISTRICT</th>\n",
              "      <th>CITY_SCALE_MAPS</th>\n",
              "      <th>LOCAL_SCALE_MAPS</th>\n",
              "      <th>PROGRAM_SITES</th>\n",
              "      <th>COMMENTS</th>\n",
              "      <th>Shape__Area</th>\n",
              "      <th>Shape__Length</th>\n",
              "    </tr>\n",
              "  </thead>\n",
              "  <tbody>\n",
              "    <tr>\n",
              "      <th>517</th>\n",
              "      <td>518</td>\n",
              "      <td>Sedgely and Fletcher Warehouse</td>\n",
              "      <td>Sedgely and Fletcher Warehouse</td>\n",
              "      <td>N</td>\n",
              "      <td>NaN</td>\n",
              "      <td>Sedgely Warehouse</td>\n",
              "      <td>Sedgley Storeroom;Maintenance Warehouse</td>\n",
              "      <td>99999</td>\n",
              "      <td>2528 W SEDGLEY AVE</td>\n",
              "      <td>19132</td>\n",
              "      <td>2528-34 W SEDGLEY AVE</td>\n",
              "      <td>W Sedgley Ave &amp; N 26th St;2528-34 W SEDGLEY AVE</td>\n",
              "      <td>0.773902</td>\n",
              "      <td>NEIGHBORHOOD_PARK</td>\n",
              "      <td>OPERATIONS</td>\n",
              "      <td>6</td>\n",
              "      <td>6</td>\n",
              "      <td>5</td>\n",
              "      <td>22</td>\n",
              "      <td>N</td>\n",
              "      <td>Y</td>\n",
              "      <td>N</td>\n",
              "      <td>School District leases to PPR.</td>\n",
              "      <td>5341.640625</td>\n",
              "      <td>356.178092</td>\n",
              "    </tr>\n",
              "    <tr>\n",
              "      <th>518</th>\n",
              "      <td>519</td>\n",
              "      <td>Fox Chase - Lorimer Trail Greenway (Rhawn)</td>\n",
              "      <td>Fox Chase - Lorimer Trail Greenway (Rhawn)</td>\n",
              "      <td>N</td>\n",
              "      <td>NaN</td>\n",
              "      <td>Fox Chase - Lorimer Greenway</td>\n",
              "      <td>NaN</td>\n",
              "      <td>99999</td>\n",
              "      <td>439 RHAWN ST</td>\n",
              "      <td>19111</td>\n",
              "      <td>NaN</td>\n",
              "      <td>Rhawn St and Elberon Ave;8217 BURHOLME AVE</td>\n",
              "      <td>3.589356</td>\n",
              "      <td>NEIGHBORHOOD_PARK</td>\n",
              "      <td>UNDEVELOPED</td>\n",
              "      <td>1</td>\n",
              "      <td>1</td>\n",
              "      <td>10</td>\n",
              "      <td>7</td>\n",
              "      <td>Y</td>\n",
              "      <td>Y</td>\n",
              "      <td>N</td>\n",
              "      <td>No Public Access. Undeveloped Land awaiting Fo...</td>\n",
              "      <td>24840.667969</td>\n",
              "      <td>2152.448099</td>\n",
              "    </tr>\n",
              "    <tr>\n",
              "      <th>519</th>\n",
              "      <td>520</td>\n",
              "      <td>Bartrams Mile Trail Greenway</td>\n",
              "      <td>Bartrams Mile Trail Greenway</td>\n",
              "      <td>N</td>\n",
              "      <td>NaN</td>\n",
              "      <td>Bartrams Trail Greenway</td>\n",
              "      <td>Bartram's Mile; Bartrams South</td>\n",
              "      <td>0</td>\n",
              "      <td>NaN</td>\n",
              "      <td>19143</td>\n",
              "      <td>NaN</td>\n",
              "      <td>NaN</td>\n",
              "      <td>9.217030</td>\n",
              "      <td>NEIGHBORHOOD_PARK</td>\n",
              "      <td>GREENWAY_PARKWAY</td>\n",
              "      <td>9</td>\n",
              "      <td>8</td>\n",
              "      <td>3</td>\n",
              "      <td>12,18</td>\n",
              "      <td>Y</td>\n",
              "      <td>N</td>\n",
              "      <td>N</td>\n",
              "      <td>In Development</td>\n",
              "      <td>63509.933594</td>\n",
              "      <td>2635.375719</td>\n",
              "    </tr>\n",
              "    <tr>\n",
              "      <th>520</th>\n",
              "      <td>521</td>\n",
              "      <td>Loretto and Gilham Triangle</td>\n",
              "      <td>Loretto and Gilham Triangle</td>\n",
              "      <td>N</td>\n",
              "      <td>NaN</td>\n",
              "      <td>Loretto and Gilham</td>\n",
              "      <td>Cranford Ave andd Magee Ave Traffic Island; No...</td>\n",
              "      <td>245</td>\n",
              "      <td>1385 GILHAM ST</td>\n",
              "      <td>19111</td>\n",
              "      <td>Registry - 144N070092</td>\n",
              "      <td>6540 LORETTO AVE</td>\n",
              "      <td>0.161596</td>\n",
              "      <td>POCKET_PARK</td>\n",
              "      <td>BREEZEWAY_ISLAND</td>\n",
              "      <td>1</td>\n",
              "      <td>2</td>\n",
              "      <td>9</td>\n",
              "      <td>2</td>\n",
              "      <td>Y</td>\n",
              "      <td>Y</td>\n",
              "      <td>N</td>\n",
              "      <td>NaN</td>\n",
              "      <td>1116.867188</td>\n",
              "      <td>144.694698</td>\n",
              "    </tr>\n",
              "    <tr>\n",
              "      <th>521</th>\n",
              "      <td>522</td>\n",
              "      <td>Rail Park</td>\n",
              "      <td>Rail Park</td>\n",
              "      <td>N</td>\n",
              "      <td>The Rail Park</td>\n",
              "      <td>Rail Park</td>\n",
              "      <td>NaN</td>\n",
              "      <td>99999</td>\n",
              "      <td>1250 NOBLE ST</td>\n",
              "      <td>19123</td>\n",
              "      <td>NaN</td>\n",
              "      <td>1136 CALLOWHILL ST</td>\n",
              "      <td>0.872112</td>\n",
              "      <td>NEIGHBORHOOD_PARK</td>\n",
              "      <td>GREENWAY_PARKWAY</td>\n",
              "      <td>10</td>\n",
              "      <td>5</td>\n",
              "      <td>1</td>\n",
              "      <td>6</td>\n",
              "      <td>Y</td>\n",
              "      <td>Y</td>\n",
              "      <td>N</td>\n",
              "      <td>Elevated former railway.</td>\n",
              "      <td>6009.941406</td>\n",
              "      <td>825.079151</td>\n",
              "    </tr>\n",
              "  </tbody>\n",
              "</table>\n",
              "</div>"
            ],
            "text/plain": [
              "     OBJECTID  ... Shape__Length\n",
              "517       518  ...    356.178092\n",
              "518       519  ...   2152.448099\n",
              "519       520  ...   2635.375719\n",
              "520       521  ...    144.694698\n",
              "521       522  ...    825.079151\n",
              "\n",
              "[5 rows x 25 columns]"
            ]
          },
          "metadata": {
            "tags": []
          },
          "execution_count": 6
        }
      ]
    },
    {
      "cell_type": "markdown",
      "metadata": {
        "id": "EyfxxJTQ1oKR",
        "colab_type": "text"
      },
      "source": [
        "## meausre the central tendency of the Philly park sizes\n",
        "measure the mean and the median and compare them"
      ]
    },
    {
      "cell_type": "code",
      "metadata": {
        "id": "Z57bH4c99E_k",
        "colab_type": "code",
        "colab": {}
      },
      "source": [
        "meanps = pparks['ACREAGE'].mean()"
      ],
      "execution_count": 7,
      "outputs": []
    },
    {
      "cell_type": "code",
      "metadata": {
        "id": "Sa8T8XRv9HNW",
        "colab_type": "code",
        "colab": {}
      },
      "source": [
        "# show the median size of the dataframe \n",
        "# are they the same? \n",
        "medianps =  pparks['ACREAGE'].median()"
      ],
      "execution_count": 8,
      "outputs": []
    },
    {
      "cell_type": "code",
      "metadata": {
        "id": "_Pu7lcBpNH6E",
        "colab_type": "code",
        "colab": {
          "base_uri": "https://localhost:8080/",
          "height": 52
        },
        "outputId": "c16e1934-4076-4014-eea3-75474c4d4fa5"
      },
      "source": [
        "print('Mean:', meanps)\n",
        "print('Median:', medianps)"
      ],
      "execution_count": 9,
      "outputs": [
        {
          "output_type": "stream",
          "text": [
            "Mean: 23.238296223045964\n",
            "Median: 3.59385373\n"
          ],
          "name": "stdout"
        }
      ]
    },
    {
      "cell_type": "markdown",
      "metadata": {
        "id": "tMGgOIF374IN",
        "colab_type": "text"
      },
      "source": [
        "what can you conclude from \n",
        " the values of the mean and median you extracted? (discuss in a text cell below)"
      ]
    },
    {
      "cell_type": "markdown",
      "metadata": {
        "id": "m76zRkHWNdnO",
        "colab_type": "text"
      },
      "source": [
        "The mean is significantly larger than the median. This indicates that the dataset has a lot of outliers and that the dataset is skewed to the right."
      ]
    },
    {
      "cell_type": "code",
      "metadata": {
        "id": "e6NnAT2NN7mr",
        "colab_type": "code",
        "colab": {
          "base_uri": "https://localhost:8080/",
          "height": 330
        },
        "outputId": "035b3cff-93c4-4615-e9b6-9c7a85b05b20"
      },
      "source": [
        "# visualize a histogram of the park size. \n",
        "# you can use the method of the ACREAGE column .hist()\n",
        "# choose an appropriate number of bins with the argument bins=\n",
        "# overplot on the histogram the mean and the median of the distribution\n",
        "ax = pparks.ACREAGE.hist(bins=30)\n",
        "ax.set_xlabel('Philly park size (acres)')\n",
        "ax.axvline(meanps, color='orange', linestyle='solid', linewidth=1.5, alpha = .8)\n",
        "ax.axvline(medianps, color='green', linestyle='solid', linewidth=1.5, alpha = .8)\n",
        "ax.legend([meanps, medianps], labels = ['mean', 'median'])\n"
      ],
      "execution_count": 10,
      "outputs": [
        {
          "output_type": "stream",
          "text": [
            "/usr/local/lib/python3.6/dist-packages/ipykernel_launcher.py:9: UserWarning: You have mixed positional and keyword arguments, some input may be discarded.\n",
            "  if __name__ == '__main__':\n"
          ],
          "name": "stderr"
        },
        {
          "output_type": "execute_result",
          "data": {
            "text/plain": [
              "<matplotlib.legend.Legend at 0x7f34d4324320>"
            ]
          },
          "metadata": {
            "tags": []
          },
          "execution_count": 10
        },
        {
          "output_type": "display_data",
          "data": {
            "image/png": "[encoded data removed]",
            "text/plain": [
              "<Figure size 432x288 with 1 Axes>"
            ]
          },
          "metadata": {
            "tags": [],
            "needs_background": "light"
          }
        }
      ]
    },
    {
      "cell_type": "markdown",
      "metadata": {
        "id": "CIT4FVfp00jW",
        "colab_type": "text"
      },
      "source": [
        "\n",
        "Figure Caption: This figure shows the ditrubition of park sizes in Philadelphia. Mean is also plotted in orange\n",
        " while median is plotted in green. The majority of parks are shown to be in the first bin of just over 0 acres. However, there are a few outliers with sizes of over 500, 1000, and 2000 acres.  The mean is larger than the median, indicating outliers to the right of the distribution.\n"
      ]
    },
    {
      "cell_type": "markdown",
      "metadata": {
        "id": "VlJDAh6s1ESG",
        "colab_type": "text"
      },
      "source": [
        "## what is the spread of park sizes?\n",
        "calculate the standard deviation of the park sized"
      ]
    },
    {
      "cell_type": "code",
      "metadata": {
        "id": "oFarBw6i2GFG",
        "colab_type": "code",
        "colab": {
          "base_uri": "https://localhost:8080/",
          "height": 34
        },
        "outputId": "151d2953-d16b-4ecf-d9b6-3ea3ad166ce0"
      },
      "source": [
        "stdps = pparks['ACREAGE'].std()\n",
        "stdps"
      ],
      "execution_count": 11,
      "outputs": [
        {
          "output_type": "execute_result",
          "data": {
            "text/plain": [
              "131.88319179881643"
            ]
          },
          "metadata": {
            "tags": []
          },
          "execution_count": 11
        }
      ]
    },
    {
      "cell_type": "markdown",
      "metadata": {
        "id": "3av2lwsDx3vu",
        "colab_type": "text"
      },
      "source": [
        "## select only a subset of the parks: the pasks smaller than 10 acres\n",
        "calculate the mean and median and plot a histogram of the park sized with the mean and median indicated on the plot"
      ]
    },
    {
      "cell_type": "code",
      "metadata": {
        "id": "W1VG04qRr1VP",
        "colab_type": "code",
        "colab": {
          "base_uri": "https://localhost:8080/",
          "height": 289
        },
        "outputId": "ff39232c-c004-40f7-aa7a-ecedbc0c2a8b"
      },
      "source": [
        "# Select parks smaller than 10 acres\n",
        "psmall = pparks.loc[pparks['ACREAGE'] < 10]\n",
        "psmall.head()"
      ],
      "execution_count": 12,
      "outputs": [
        {
          "output_type": "execute_result",
          "data": {
            "text/html": [
              "<div>\n",
              "<style scoped>\n",
              "    .dataframe tbody tr th:only-of-type {\n",
              "        vertical-align: middle;\n",
              "    }\n",
              "\n",
              "    .dataframe tbody tr th {\n",
              "        vertical-align: top;\n",
              "    }\n",
              "\n",
              "    .dataframe thead th {\n",
              "        text-align: right;\n",
              "    }\n",
              "</style>\n",
              "<table border=\"1\" class=\"dataframe\">\n",
              "  <thead>\n",
              "    <tr style=\"text-align: right;\">\n",
              "      <th></th>\n",
              "      <th>OBJECTID</th>\n",
              "      <th>PUBLIC_NAME</th>\n",
              "      <th>PARENT_NAME</th>\n",
              "      <th>NESTED</th>\n",
              "      <th>OFFICIAL_NAME</th>\n",
              "      <th>LABEL</th>\n",
              "      <th>ALIAS</th>\n",
              "      <th>DPP_ASSET_ID</th>\n",
              "      <th>ADDRESS911</th>\n",
              "      <th>ZIPCODE</th>\n",
              "      <th>ADDRESS_BRT</th>\n",
              "      <th>ALIAS_ADDRESS</th>\n",
              "      <th>ACREAGE</th>\n",
              "      <th>PROPERTY_CLASSIFICATION</th>\n",
              "      <th>PPR_USE</th>\n",
              "      <th>PPR_DISTRICT</th>\n",
              "      <th>PPR_OPS_DISTRICT</th>\n",
              "      <th>COUNCIL_DISTRICT</th>\n",
              "      <th>POLICE_DISTRICT</th>\n",
              "      <th>CITY_SCALE_MAPS</th>\n",
              "      <th>LOCAL_SCALE_MAPS</th>\n",
              "      <th>PROGRAM_SITES</th>\n",
              "      <th>COMMENTS</th>\n",
              "      <th>Shape__Area</th>\n",
              "      <th>Shape__Length</th>\n",
              "    </tr>\n",
              "  </thead>\n",
              "  <tbody>\n",
              "    <tr>\n",
              "      <th>0</th>\n",
              "      <td>1</td>\n",
              "      <td>William H (Billy) Markward Memorial Playground</td>\n",
              "      <td>Schuylkill River Park</td>\n",
              "      <td>Y</td>\n",
              "      <td>William H. (Billy) Markward Memorial Playground</td>\n",
              "      <td>Markward</td>\n",
              "      <td>NaN</td>\n",
              "      <td>1903</td>\n",
              "      <td>400 S TANEY ST</td>\n",
              "      <td>19146</td>\n",
              "      <td>400-16 S TANEY ST, 338-46 S 26TH ST, 300 S 26T...</td>\n",
              "      <td>400-16 S TANEY ST;Pine &amp; Taney;338-46 S 26TH S...</td>\n",
              "      <td>3.379158</td>\n",
              "      <td>NEIGHBORHOOD_PARK</td>\n",
              "      <td>RECREATION_SITE</td>\n",
              "      <td>7</td>\n",
              "      <td>5, 7</td>\n",
              "      <td>2</td>\n",
              "      <td>9</td>\n",
              "      <td>Y</td>\n",
              "      <td>Y</td>\n",
              "      <td>Y</td>\n",
              "      <td>NaN</td>\n",
              "      <td>23295.664062</td>\n",
              "      <td>892.868012</td>\n",
              "    </tr>\n",
              "    <tr>\n",
              "      <th>2</th>\n",
              "      <td>3</td>\n",
              "      <td>Schuylkill River Park</td>\n",
              "      <td>Schuylkill River Park</td>\n",
              "      <td>N</td>\n",
              "      <td>NaN</td>\n",
              "      <td>Schuylkill River Park</td>\n",
              "      <td>NaN</td>\n",
              "      <td>2992</td>\n",
              "      <td>400 S TANEY ST</td>\n",
              "      <td>19146</td>\n",
              "      <td>400-16 S TANEY ST, 338-46 S 26TH ST, 300 S 26T...</td>\n",
              "      <td>Pine &amp; Taney;400-16 S TANEY ST, 338-46 S 26TH ...</td>\n",
              "      <td>7.327000</td>\n",
              "      <td>NEIGHBORHOOD_PARK</td>\n",
              "      <td>RECREATION_SITE</td>\n",
              "      <td>7</td>\n",
              "      <td>5, 7</td>\n",
              "      <td>2</td>\n",
              "      <td>9</td>\n",
              "      <td>Y</td>\n",
              "      <td>Y</td>\n",
              "      <td>N</td>\n",
              "      <td>NaN</td>\n",
              "      <td>50512.582031</td>\n",
              "      <td>1259.304657</td>\n",
              "    </tr>\n",
              "    <tr>\n",
              "      <th>15</th>\n",
              "      <td>16</td>\n",
              "      <td>Whitby Avenue Playground</td>\n",
              "      <td>Cobbs Creek Park</td>\n",
              "      <td>Y</td>\n",
              "      <td>NaN</td>\n",
              "      <td>Whitby</td>\n",
              "      <td></td>\n",
              "      <td>1372</td>\n",
              "      <td>1300 COBBS CREEK PKY</td>\n",
              "      <td>19143</td>\n",
              "      <td>NaN</td>\n",
              "      <td>NaN</td>\n",
              "      <td>5.167033</td>\n",
              "      <td>NEIGHBORHOOD_PARK</td>\n",
              "      <td>MISC_PARK</td>\n",
              "      <td>8</td>\n",
              "      <td>8</td>\n",
              "      <td>3</td>\n",
              "      <td>12</td>\n",
              "      <td>Y</td>\n",
              "      <td>Y</td>\n",
              "      <td>N</td>\n",
              "      <td>NaN</td>\n",
              "      <td>35613.878906</td>\n",
              "      <td>906.065942</td>\n",
              "    </tr>\n",
              "    <tr>\n",
              "      <th>16</th>\n",
              "      <td>17</td>\n",
              "      <td>Holme Avenue Field</td>\n",
              "      <td>Pennypack Park</td>\n",
              "      <td>Y</td>\n",
              "      <td>NaN</td>\n",
              "      <td>NaN</td>\n",
              "      <td></td>\n",
              "      <td>3088</td>\n",
              "      <td>2761 HOLME AVE</td>\n",
              "      <td>19152</td>\n",
              "      <td>NaN</td>\n",
              "      <td>NaN</td>\n",
              "      <td>1.158622</td>\n",
              "      <td>NEIGHBORHOOD_PARK</td>\n",
              "      <td>ATHLETIC_OTHER</td>\n",
              "      <td>1</td>\n",
              "      <td>1</td>\n",
              "      <td>6</td>\n",
              "      <td>8</td>\n",
              "      <td>N</td>\n",
              "      <td>N</td>\n",
              "      <td>N</td>\n",
              "      <td>NaN</td>\n",
              "      <td>8013.515625</td>\n",
              "      <td>453.300062</td>\n",
              "    </tr>\n",
              "    <tr>\n",
              "      <th>17</th>\n",
              "      <td>18</td>\n",
              "      <td>29th and Passyunk Park</td>\n",
              "      <td>29th and Passyunk Park</td>\n",
              "      <td>N</td>\n",
              "      <td>NaN</td>\n",
              "      <td>29th and Passyunk</td>\n",
              "      <td></td>\n",
              "      <td>432</td>\n",
              "      <td>2827 W PASSYUNK AVE</td>\n",
              "      <td>19145</td>\n",
              "      <td>2827 W PASSYUNK AVE</td>\n",
              "      <td>Newkirk &amp; Passyunk</td>\n",
              "      <td>0.556027</td>\n",
              "      <td>NEIGHBORHOOD_PARK</td>\n",
              "      <td>MISC_PARK</td>\n",
              "      <td>9</td>\n",
              "      <td>7</td>\n",
              "      <td>2</td>\n",
              "      <td>1</td>\n",
              "      <td>Y</td>\n",
              "      <td>Y</td>\n",
              "      <td>N</td>\n",
              "      <td>Owned by PennDOT</td>\n",
              "      <td>3830.242188</td>\n",
              "      <td>247.032048</td>\n",
              "    </tr>\n",
              "  </tbody>\n",
              "</table>\n",
              "</div>"
            ],
            "text/plain": [
              "    OBJECTID  ... Shape__Length\n",
              "0          1  ...    892.868012\n",
              "2          3  ...   1259.304657\n",
              "15        16  ...    906.065942\n",
              "16        17  ...    453.300062\n",
              "17        18  ...    247.032048\n",
              "\n",
              "[5 rows x 25 columns]"
            ]
          },
          "metadata": {
            "tags": []
          },
          "execution_count": 12
        }
      ]
    },
    {
      "cell_type": "code",
      "metadata": {
        "id": "0Ss5HdkBswXM",
        "colab_type": "code",
        "colab": {
          "base_uri": "https://localhost:8080/",
          "height": 52
        },
        "outputId": "6af26bf0-2317-463a-f14e-5449044d2d31"
      },
      "source": [
        "# Calculate mean and median\n",
        "means = psmall['ACREAGE'].mean()\n",
        "medians = psmall['ACREAGE'].median()\n",
        "print('Mean:', means)\n",
        "print('Median:', medians)"
      ],
      "execution_count": 13,
      "outputs": [
        {
          "output_type": "stream",
          "text": [
            "Mean: 2.9079506748410746\n",
            "Median: 2.05984969\n"
          ],
          "name": "stdout"
        }
      ]
    },
    {
      "cell_type": "code",
      "metadata": {
        "id": "3lWmW957-NLa",
        "colab_type": "code",
        "colab": {
          "base_uri": "https://localhost:8080/",
          "height": 330
        },
        "outputId": "489873a4-e9b5-46eb-d453-c88849147bf0"
      },
      "source": [
        "# if you need help with this step do ask me about boolean arrays used as indices\n",
        "# and slicing of arrays and series! remember we have a slack channel #hw2\n",
        "ax = psmall.ACREAGE.hist(bins=30)\n",
        "ax.set_xlabel('Philly park size (acres)')\n",
        "ax.axvline(means, color='orange', linestyle='solid', linewidth=1.5, alpha = .8)\n",
        "ax.axvline(medians, color='green', linestyle='solid', linewidth=1.5, alpha = .8)\n",
        "ax.legend([means, medians], labels = ['mean', 'median'])"
      ],
      "execution_count": 14,
      "outputs": [
        {
          "output_type": "stream",
          "text": [
            "/usr/local/lib/python3.6/dist-packages/ipykernel_launcher.py:7: UserWarning: You have mixed positional and keyword arguments, some input may be discarded.\n",
            "  import sys\n"
          ],
          "name": "stderr"
        },
        {
          "output_type": "execute_result",
          "data": {
            "text/plain": [
              "<matplotlib.legend.Legend at 0x7f34d15c7b70>"
            ]
          },
          "metadata": {
            "tags": []
          },
          "execution_count": 14
        },
        {
          "output_type": "display_data",
          "data": {
            "image/png": "[encoded data removed]",
            "text/plain": [
              "<Figure size 432x288 with 1 Axes>"
            ]
          },
          "metadata": {
            "tags": [],
            "needs_background": "light"
          }
        }
      ]
    },
    {
      "cell_type": "markdown",
      "metadata": {
        "id": "34a6oAaM1DJG",
        "colab_type": "text"
      },
      "source": [
        "Figure Caption: This figure shows the ditrubition of park sizes in Philadelphia that are less than 10 acres. Mean is also plotted in orange while median is plotted in green. The majority of parks are shown to be in the first bin, between 0 and 2 acres showing a positive skew. The mean is also slightly larger than the median indicating the right skew of the data. By eliminating the large parks the mean and median are much closer as the outliers aren't influencing the mean as greatly. \n"
      ]
    },
    {
      "cell_type": "markdown",
      "metadata": {
        "id": "vPDVrnGb3xwF",
        "colab_type": "text"
      },
      "source": [
        "# Challenge\n",
        "\n",
        "the parks listed in each row are in some cases subsets of larger parks. The \"parent\" park is listed under PARENT_NAME. \n",
        "\n",
        "The challenge is to visualize the distribution of sizes of the  parent parks. To do that you have to aggregate the parks based on the \"PARENT_NAME\" value and sum the size of the parks. The methods of the dataframe you want to use are \n",
        "```.groupby()```\n",
        "and \n",
        "```.sum()```"
      ]
    },
    {
      "cell_type": "code",
      "metadata": {
        "id": "Z5TlMKs1v7YH",
        "colab_type": "code",
        "colab": {
          "base_uri": "https://localhost:8080/",
          "height": 446
        },
        "outputId": "a11cbfbb-7d14-4fa6-d45d-53fe8e8f80f3"
      },
      "source": [
        "# Group Parks\n",
        "park_group = pparks.groupby(['PARENT_NAME']).sum()\n",
        "park_group"
      ],
      "execution_count": 15,
      "outputs": [
        {
          "output_type": "execute_result",
          "data": {
            "text/html": [
              "<div>\n",
              "<style scoped>\n",
              "    .dataframe tbody tr th:only-of-type {\n",
              "        vertical-align: middle;\n",
              "    }\n",
              "\n",
              "    .dataframe tbody tr th {\n",
              "        vertical-align: top;\n",
              "    }\n",
              "\n",
              "    .dataframe thead th {\n",
              "        text-align: right;\n",
              "    }\n",
              "</style>\n",
              "<table border=\"1\" class=\"dataframe\">\n",
              "  <thead>\n",
              "    <tr style=\"text-align: right;\">\n",
              "      <th></th>\n",
              "      <th>OBJECTID</th>\n",
              "      <th>DPP_ASSET_ID</th>\n",
              "      <th>ZIPCODE</th>\n",
              "      <th>ACREAGE</th>\n",
              "      <th>Shape__Area</th>\n",
              "      <th>Shape__Length</th>\n",
              "    </tr>\n",
              "    <tr>\n",
              "      <th>PARENT_NAME</th>\n",
              "      <th></th>\n",
              "      <th></th>\n",
              "      <th></th>\n",
              "      <th></th>\n",
              "      <th></th>\n",
              "      <th></th>\n",
              "    </tr>\n",
              "  </thead>\n",
              "  <tbody>\n",
              "    <tr>\n",
              "      <th>10th and Lemon Playground</th>\n",
              "      <td>40</td>\n",
              "      <td>2914</td>\n",
              "      <td>19123</td>\n",
              "      <td>0.218346</td>\n",
              "      <td>1505.957031</td>\n",
              "      <td>169.462813</td>\n",
              "    </tr>\n",
              "    <tr>\n",
              "      <th>11th and Cecil B Moore Playground</th>\n",
              "      <td>183</td>\n",
              "      <td>1135</td>\n",
              "      <td>19122</td>\n",
              "      <td>5.181687</td>\n",
              "      <td>35754.375000</td>\n",
              "      <td>755.891229</td>\n",
              "    </tr>\n",
              "    <tr>\n",
              "      <th>12th and Cambria Playground</th>\n",
              "      <td>263</td>\n",
              "      <td>1800</td>\n",
              "      <td>19133</td>\n",
              "      <td>2.337384</td>\n",
              "      <td>16136.882812</td>\n",
              "      <td>542.995987</td>\n",
              "    </tr>\n",
              "    <tr>\n",
              "      <th>17th and Carpenter Play Lot</th>\n",
              "      <td>514</td>\n",
              "      <td>99999</td>\n",
              "      <td>19146</td>\n",
              "      <td>0.282406</td>\n",
              "      <td>1946.351562</td>\n",
              "      <td>184.887743</td>\n",
              "    </tr>\n",
              "    <tr>\n",
              "      <th>18th and Jackson War Memorial</th>\n",
              "      <td>390</td>\n",
              "      <td>1215</td>\n",
              "      <td>19145</td>\n",
              "      <td>0.083384</td>\n",
              "      <td>574.429688</td>\n",
              "      <td>148.363162</td>\n",
              "    </tr>\n",
              "    <tr>\n",
              "      <th>...</th>\n",
              "      <td>...</td>\n",
              "      <td>...</td>\n",
              "      <td>...</td>\n",
              "      <td>...</td>\n",
              "      <td>...</td>\n",
              "      <td>...</td>\n",
              "    </tr>\n",
              "    <tr>\n",
              "      <th>Womrath Park</th>\n",
              "      <td>265</td>\n",
              "      <td>120</td>\n",
              "      <td>19124</td>\n",
              "      <td>2.167689</td>\n",
              "      <td>14970.460938</td>\n",
              "      <td>591.724807</td>\n",
              "    </tr>\n",
              "    <tr>\n",
              "      <th>Wooden Bridge Run</th>\n",
              "      <td>75</td>\n",
              "      <td>1632</td>\n",
              "      <td>19114</td>\n",
              "      <td>49.095863</td>\n",
              "      <td>339623.484375</td>\n",
              "      <td>4653.000056</td>\n",
              "    </tr>\n",
              "    <tr>\n",
              "      <th>Woodside Park</th>\n",
              "      <td>252</td>\n",
              "      <td>1840</td>\n",
              "      <td>19131</td>\n",
              "      <td>2.619738</td>\n",
              "      <td>18088.925781</td>\n",
              "      <td>615.286813</td>\n",
              "    </tr>\n",
              "    <tr>\n",
              "      <th>Woodward Pines</th>\n",
              "      <td>305</td>\n",
              "      <td>2823</td>\n",
              "      <td>19118</td>\n",
              "      <td>1.354536</td>\n",
              "      <td>9370.800781</td>\n",
              "      <td>755.404286</td>\n",
              "    </tr>\n",
              "    <tr>\n",
              "      <th>Yorktown Commons</th>\n",
              "      <td>3437</td>\n",
              "      <td>24615</td>\n",
              "      <td>133854</td>\n",
              "      <td>1.552663</td>\n",
              "      <td>10712.277344</td>\n",
              "      <td>1760.240963</td>\n",
              "    </tr>\n",
              "  </tbody>\n",
              "</table>\n",
              "<p>393 rows × 6 columns</p>\n",
              "</div>"
            ],
            "text/plain": [
              "                                   OBJECTID  ...  Shape__Length\n",
              "PARENT_NAME                                  ...               \n",
              "10th and Lemon Playground                40  ...     169.462813\n",
              "11th and Cecil B Moore Playground       183  ...     755.891229\n",
              "12th and Cambria Playground             263  ...     542.995987\n",
              "17th and Carpenter Play Lot             514  ...     184.887743\n",
              "18th and Jackson War Memorial           390  ...     148.363162\n",
              "...                                     ...  ...            ...\n",
              "Womrath Park                            265  ...     591.724807\n",
              "Wooden Bridge Run                        75  ...    4653.000056\n",
              "Woodside Park                           252  ...     615.286813\n",
              "Woodward Pines                          305  ...     755.404286\n",
              "Yorktown Commons                       3437  ...    1760.240963\n",
              "\n",
              "[393 rows x 6 columns]"
            ]
          },
          "metadata": {
            "tags": []
          },
          "execution_count": 15
        }
      ]
    },
    {
      "cell_type": "code",
      "metadata": {
        "id": "xM8OPX46xyy3",
        "colab_type": "code",
        "colab": {
          "base_uri": "https://localhost:8080/",
          "height": 52
        },
        "outputId": "6044f15e-820b-48f2-d471-e8c2f1bed5c1"
      },
      "source": [
        "# Calculate mean and median\n",
        "meang = park_group['ACREAGE'].mean()\n",
        "mediang = park_group['ACREAGE'].median()\n",
        "print('Mean:', meang)\n",
        "print('Median:', mediang)"
      ],
      "execution_count": 16,
      "outputs": [
        {
          "output_type": "stream",
          "text": [
            "Mean: 30.86613391458016\n",
            "Median: 2.99613878\n"
          ],
          "name": "stdout"
        }
      ]
    },
    {
      "cell_type": "code",
      "metadata": {
        "id": "ukYunCxr-TwY",
        "colab_type": "code",
        "colab": {
          "base_uri": "https://localhost:8080/",
          "height": 317
        },
        "outputId": "57b196d6-6f36-4a9b-e5c2-e3793b046d5b"
      },
      "source": [
        "ax = park_group.ACREAGE.hist(bins=30)\n",
        "ax.axvline(meang, color='orange', linestyle='solid', linewidth=1.5, alpha = .8)\n",
        "ax.axvline(mediang, color='green', linestyle='solid', linewidth=1.5, alpha = .8)\n",
        "ax.legend([meang, mediang], labels = ['mean', 'median'])"
      ],
      "execution_count": 17,
      "outputs": [
        {
          "output_type": "stream",
          "text": [
            "/usr/local/lib/python3.6/dist-packages/ipykernel_launcher.py:4: UserWarning: You have mixed positional and keyword arguments, some input may be discarded.\n",
            "  after removing the cwd from sys.path.\n"
          ],
          "name": "stderr"
        },
        {
          "output_type": "execute_result",
          "data": {
            "text/plain": [
              "<matplotlib.legend.Legend at 0x7f34d152ed30>"
            ]
          },
          "metadata": {
            "tags": []
          },
          "execution_count": 17
        },
        {
          "output_type": "display_data",
          "data": {
            "image/png": "[encoded data removed]",
            "text/plain": [
              "<Figure size 432x288 with 1 Axes>"
            ]
          },
          "metadata": {
            "tags": [],
            "needs_background": "light"
          }
        }
      ]
    },
    {
      "cell_type": "markdown",
      "metadata": {
        "id": "BGEayx7x5xdl",
        "colab_type": "text"
      },
      "source": [
        "Figure Caption: This figure shows the ditrubition of park sizes in Philadelphia grouped by the parent name of the parks. Mean is also plotted in orange while median is plotted in green. Grouping the parks by parent name caused park sizes to go up, increasing the mean and median. This is because small parks that are part of a bigger system are grouped together and their areas are added together."
      ]
    },
    {
      "cell_type": "markdown",
      "metadata": {
        "id": "OdMYUhIK7NY9",
        "colab_type": "text"
      },
      "source": [
        "What could you measure about this new dataset obtained by grouping the data by PARENT_NAME that would allow you to investigate further the difference in the two dataset? "
      ]
    },
    {
      "cell_type": "code",
      "metadata": {
        "id": "jJ4gWgoV77vj",
        "colab_type": "code",
        "colab": {
          "base_uri": "https://localhost:8080/",
          "height": 34
        },
        "outputId": "b3cfe687-8857-4236-ab56-2d3ecc9ddb3b"
      },
      "source": [
        "stdg = park_group['ACREAGE'].std()\n",
        "stdg"
      ],
      "execution_count": 18,
      "outputs": [
        {
          "output_type": "execute_result",
          "data": {
            "text/plain": [
              "179.68182861173878"
            ]
          },
          "metadata": {
            "tags": []
          },
          "execution_count": 18
        }
      ]
    },
    {
      "cell_type": "markdown",
      "metadata": {
        "id": "nqlc8jq5zHR3",
        "colab_type": "text"
      },
      "source": [
        "The standard deviation of the grouped dataset is larger than the original dataset, showing that there is more spread to the data when parks are grouped by their parent name."
      ]
    }
  ]
}