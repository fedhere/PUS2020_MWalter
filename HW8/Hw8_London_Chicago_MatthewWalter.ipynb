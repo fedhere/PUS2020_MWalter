{
  "nbformat": 4,
  "nbformat_minor": 0,
  "metadata": {
    "colab": {
      "name": "Hw8_London_Chicago_MatthewWalter",
      "provenance": [],
      "include_colab_link": true
    },
    "kernelspec": {
      "name": "python3",
      "display_name": "Python 3"
    }
  },
  "cells": [
    {
      "cell_type": "markdown",
      "metadata": {
        "id": "view-in-github",
        "colab_type": "text"
      },
      "source": [
        "<a href=\"https://colab.research.google.com/github/smwalter96/PUS2020_MWalter/blob/master/HW8/Hw8_London_Chicago_MatthewWalter.ipynb\" target=\"_parent\"><img src=\"https://colab.research.google.com/assets/colab-badge.svg\" alt=\"Open In Colab\"/></a>"
      ]
    },
    {
      "cell_type": "markdown",
      "metadata": {
        "id": "KW9Oy459fxHz"
      },
      "source": [
        "Following the paper \"Examining the feasibility of using open data to benchmark building energy usage in cities: A data science and policy perspective\" [Roth et al 2019](https://www.researchgate.net/publication/337074109_Examining_the_feasibility_of_using_open_data_to_benchmark_building_energy_usage_in_cities_A_data_science_and_policy_perspective), choose 2 cities in the dataset available through the paper's github repository https://github.com/Urban-Informatics-Lab/Open-Data-Benchmarking\n",
        "\n",
        "This paper is an excellent example of reproducible research. \n",
        "\n",
        "I also created an example of using random forest classifier and regressors here https://github.com/fedhere/PUS2020_FBianco/blob/master/classdemos/COVID19LOS_featureExtractionRFexample.ipynb and there are links at the bottom of this notebook to useful functions and examples on the internet of applications of methods you will need to use.\n",
        "\n",
        "1. Read the introduction to the paper and describe here (briefly) the goals of their analysis (and the analysis that you are about to reproduce). Max 200 words.\n",
        "2. Choose 2 cities (any 2 cities except Seattle cause I am running some of the Seattle analysis below for guidance)\n",
        "3. For each of the 2 cities reproduce their analysis by \n",
        "\n",
        "  3.1 gathering the original data from their repository (see below for Seattle example)\n",
        "\n",
        "  3.2 clean the data according to their data preparation scheme, including one-hot-encoding categorical variables, except to impute missing data using KNearestNeighors instead of Gibbs sampling (see below)\n",
        "\n",
        "  3.3 run a Random Forest (RF) Regressor to predict the total energy consumption.\n",
        "\n",
        "  3.4 evaluate the RF model performance by printing the R2 score (the default score in SKLearn RF) for training and test set (discuss)\n",
        "\n",
        "  3.5 plot the features sorted by their importance and identify the most important features. are they consistent between the 2 cities? are they consistent with the paper's result?\n",
        "4 compare the result for the 2 cities (discuss)\n",
        "\n",
        "5. Extra credit: \n",
        "\n",
        "  5.1 modify the target variable to a binary variable choosing the median of the variable values as the the energy threshold and predict whether the value is higher or lower than the threshold\n",
        "  5.2 Run a Random Forest Classifier to predict if an observation is in the upper 50% percentile or lower 50% percentile (above or below the median threshold)\n",
        "  5.3 Measure the performance of the model on training and test data\n",
        "  5.4 Measure the feature importance and assess if the important feature have changed (discuss)"
      ]
    },
    {
      "cell_type": "markdown",
      "metadata": {
        "id": "lR1vKkQCsTdf"
      },
      "source": [
        "Buildings are responsible for the majority of carbon emissions and energy consumption within urban areas. Energy benchmarking is the practice of buildings reporting their energy consumption to goverment agencies to calculate energy performance based on a buildings type and characteristics. This paper wants to address a lack in understanding of this benchmarking process which is based on open data. To do this, benchmarking is compared to current practices and the importance of each variable in energy consumption is determined to understand what variables are important in determining a buildings energy consumption."
      ]
    },
    {
      "cell_type": "code",
      "metadata": {
        "id": "EVupHHIYHuUK"
      },
      "source": [
        "import pandas as pd\n",
        "import numpy as np"
      ],
      "execution_count": 1,
      "outputs": []
    },
    {
      "cell_type": "markdown",
      "metadata": {
        "id": "BS4ETk4fdoo7"
      },
      "source": [
        "London"
      ]
    },
    {
      "cell_type": "markdown",
      "metadata": {
        "id": "5Wia-RaAXtJC"
      },
      "source": [
        "# choose a city and read in the data"
      ]
    },
    {
      "cell_type": "code",
      "metadata": {
        "id": "hmVzVH0dHwP1"
      },
      "source": [
        "lon = pd.read_csv(\"https://raw.githubusercontent.com/Urban-Informatics-Lab/Open-Data-Benchmarking/master/London/london_2010.csv\")"
      ],
      "execution_count": 2,
      "outputs": []
    },
    {
      "cell_type": "markdown",
      "metadata": {
        "id": "2U-1HZY2Xodw"
      },
      "source": [
        "# inspect the dataframe"
      ]
    },
    {
      "cell_type": "code",
      "metadata": {
        "id": "aqrv8eULHxte",
        "outputId": "eb45a6eb-9b2b-43ac-95ca-b0dd90ca9844",
        "colab": {
          "base_uri": "https://localhost:8080/",
          "height": 304
        }
      },
      "source": [
        "lon.describe()"
      ],
      "execution_count": 3,
      "outputs": [
        {
          "output_type": "execute_result",
          "data": {
            "text/html": [
              "<div>\n",
              "<style scoped>\n",
              "    .dataframe tbody tr th:only-of-type {\n",
              "        vertical-align: middle;\n",
              "    }\n",
              "\n",
              "    .dataframe tbody tr th {\n",
              "        vertical-align: top;\n",
              "    }\n",
              "\n",
              "    .dataframe thead th {\n",
              "        text-align: right;\n",
              "    }\n",
              "</style>\n",
              "<table border=\"1\" class=\"dataframe\">\n",
              "  <thead>\n",
              "    <tr style=\"text-align: right;\">\n",
              "      <th></th>\n",
              "      <th>ENERGY_RATING</th>\n",
              "      <th>TOTAL_CO2_EMISSIONS</th>\n",
              "      <th>FLOOR_AREA</th>\n",
              "      <th>ANNUALENERGYUSEFUELTHERMAL</th>\n",
              "      <th>ANNUALENERGYUSEELECTRICAL</th>\n",
              "      <th>TYPICALENERGYUSEFUELTHERMAL</th>\n",
              "      <th>TYPICALENERGYUSEELECTRICAL</th>\n",
              "      <th>RENEWABLESTHERMAL</th>\n",
              "      <th>RENEWABLESELECTRICAL</th>\n",
              "      <th>ACTUAL_ANNUAL_HEAT_TOTAL</th>\n",
              "      <th>ACTUAL_ANNUAL_ELEC_TOTAL</th>\n",
              "      <th>TYPICAL_ANNUAL_HEAT_TOTAL</th>\n",
              "      <th>TYPICAL_ANNUAL_ELEC_TOTAL</th>\n",
              "    </tr>\n",
              "  </thead>\n",
              "  <tbody>\n",
              "    <tr>\n",
              "      <th>count</th>\n",
              "      <td>25118.000000</td>\n",
              "      <td>25118.000000</td>\n",
              "      <td>25118.000000</td>\n",
              "      <td>25118.000000</td>\n",
              "      <td>25118.000000</td>\n",
              "      <td>25118.000000</td>\n",
              "      <td>25118.000000</td>\n",
              "      <td>25118.000000</td>\n",
              "      <td>25118.000000</td>\n",
              "      <td>2.511800e+04</td>\n",
              "      <td>2.511800e+04</td>\n",
              "      <td>2.511800e+04</td>\n",
              "      <td>2.511800e+04</td>\n",
              "    </tr>\n",
              "    <tr>\n",
              "      <th>mean</th>\n",
              "      <td>588.320686</td>\n",
              "      <td>310.257425</td>\n",
              "      <td>3446.070203</td>\n",
              "      <td>175.495063</td>\n",
              "      <td>76.488773</td>\n",
              "      <td>211.222987</td>\n",
              "      <td>64.349670</td>\n",
              "      <td>0.160829</td>\n",
              "      <td>0.450533</td>\n",
              "      <td>6.477280e+05</td>\n",
              "      <td>3.334076e+05</td>\n",
              "      <td>8.072678e+05</td>\n",
              "      <td>2.509368e+05</td>\n",
              "    </tr>\n",
              "    <tr>\n",
              "      <th>std</th>\n",
              "      <td>2139.641155</td>\n",
              "      <td>981.165985</td>\n",
              "      <td>6387.539206</td>\n",
              "      <td>171.690924</td>\n",
              "      <td>94.903068</td>\n",
              "      <td>146.326878</td>\n",
              "      <td>39.422694</td>\n",
              "      <td>2.513329</td>\n",
              "      <td>4.528242</td>\n",
              "      <td>2.214199e+06</td>\n",
              "      <td>1.193193e+06</td>\n",
              "      <td>2.387881e+06</td>\n",
              "      <td>6.093786e+05</td>\n",
              "    </tr>\n",
              "    <tr>\n",
              "      <th>min</th>\n",
              "      <td>-1.000000</td>\n",
              "      <td>0.000000</td>\n",
              "      <td>1.000000</td>\n",
              "      <td>0.000000</td>\n",
              "      <td>0.000000</td>\n",
              "      <td>0.000000</td>\n",
              "      <td>0.000000</td>\n",
              "      <td>0.000000</td>\n",
              "      <td>0.000000</td>\n",
              "      <td>0.000000e+00</td>\n",
              "      <td>0.000000e+00</td>\n",
              "      <td>0.000000e+00</td>\n",
              "      <td>0.000000e+00</td>\n",
              "    </tr>\n",
              "    <tr>\n",
              "      <th>25%</th>\n",
              "      <td>78.000000</td>\n",
              "      <td>74.000000</td>\n",
              "      <td>1321.000000</td>\n",
              "      <td>103.000000</td>\n",
              "      <td>40.000000</td>\n",
              "      <td>148.000000</td>\n",
              "      <td>40.000000</td>\n",
              "      <td>0.000000</td>\n",
              "      <td>0.000000</td>\n",
              "      <td>1.692675e+05</td>\n",
              "      <td>6.242950e+04</td>\n",
              "      <td>2.118782e+05</td>\n",
              "      <td>6.064000e+04</td>\n",
              "    </tr>\n",
              "    <tr>\n",
              "      <th>50%</th>\n",
              "      <td>97.000000</td>\n",
              "      <td>123.000000</td>\n",
              "      <td>1911.000000</td>\n",
              "      <td>144.000000</td>\n",
              "      <td>57.000000</td>\n",
              "      <td>164.000000</td>\n",
              "      <td>49.000000</td>\n",
              "      <td>0.000000</td>\n",
              "      <td>0.000000</td>\n",
              "      <td>2.892045e+05</td>\n",
              "      <td>1.106645e+05</td>\n",
              "      <td>3.515070e+05</td>\n",
              "      <td>1.064392e+05</td>\n",
              "    </tr>\n",
              "    <tr>\n",
              "      <th>75%</th>\n",
              "      <td>122.000000</td>\n",
              "      <td>260.000000</td>\n",
              "      <td>3391.830000</td>\n",
              "      <td>203.000000</td>\n",
              "      <td>92.000000</td>\n",
              "      <td>235.000000</td>\n",
              "      <td>83.000000</td>\n",
              "      <td>0.000000</td>\n",
              "      <td>0.000000</td>\n",
              "      <td>5.775908e+05</td>\n",
              "      <td>2.681820e+05</td>\n",
              "      <td>7.276708e+05</td>\n",
              "      <td>2.403750e+05</td>\n",
              "    </tr>\n",
              "    <tr>\n",
              "      <th>max</th>\n",
              "      <td>9999.000000</td>\n",
              "      <td>46222.000000</td>\n",
              "      <td>280912.000000</td>\n",
              "      <td>8542.000000</td>\n",
              "      <td>10559.000000</td>\n",
              "      <td>1487.000000</td>\n",
              "      <td>344.000000</td>\n",
              "      <td>90.300000</td>\n",
              "      <td>100.000000</td>\n",
              "      <td>1.409695e+08</td>\n",
              "      <td>8.177946e+07</td>\n",
              "      <td>1.123648e+08</td>\n",
              "      <td>2.556299e+07</td>\n",
              "    </tr>\n",
              "  </tbody>\n",
              "</table>\n",
              "</div>"
            ],
            "text/plain": [
              "       ENERGY_RATING  ...  TYPICAL_ANNUAL_ELEC_TOTAL\n",
              "count   25118.000000  ...               2.511800e+04\n",
              "mean      588.320686  ...               2.509368e+05\n",
              "std      2139.641155  ...               6.093786e+05\n",
              "min        -1.000000  ...               0.000000e+00\n",
              "25%        78.000000  ...               6.064000e+04\n",
              "50%        97.000000  ...               1.064392e+05\n",
              "75%       122.000000  ...               2.403750e+05\n",
              "max      9999.000000  ...               2.556299e+07\n",
              "\n",
              "[8 rows x 13 columns]"
            ]
          },
          "metadata": {
            "tags": []
          },
          "execution_count": 3
        }
      ]
    },
    {
      "cell_type": "markdown",
      "metadata": {
        "id": "t2N6DSrXXx5z"
      },
      "source": [
        "# Clean the data \n",
        "follow closely the second paragraph of Section 4 DATA. Name each step you do accordingly to the description in the paragraf\n",
        "https://www.researchgate.net/publication/337074109_Examining_the_feasibility_of_using_open_data_to_benchmark_building_energy_usage_in_cities_A_data_science_and_policy_perspective \n",
        "\n",
        "you can also help yourself inspecting the final datasets posted on the github repo but name each action according to the paper narrative: for example, if you drop \"Building ID\" indicate that this is done as part of \n",
        "_We then cleaned the datasets by removing irrelevant building-identifying features (such as\n",
        "address)_, or if dropping a variable with too many missing values _removing features that had missing values for greater than 40% of the buildings in the dataset._"
      ]
    },
    {
      "cell_type": "code",
      "metadata": {
        "id": "k15rP8aaNXO7",
        "outputId": "c696350b-e0f1-4395-c8ee-e013e19a29e4",
        "colab": {
          "base_uri": "https://localhost:8080/",
          "height": 470
        }
      },
      "source": [
        "# summarize the number of rows with missing values for each column\n",
        "for c in lon.columns:\n",
        "  \n",
        "  # count number of rows with missing values\n",
        "  n_miss = lon[c].isnull().sum()\n",
        "  perc = n_miss / lon.shape[0] * 100\n",
        "  print('%s (%s):  Missing: %d (%.1f%%)' % (c, lon[c].dtype, \n",
        "                                                  n_miss, perc))\n",
        "\n",
        "\n"
      ],
      "execution_count": 4,
      "outputs": [
        {
          "output_type": "stream",
          "text": [
            "RRN (object):  Missing: 0 (0.0%)\n",
            "RELATED_RRN (object):  Missing: 17276 (68.8%)\n",
            "ISSUE_DATE (object):  Missing: 0 (0.0%)\n",
            "ORGANISATION_NAME (object):  Missing: 5042 (20.1%)\n",
            "ADDR1 (object):  Missing: 17974 (71.6%)\n",
            "ADDR2 (object):  Missing: 11 (0.0%)\n",
            "ADDR3 (object):  Missing: 399 (1.6%)\n",
            "ADDR4 (object):  Missing: 18290 (72.8%)\n",
            "POST_TOWN (object):  Missing: 0 (0.0%)\n",
            "COUNTY_OSGB (object):  Missing: 33 (0.1%)\n",
            "POSTCODE (object):  Missing: 0 (0.0%)\n",
            "ENERGY_RATING_BAND (object):  Missing: 0 (0.0%)\n",
            "ENERGY_RATING (int64):  Missing: 0 (0.0%)\n",
            "TOTAL_CO2_EMISSIONS (int64):  Missing: 0 (0.0%)\n",
            "MAIN_HEATING_FUEL (object):  Missing: 4 (0.0%)\n",
            "BUILDING_ENVIRONMENT (object):  Missing: 0 (0.0%)\n",
            "FLOOR_AREA (float64):  Missing: 0 (0.0%)\n",
            "ANNUALENERGYUSEFUELTHERMAL (int64):  Missing: 0 (0.0%)\n",
            "ANNUALENERGYUSEELECTRICAL (int64):  Missing: 0 (0.0%)\n",
            "TYPICALENERGYUSEFUELTHERMAL (int64):  Missing: 0 (0.0%)\n",
            "TYPICALENERGYUSEELECTRICAL (int64):  Missing: 0 (0.0%)\n",
            "RENEWABLESTHERMAL (float64):  Missing: 0 (0.0%)\n",
            "RENEWABLESELECTRICAL (float64):  Missing: 0 (0.0%)\n",
            "ACTUAL_ANNUAL_HEAT_TOTAL (float64):  Missing: 0 (0.0%)\n",
            "ACTUAL_ANNUAL_ELEC_TOTAL (float64):  Missing: 0 (0.0%)\n",
            "TYPICAL_ANNUAL_HEAT_TOTAL (float64):  Missing: 0 (0.0%)\n",
            "TYPICAL_ANNUAL_ELEC_TOTAL (float64):  Missing: 0 (0.0%)\n"
          ],
          "name": "stdout"
        }
      ]
    },
    {
      "cell_type": "code",
      "metadata": {
        "id": "ihLmarsbzxLO",
        "outputId": "4c1f9a43-6de5-4442-eed8-8498e6cd3515",
        "colab": {
          "base_uri": "https://localhost:8080/",
          "height": 551
        }
      },
      "source": [
        "lon.head()"
      ],
      "execution_count": 5,
      "outputs": [
        {
          "output_type": "execute_result",
          "data": {
            "text/html": [
              "<div>\n",
              "<style scoped>\n",
              "    .dataframe tbody tr th:only-of-type {\n",
              "        vertical-align: middle;\n",
              "    }\n",
              "\n",
              "    .dataframe tbody tr th {\n",
              "        vertical-align: top;\n",
              "    }\n",
              "\n",
              "    .dataframe thead th {\n",
              "        text-align: right;\n",
              "    }\n",
              "</style>\n",
              "<table border=\"1\" class=\"dataframe\">\n",
              "  <thead>\n",
              "    <tr style=\"text-align: right;\">\n",
              "      <th></th>\n",
              "      <th>RRN</th>\n",
              "      <th>RELATED_RRN</th>\n",
              "      <th>ISSUE_DATE</th>\n",
              "      <th>ORGANISATION_NAME</th>\n",
              "      <th>ADDR1</th>\n",
              "      <th>ADDR2</th>\n",
              "      <th>ADDR3</th>\n",
              "      <th>ADDR4</th>\n",
              "      <th>POST_TOWN</th>\n",
              "      <th>COUNTY_OSGB</th>\n",
              "      <th>POSTCODE</th>\n",
              "      <th>ENERGY_RATING_BAND</th>\n",
              "      <th>ENERGY_RATING</th>\n",
              "      <th>TOTAL_CO2_EMISSIONS</th>\n",
              "      <th>MAIN_HEATING_FUEL</th>\n",
              "      <th>BUILDING_ENVIRONMENT</th>\n",
              "      <th>FLOOR_AREA</th>\n",
              "      <th>ANNUALENERGYUSEFUELTHERMAL</th>\n",
              "      <th>ANNUALENERGYUSEELECTRICAL</th>\n",
              "      <th>TYPICALENERGYUSEFUELTHERMAL</th>\n",
              "      <th>TYPICALENERGYUSEELECTRICAL</th>\n",
              "      <th>RENEWABLESTHERMAL</th>\n",
              "      <th>RENEWABLESELECTRICAL</th>\n",
              "      <th>ACTUAL_ANNUAL_HEAT_TOTAL</th>\n",
              "      <th>ACTUAL_ANNUAL_ELEC_TOTAL</th>\n",
              "      <th>TYPICAL_ANNUAL_HEAT_TOTAL</th>\n",
              "      <th>TYPICAL_ANNUAL_ELEC_TOTAL</th>\n",
              "    </tr>\n",
              "  </thead>\n",
              "  <tbody>\n",
              "    <tr>\n",
              "      <th>0</th>\n",
              "      <td>0793-0110-4549-4309-1096</td>\n",
              "      <td>NaN</td>\n",
              "      <td>11/3/10</td>\n",
              "      <td>Hackney Community College</td>\n",
              "      <td>C BLOCK</td>\n",
              "      <td>Hackney Community College</td>\n",
              "      <td>Falkirk Street</td>\n",
              "      <td>NaN</td>\n",
              "      <td>LONDON</td>\n",
              "      <td>Greater London Authority</td>\n",
              "      <td>N1 6HQ</td>\n",
              "      <td>D</td>\n",
              "      <td>89</td>\n",
              "      <td>99</td>\n",
              "      <td>Natural Gas</td>\n",
              "      <td>Heating and Mechanical Ventilation</td>\n",
              "      <td>1241.00</td>\n",
              "      <td>113</td>\n",
              "      <td>106</td>\n",
              "      <td>237</td>\n",
              "      <td>80</td>\n",
              "      <td>0.0</td>\n",
              "      <td>0.0</td>\n",
              "      <td>140233.0</td>\n",
              "      <td>131546.0</td>\n",
              "      <td>294117.0</td>\n",
              "      <td>99280.0</td>\n",
              "    </tr>\n",
              "    <tr>\n",
              "      <th>1</th>\n",
              "      <td>9090-1984-0130-1780-7004</td>\n",
              "      <td>NaN</td>\n",
              "      <td>11/3/10</td>\n",
              "      <td>Mandeville School</td>\n",
              "      <td>NaN</td>\n",
              "      <td>Mandeville School</td>\n",
              "      <td>Horsenden Lane North</td>\n",
              "      <td>NaN</td>\n",
              "      <td>GREENFORD</td>\n",
              "      <td>Greater London Authority</td>\n",
              "      <td>UB6 0PA</td>\n",
              "      <td>E</td>\n",
              "      <td>102</td>\n",
              "      <td>191</td>\n",
              "      <td>Natural Gas</td>\n",
              "      <td>Heating and Natural Ventilation</td>\n",
              "      <td>2512.00</td>\n",
              "      <td>178</td>\n",
              "      <td>75</td>\n",
              "      <td>225</td>\n",
              "      <td>56</td>\n",
              "      <td>0.0</td>\n",
              "      <td>0.0</td>\n",
              "      <td>447136.0</td>\n",
              "      <td>188400.0</td>\n",
              "      <td>565200.0</td>\n",
              "      <td>140672.0</td>\n",
              "    </tr>\n",
              "    <tr>\n",
              "      <th>2</th>\n",
              "      <td>9770-1059-0907-0690-7901</td>\n",
              "      <td>NaN</td>\n",
              "      <td>11/3/10</td>\n",
              "      <td>St. Mary's RC Junior School</td>\n",
              "      <td>NaN</td>\n",
              "      <td>St. Mary's RC Junior School</td>\n",
              "      <td>Sydenham Road</td>\n",
              "      <td>NaN</td>\n",
              "      <td>CROYDON</td>\n",
              "      <td>Greater London Authority</td>\n",
              "      <td>CR0 2EW</td>\n",
              "      <td>D</td>\n",
              "      <td>77</td>\n",
              "      <td>99</td>\n",
              "      <td>Natural Gas</td>\n",
              "      <td>Heating and Natural Ventilation</td>\n",
              "      <td>1555.00</td>\n",
              "      <td>195</td>\n",
              "      <td>47</td>\n",
              "      <td>251</td>\n",
              "      <td>62</td>\n",
              "      <td>0.0</td>\n",
              "      <td>0.0</td>\n",
              "      <td>303225.0</td>\n",
              "      <td>73085.0</td>\n",
              "      <td>390305.0</td>\n",
              "      <td>96410.0</td>\n",
              "    </tr>\n",
              "    <tr>\n",
              "      <th>3</th>\n",
              "      <td>0770-0210-5879-1709-4096</td>\n",
              "      <td>NaN</td>\n",
              "      <td>11/3/10</td>\n",
              "      <td>St. Marys Catholic Infant School</td>\n",
              "      <td>NaN</td>\n",
              "      <td>St. Marys Catholic Infant School</td>\n",
              "      <td>Bedford Park</td>\n",
              "      <td>NaN</td>\n",
              "      <td>CROYDON</td>\n",
              "      <td>Greater London Authority</td>\n",
              "      <td>CR0 2AQ</td>\n",
              "      <td>F</td>\n",
              "      <td>143</td>\n",
              "      <td>95</td>\n",
              "      <td>Natural Gas</td>\n",
              "      <td>Heating and Natural Ventilation</td>\n",
              "      <td>1302.80</td>\n",
              "      <td>225</td>\n",
              "      <td>53</td>\n",
              "      <td>148</td>\n",
              "      <td>40</td>\n",
              "      <td>0.0</td>\n",
              "      <td>0.0</td>\n",
              "      <td>293130.0</td>\n",
              "      <td>69048.4</td>\n",
              "      <td>192814.4</td>\n",
              "      <td>52112.0</td>\n",
              "    </tr>\n",
              "    <tr>\n",
              "      <th>4</th>\n",
              "      <td>0210-9908-0180-7890-3050</td>\n",
              "      <td>0210-9908-0280-7490-3054</td>\n",
              "      <td>11/2/10</td>\n",
              "      <td>Haringey NHS Trust</td>\n",
              "      <td>NaN</td>\n",
              "      <td>Haringey NHS Trust</td>\n",
              "      <td>Hornsey Central Surgery, 151 Park Road</td>\n",
              "      <td>NaN</td>\n",
              "      <td>LONDON</td>\n",
              "      <td>Greater London Authority</td>\n",
              "      <td>N8 8JD</td>\n",
              "      <td>G</td>\n",
              "      <td>9999</td>\n",
              "      <td>0</td>\n",
              "      <td>Natural Gas</td>\n",
              "      <td>Mixed-mode with Mechanical Ventilation</td>\n",
              "      <td>3884.07</td>\n",
              "      <td>0</td>\n",
              "      <td>0</td>\n",
              "      <td>0</td>\n",
              "      <td>0</td>\n",
              "      <td>0.0</td>\n",
              "      <td>0.0</td>\n",
              "      <td>0.0</td>\n",
              "      <td>0.0</td>\n",
              "      <td>0.0</td>\n",
              "      <td>0.0</td>\n",
              "    </tr>\n",
              "  </tbody>\n",
              "</table>\n",
              "</div>"
            ],
            "text/plain": [
              "                        RRN  ... TYPICAL_ANNUAL_ELEC_TOTAL\n",
              "0  0793-0110-4549-4309-1096  ...                   99280.0\n",
              "1  9090-1984-0130-1780-7004  ...                  140672.0\n",
              "2  9770-1059-0907-0690-7901  ...                   96410.0\n",
              "3  0770-0210-5879-1709-4096  ...                   52112.0\n",
              "4  0210-9908-0180-7890-3050  ...                       0.0\n",
              "\n",
              "[5 rows x 27 columns]"
            ]
          },
          "metadata": {
            "tags": []
          },
          "execution_count": 5
        }
      ]
    },
    {
      "cell_type": "code",
      "metadata": {
        "id": "Q1em5gxkyi2q"
      },
      "source": [
        "lon.drop(['RRN', 'RELATED_RRN', 'ISSUE_DATE', 'ORGANISATION_NAME', 'ADDR1', 'ADDR2', 'ADDR3', 'ADDR4', 'POST_TOWN', 'COUNTY_OSGB', 'POSTCODE'], axis=1, inplace=True)\n"
      ],
      "execution_count": 6,
      "outputs": []
    },
    {
      "cell_type": "markdown",
      "metadata": {
        "id": "DjFFc2afzOP-"
      },
      "source": [
        "Removed building identification information."
      ]
    },
    {
      "cell_type": "code",
      "metadata": {
        "id": "Iqyzl5moNwIw",
        "outputId": "1d830013-7824-4eb3-8656-579c52a02b0b",
        "colab": {
          "base_uri": "https://localhost:8080/",
          "height": 286
        }
      },
      "source": [
        "# summarize the number of rows with missing values for each column\n",
        "for c in lon.columns:\n",
        "  # count number of rows with missing values\n",
        "  n_miss = lon[c].isnull().sum()\n",
        "  perc = n_miss / lon.shape[0] * 100\n",
        "  print('%s (%s):  Missing: %d (%.1f%%)' % (c, lon[c].dtype, \n",
        "                                                  n_miss, perc))\n"
      ],
      "execution_count": 7,
      "outputs": [
        {
          "output_type": "stream",
          "text": [
            "ENERGY_RATING_BAND (object):  Missing: 0 (0.0%)\n",
            "ENERGY_RATING (int64):  Missing: 0 (0.0%)\n",
            "TOTAL_CO2_EMISSIONS (int64):  Missing: 0 (0.0%)\n",
            "MAIN_HEATING_FUEL (object):  Missing: 4 (0.0%)\n",
            "BUILDING_ENVIRONMENT (object):  Missing: 0 (0.0%)\n",
            "FLOOR_AREA (float64):  Missing: 0 (0.0%)\n",
            "ANNUALENERGYUSEFUELTHERMAL (int64):  Missing: 0 (0.0%)\n",
            "ANNUALENERGYUSEELECTRICAL (int64):  Missing: 0 (0.0%)\n",
            "TYPICALENERGYUSEFUELTHERMAL (int64):  Missing: 0 (0.0%)\n",
            "TYPICALENERGYUSEELECTRICAL (int64):  Missing: 0 (0.0%)\n",
            "RENEWABLESTHERMAL (float64):  Missing: 0 (0.0%)\n",
            "RENEWABLESELECTRICAL (float64):  Missing: 0 (0.0%)\n",
            "ACTUAL_ANNUAL_HEAT_TOTAL (float64):  Missing: 0 (0.0%)\n",
            "ACTUAL_ANNUAL_ELEC_TOTAL (float64):  Missing: 0 (0.0%)\n",
            "TYPICAL_ANNUAL_HEAT_TOTAL (float64):  Missing: 0 (0.0%)\n",
            "TYPICAL_ANNUAL_ELEC_TOTAL (float64):  Missing: 0 (0.0%)\n"
          ],
          "name": "stdout"
        }
      ]
    },
    {
      "cell_type": "code",
      "metadata": {
        "id": "kBRzsJHYXpNk",
        "outputId": "ff3e377d-9fde-4dd3-eb5c-83b847dc6b8f",
        "colab": {
          "base_uri": "https://localhost:8080/",
          "height": 606
        }
      },
      "source": [
        "lon['floor_area_SF'] = lon['FLOOR_AREA']*10.7639\n",
        "lon['total_site_energy_KBTU'] = lon['TYPICAL_ANNUAL_HEAT_TOTAL'] + lon['TYPICAL_ANNUAL_ELEC_TOTAL']*3.41214\n",
        "lon['log_total_site_energy_KBTU'] = np.log(lon['total_site_energy_KBTU'])\n",
        "lon['site_eui_KBTUSF'] = lon['total_site_energy_KBTU']/lon['floor_area_SF']\n",
        "lon"
      ],
      "execution_count": 8,
      "outputs": [
        {
          "output_type": "stream",
          "text": [
            "/usr/local/lib/python3.6/dist-packages/pandas/core/series.py:726: RuntimeWarning: divide by zero encountered in log\n",
            "  result = getattr(ufunc, method)(*inputs, **kwargs)\n"
          ],
          "name": "stderr"
        },
        {
          "output_type": "execute_result",
          "data": {
            "text/html": [
              "<div>\n",
              "<style scoped>\n",
              "    .dataframe tbody tr th:only-of-type {\n",
              "        vertical-align: middle;\n",
              "    }\n",
              "\n",
              "    .dataframe tbody tr th {\n",
              "        vertical-align: top;\n",
              "    }\n",
              "\n",
              "    .dataframe thead th {\n",
              "        text-align: right;\n",
              "    }\n",
              "</style>\n",
              "<table border=\"1\" class=\"dataframe\">\n",
              "  <thead>\n",
              "    <tr style=\"text-align: right;\">\n",
              "      <th></th>\n",
              "      <th>ENERGY_RATING_BAND</th>\n",
              "      <th>ENERGY_RATING</th>\n",
              "      <th>TOTAL_CO2_EMISSIONS</th>\n",
              "      <th>MAIN_HEATING_FUEL</th>\n",
              "      <th>BUILDING_ENVIRONMENT</th>\n",
              "      <th>FLOOR_AREA</th>\n",
              "      <th>ANNUALENERGYUSEFUELTHERMAL</th>\n",
              "      <th>ANNUALENERGYUSEELECTRICAL</th>\n",
              "      <th>TYPICALENERGYUSEFUELTHERMAL</th>\n",
              "      <th>TYPICALENERGYUSEELECTRICAL</th>\n",
              "      <th>RENEWABLESTHERMAL</th>\n",
              "      <th>RENEWABLESELECTRICAL</th>\n",
              "      <th>ACTUAL_ANNUAL_HEAT_TOTAL</th>\n",
              "      <th>ACTUAL_ANNUAL_ELEC_TOTAL</th>\n",
              "      <th>TYPICAL_ANNUAL_HEAT_TOTAL</th>\n",
              "      <th>TYPICAL_ANNUAL_ELEC_TOTAL</th>\n",
              "      <th>floor_area_SF</th>\n",
              "      <th>total_site_energy_KBTU</th>\n",
              "      <th>log_total_site_energy_KBTU</th>\n",
              "      <th>site_eui_KBTUSF</th>\n",
              "    </tr>\n",
              "  </thead>\n",
              "  <tbody>\n",
              "    <tr>\n",
              "      <th>0</th>\n",
              "      <td>D</td>\n",
              "      <td>89</td>\n",
              "      <td>99</td>\n",
              "      <td>Natural Gas</td>\n",
              "      <td>Heating and Mechanical Ventilation</td>\n",
              "      <td>1241.00</td>\n",
              "      <td>113</td>\n",
              "      <td>106</td>\n",
              "      <td>237</td>\n",
              "      <td>80</td>\n",
              "      <td>0.0</td>\n",
              "      <td>0.0</td>\n",
              "      <td>140233.0</td>\n",
              "      <td>131546.0</td>\n",
              "      <td>294117.0</td>\n",
              "      <td>99280.0</td>\n",
              "      <td>13357.999900</td>\n",
              "      <td>6.328743e+05</td>\n",
              "      <td>13.358027</td>\n",
              "      <td>47.377921</td>\n",
              "    </tr>\n",
              "    <tr>\n",
              "      <th>1</th>\n",
              "      <td>E</td>\n",
              "      <td>102</td>\n",
              "      <td>191</td>\n",
              "      <td>Natural Gas</td>\n",
              "      <td>Heating and Natural Ventilation</td>\n",
              "      <td>2512.00</td>\n",
              "      <td>178</td>\n",
              "      <td>75</td>\n",
              "      <td>225</td>\n",
              "      <td>56</td>\n",
              "      <td>0.0</td>\n",
              "      <td>0.0</td>\n",
              "      <td>447136.0</td>\n",
              "      <td>188400.0</td>\n",
              "      <td>565200.0</td>\n",
              "      <td>140672.0</td>\n",
              "      <td>27038.916800</td>\n",
              "      <td>1.045193e+06</td>\n",
              "      <td>13.859712</td>\n",
              "      <td>38.655119</td>\n",
              "    </tr>\n",
              "    <tr>\n",
              "      <th>2</th>\n",
              "      <td>D</td>\n",
              "      <td>77</td>\n",
              "      <td>99</td>\n",
              "      <td>Natural Gas</td>\n",
              "      <td>Heating and Natural Ventilation</td>\n",
              "      <td>1555.00</td>\n",
              "      <td>195</td>\n",
              "      <td>47</td>\n",
              "      <td>251</td>\n",
              "      <td>62</td>\n",
              "      <td>0.0</td>\n",
              "      <td>0.0</td>\n",
              "      <td>303225.0</td>\n",
              "      <td>73085.0</td>\n",
              "      <td>390305.0</td>\n",
              "      <td>96410.0</td>\n",
              "      <td>16737.864500</td>\n",
              "      <td>7.192694e+05</td>\n",
              "      <td>13.485991</td>\n",
              "      <td>42.972592</td>\n",
              "    </tr>\n",
              "    <tr>\n",
              "      <th>3</th>\n",
              "      <td>F</td>\n",
              "      <td>143</td>\n",
              "      <td>95</td>\n",
              "      <td>Natural Gas</td>\n",
              "      <td>Heating and Natural Ventilation</td>\n",
              "      <td>1302.80</td>\n",
              "      <td>225</td>\n",
              "      <td>53</td>\n",
              "      <td>148</td>\n",
              "      <td>40</td>\n",
              "      <td>0.0</td>\n",
              "      <td>0.0</td>\n",
              "      <td>293130.0</td>\n",
              "      <td>69048.4</td>\n",
              "      <td>192814.4</td>\n",
              "      <td>52112.0</td>\n",
              "      <td>14023.208920</td>\n",
              "      <td>3.706278e+05</td>\n",
              "      <td>12.822954</td>\n",
              "      <td>26.429603</td>\n",
              "    </tr>\n",
              "    <tr>\n",
              "      <th>4</th>\n",
              "      <td>G</td>\n",
              "      <td>9999</td>\n",
              "      <td>0</td>\n",
              "      <td>Natural Gas</td>\n",
              "      <td>Mixed-mode with Mechanical Ventilation</td>\n",
              "      <td>3884.07</td>\n",
              "      <td>0</td>\n",
              "      <td>0</td>\n",
              "      <td>0</td>\n",
              "      <td>0</td>\n",
              "      <td>0.0</td>\n",
              "      <td>0.0</td>\n",
              "      <td>0.0</td>\n",
              "      <td>0.0</td>\n",
              "      <td>0.0</td>\n",
              "      <td>0.0</td>\n",
              "      <td>41807.741073</td>\n",
              "      <td>0.000000e+00</td>\n",
              "      <td>-inf</td>\n",
              "      <td>0.000000</td>\n",
              "    </tr>\n",
              "    <tr>\n",
              "      <th>...</th>\n",
              "      <td>...</td>\n",
              "      <td>...</td>\n",
              "      <td>...</td>\n",
              "      <td>...</td>\n",
              "      <td>...</td>\n",
              "      <td>...</td>\n",
              "      <td>...</td>\n",
              "      <td>...</td>\n",
              "      <td>...</td>\n",
              "      <td>...</td>\n",
              "      <td>...</td>\n",
              "      <td>...</td>\n",
              "      <td>...</td>\n",
              "      <td>...</td>\n",
              "      <td>...</td>\n",
              "      <td>...</td>\n",
              "      <td>...</td>\n",
              "      <td>...</td>\n",
              "      <td>...</td>\n",
              "      <td>...</td>\n",
              "    </tr>\n",
              "    <tr>\n",
              "      <th>25113</th>\n",
              "      <td>D</td>\n",
              "      <td>99</td>\n",
              "      <td>142</td>\n",
              "      <td>Natural Gas</td>\n",
              "      <td>Heating and Natural Ventilation</td>\n",
              "      <td>1020.00</td>\n",
              "      <td>392</td>\n",
              "      <td>116</td>\n",
              "      <td>462</td>\n",
              "      <td>90</td>\n",
              "      <td>0.0</td>\n",
              "      <td>0.0</td>\n",
              "      <td>399840.0</td>\n",
              "      <td>118320.0</td>\n",
              "      <td>471240.0</td>\n",
              "      <td>91800.0</td>\n",
              "      <td>10979.178000</td>\n",
              "      <td>7.844745e+05</td>\n",
              "      <td>13.572769</td>\n",
              "      <td>71.451110</td>\n",
              "    </tr>\n",
              "    <tr>\n",
              "      <th>25114</th>\n",
              "      <td>F</td>\n",
              "      <td>149</td>\n",
              "      <td>695</td>\n",
              "      <td>Natural Gas</td>\n",
              "      <td>Heating and Natural Ventilation</td>\n",
              "      <td>5088.00</td>\n",
              "      <td>275</td>\n",
              "      <td>151</td>\n",
              "      <td>167</td>\n",
              "      <td>108</td>\n",
              "      <td>0.0</td>\n",
              "      <td>26.2</td>\n",
              "      <td>1399200.0</td>\n",
              "      <td>768288.0</td>\n",
              "      <td>849696.0</td>\n",
              "      <td>549504.0</td>\n",
              "      <td>54766.723200</td>\n",
              "      <td>2.724681e+06</td>\n",
              "      <td>14.817862</td>\n",
              "      <td>49.750659</td>\n",
              "    </tr>\n",
              "    <tr>\n",
              "      <th>25115</th>\n",
              "      <td>D</td>\n",
              "      <td>94</td>\n",
              "      <td>1682</td>\n",
              "      <td>Natural Gas</td>\n",
              "      <td>Mixed-mode with Natural Ventilation</td>\n",
              "      <td>14816.00</td>\n",
              "      <td>119</td>\n",
              "      <td>164</td>\n",
              "      <td>168</td>\n",
              "      <td>160</td>\n",
              "      <td>0.0</td>\n",
              "      <td>35.7</td>\n",
              "      <td>1763104.0</td>\n",
              "      <td>2429824.0</td>\n",
              "      <td>2489088.0</td>\n",
              "      <td>2370560.0</td>\n",
              "      <td>159477.942400</td>\n",
              "      <td>1.057777e+07</td>\n",
              "      <td>16.174265</td>\n",
              "      <td>66.327484</td>\n",
              "    </tr>\n",
              "    <tr>\n",
              "      <th>25116</th>\n",
              "      <td>G</td>\n",
              "      <td>200</td>\n",
              "      <td>1496</td>\n",
              "      <td>Natural Gas</td>\n",
              "      <td>Heating and Mechanical Ventilation</td>\n",
              "      <td>6655.00</td>\n",
              "      <td>623</td>\n",
              "      <td>190</td>\n",
              "      <td>311</td>\n",
              "      <td>95</td>\n",
              "      <td>0.0</td>\n",
              "      <td>0.0</td>\n",
              "      <td>4146065.0</td>\n",
              "      <td>1264450.0</td>\n",
              "      <td>2069705.0</td>\n",
              "      <td>632225.0</td>\n",
              "      <td>71633.754500</td>\n",
              "      <td>4.226945e+06</td>\n",
              "      <td>15.256990</td>\n",
              "      <td>59.007730</td>\n",
              "    </tr>\n",
              "    <tr>\n",
              "      <th>25117</th>\n",
              "      <td>G</td>\n",
              "      <td>324</td>\n",
              "      <td>708</td>\n",
              "      <td>Natural Gas</td>\n",
              "      <td>Air Conditioning</td>\n",
              "      <td>1807.00</td>\n",
              "      <td>989</td>\n",
              "      <td>364</td>\n",
              "      <td>170</td>\n",
              "      <td>160</td>\n",
              "      <td>0.0</td>\n",
              "      <td>36.3</td>\n",
              "      <td>1787123.0</td>\n",
              "      <td>657748.0</td>\n",
              "      <td>307190.0</td>\n",
              "      <td>289120.0</td>\n",
              "      <td>19450.367300</td>\n",
              "      <td>1.293708e+06</td>\n",
              "      <td>14.073023</td>\n",
              "      <td>66.513290</td>\n",
              "    </tr>\n",
              "  </tbody>\n",
              "</table>\n",
              "<p>25118 rows × 20 columns</p>\n",
              "</div>"
            ],
            "text/plain": [
              "      ENERGY_RATING_BAND  ...  site_eui_KBTUSF\n",
              "0                      D  ...        47.377921\n",
              "1                      E  ...        38.655119\n",
              "2                      D  ...        42.972592\n",
              "3                      F  ...        26.429603\n",
              "4                      G  ...         0.000000\n",
              "...                  ...  ...              ...\n",
              "25113                  D  ...        71.451110\n",
              "25114                  F  ...        49.750659\n",
              "25115                  D  ...        66.327484\n",
              "25116                  G  ...        59.007730\n",
              "25117                  G  ...        66.513290\n",
              "\n",
              "[25118 rows x 20 columns]"
            ]
          },
          "metadata": {
            "tags": []
          },
          "execution_count": 8
        }
      ]
    },
    {
      "cell_type": "markdown",
      "metadata": {
        "id": "XVD2IKLsZI2x"
      },
      "source": [
        "# transform input deature as needed\n",
        "for example replace features with log features. Guide yourself with the text, the final dataset names, and also the code here https://github.com/Urban-Informatics-Lab/Open-Data-Benchmarking/blob/master/Lasso_RandomForest.Rmd"
      ]
    },
    {
      "cell_type": "code",
      "metadata": {
        "id": "cSnp5_C2WKTh",
        "outputId": "96bc9bd7-3e61-4674-b417-e78333104693",
        "colab": {
          "base_uri": "https://localhost:8080/",
          "height": 299
        }
      },
      "source": [
        "lon = lon.replace([np.inf, -np.inf], 0)\n",
        "lon.head()\n"
      ],
      "execution_count": 9,
      "outputs": [
        {
          "output_type": "execute_result",
          "data": {
            "text/html": [
              "<div>\n",
              "<style scoped>\n",
              "    .dataframe tbody tr th:only-of-type {\n",
              "        vertical-align: middle;\n",
              "    }\n",
              "\n",
              "    .dataframe tbody tr th {\n",
              "        vertical-align: top;\n",
              "    }\n",
              "\n",
              "    .dataframe thead th {\n",
              "        text-align: right;\n",
              "    }\n",
              "</style>\n",
              "<table border=\"1\" class=\"dataframe\">\n",
              "  <thead>\n",
              "    <tr style=\"text-align: right;\">\n",
              "      <th></th>\n",
              "      <th>ENERGY_RATING_BAND</th>\n",
              "      <th>ENERGY_RATING</th>\n",
              "      <th>TOTAL_CO2_EMISSIONS</th>\n",
              "      <th>MAIN_HEATING_FUEL</th>\n",
              "      <th>BUILDING_ENVIRONMENT</th>\n",
              "      <th>FLOOR_AREA</th>\n",
              "      <th>ANNUALENERGYUSEFUELTHERMAL</th>\n",
              "      <th>ANNUALENERGYUSEELECTRICAL</th>\n",
              "      <th>TYPICALENERGYUSEFUELTHERMAL</th>\n",
              "      <th>TYPICALENERGYUSEELECTRICAL</th>\n",
              "      <th>RENEWABLESTHERMAL</th>\n",
              "      <th>RENEWABLESELECTRICAL</th>\n",
              "      <th>ACTUAL_ANNUAL_HEAT_TOTAL</th>\n",
              "      <th>ACTUAL_ANNUAL_ELEC_TOTAL</th>\n",
              "      <th>TYPICAL_ANNUAL_HEAT_TOTAL</th>\n",
              "      <th>TYPICAL_ANNUAL_ELEC_TOTAL</th>\n",
              "      <th>floor_area_SF</th>\n",
              "      <th>total_site_energy_KBTU</th>\n",
              "      <th>log_total_site_energy_KBTU</th>\n",
              "      <th>site_eui_KBTUSF</th>\n",
              "    </tr>\n",
              "  </thead>\n",
              "  <tbody>\n",
              "    <tr>\n",
              "      <th>0</th>\n",
              "      <td>D</td>\n",
              "      <td>89</td>\n",
              "      <td>99</td>\n",
              "      <td>Natural Gas</td>\n",
              "      <td>Heating and Mechanical Ventilation</td>\n",
              "      <td>1241.00</td>\n",
              "      <td>113</td>\n",
              "      <td>106</td>\n",
              "      <td>237</td>\n",
              "      <td>80</td>\n",
              "      <td>0.0</td>\n",
              "      <td>0.0</td>\n",
              "      <td>140233.0</td>\n",
              "      <td>131546.0</td>\n",
              "      <td>294117.0</td>\n",
              "      <td>99280.0</td>\n",
              "      <td>13357.999900</td>\n",
              "      <td>6.328743e+05</td>\n",
              "      <td>13.358027</td>\n",
              "      <td>47.377921</td>\n",
              "    </tr>\n",
              "    <tr>\n",
              "      <th>1</th>\n",
              "      <td>E</td>\n",
              "      <td>102</td>\n",
              "      <td>191</td>\n",
              "      <td>Natural Gas</td>\n",
              "      <td>Heating and Natural Ventilation</td>\n",
              "      <td>2512.00</td>\n",
              "      <td>178</td>\n",
              "      <td>75</td>\n",
              "      <td>225</td>\n",
              "      <td>56</td>\n",
              "      <td>0.0</td>\n",
              "      <td>0.0</td>\n",
              "      <td>447136.0</td>\n",
              "      <td>188400.0</td>\n",
              "      <td>565200.0</td>\n",
              "      <td>140672.0</td>\n",
              "      <td>27038.916800</td>\n",
              "      <td>1.045193e+06</td>\n",
              "      <td>13.859712</td>\n",
              "      <td>38.655119</td>\n",
              "    </tr>\n",
              "    <tr>\n",
              "      <th>2</th>\n",
              "      <td>D</td>\n",
              "      <td>77</td>\n",
              "      <td>99</td>\n",
              "      <td>Natural Gas</td>\n",
              "      <td>Heating and Natural Ventilation</td>\n",
              "      <td>1555.00</td>\n",
              "      <td>195</td>\n",
              "      <td>47</td>\n",
              "      <td>251</td>\n",
              "      <td>62</td>\n",
              "      <td>0.0</td>\n",
              "      <td>0.0</td>\n",
              "      <td>303225.0</td>\n",
              "      <td>73085.0</td>\n",
              "      <td>390305.0</td>\n",
              "      <td>96410.0</td>\n",
              "      <td>16737.864500</td>\n",
              "      <td>7.192694e+05</td>\n",
              "      <td>13.485991</td>\n",
              "      <td>42.972592</td>\n",
              "    </tr>\n",
              "    <tr>\n",
              "      <th>3</th>\n",
              "      <td>F</td>\n",
              "      <td>143</td>\n",
              "      <td>95</td>\n",
              "      <td>Natural Gas</td>\n",
              "      <td>Heating and Natural Ventilation</td>\n",
              "      <td>1302.80</td>\n",
              "      <td>225</td>\n",
              "      <td>53</td>\n",
              "      <td>148</td>\n",
              "      <td>40</td>\n",
              "      <td>0.0</td>\n",
              "      <td>0.0</td>\n",
              "      <td>293130.0</td>\n",
              "      <td>69048.4</td>\n",
              "      <td>192814.4</td>\n",
              "      <td>52112.0</td>\n",
              "      <td>14023.208920</td>\n",
              "      <td>3.706278e+05</td>\n",
              "      <td>12.822954</td>\n",
              "      <td>26.429603</td>\n",
              "    </tr>\n",
              "    <tr>\n",
              "      <th>4</th>\n",
              "      <td>G</td>\n",
              "      <td>9999</td>\n",
              "      <td>0</td>\n",
              "      <td>Natural Gas</td>\n",
              "      <td>Mixed-mode with Mechanical Ventilation</td>\n",
              "      <td>3884.07</td>\n",
              "      <td>0</td>\n",
              "      <td>0</td>\n",
              "      <td>0</td>\n",
              "      <td>0</td>\n",
              "      <td>0.0</td>\n",
              "      <td>0.0</td>\n",
              "      <td>0.0</td>\n",
              "      <td>0.0</td>\n",
              "      <td>0.0</td>\n",
              "      <td>0.0</td>\n",
              "      <td>41807.741073</td>\n",
              "      <td>0.000000e+00</td>\n",
              "      <td>0.000000</td>\n",
              "      <td>0.000000</td>\n",
              "    </tr>\n",
              "  </tbody>\n",
              "</table>\n",
              "</div>"
            ],
            "text/plain": [
              "  ENERGY_RATING_BAND  ...  site_eui_KBTUSF\n",
              "0                  D  ...        47.377921\n",
              "1                  E  ...        38.655119\n",
              "2                  D  ...        42.972592\n",
              "3                  F  ...        26.429603\n",
              "4                  G  ...         0.000000\n",
              "\n",
              "[5 rows x 20 columns]"
            ]
          },
          "metadata": {
            "tags": []
          },
          "execution_count": 9
        }
      ]
    },
    {
      "cell_type": "code",
      "metadata": {
        "id": "SWyHLyhCLYIm",
        "outputId": "7adb5e02-ee3f-4592-81a7-584b9ebc63e8",
        "colab": {
          "base_uri": "https://localhost:8080/",
          "height": 304
        }
      },
      "source": [
        "lon.describe()"
      ],
      "execution_count": 10,
      "outputs": [
        {
          "output_type": "execute_result",
          "data": {
            "text/html": [
              "<div>\n",
              "<style scoped>\n",
              "    .dataframe tbody tr th:only-of-type {\n",
              "        vertical-align: middle;\n",
              "    }\n",
              "\n",
              "    .dataframe tbody tr th {\n",
              "        vertical-align: top;\n",
              "    }\n",
              "\n",
              "    .dataframe thead th {\n",
              "        text-align: right;\n",
              "    }\n",
              "</style>\n",
              "<table border=\"1\" class=\"dataframe\">\n",
              "  <thead>\n",
              "    <tr style=\"text-align: right;\">\n",
              "      <th></th>\n",
              "      <th>ENERGY_RATING</th>\n",
              "      <th>TOTAL_CO2_EMISSIONS</th>\n",
              "      <th>FLOOR_AREA</th>\n",
              "      <th>ANNUALENERGYUSEFUELTHERMAL</th>\n",
              "      <th>ANNUALENERGYUSEELECTRICAL</th>\n",
              "      <th>TYPICALENERGYUSEFUELTHERMAL</th>\n",
              "      <th>TYPICALENERGYUSEELECTRICAL</th>\n",
              "      <th>RENEWABLESTHERMAL</th>\n",
              "      <th>RENEWABLESELECTRICAL</th>\n",
              "      <th>ACTUAL_ANNUAL_HEAT_TOTAL</th>\n",
              "      <th>ACTUAL_ANNUAL_ELEC_TOTAL</th>\n",
              "      <th>TYPICAL_ANNUAL_HEAT_TOTAL</th>\n",
              "      <th>TYPICAL_ANNUAL_ELEC_TOTAL</th>\n",
              "      <th>floor_area_SF</th>\n",
              "      <th>total_site_energy_KBTU</th>\n",
              "      <th>log_total_site_energy_KBTU</th>\n",
              "      <th>site_eui_KBTUSF</th>\n",
              "    </tr>\n",
              "  </thead>\n",
              "  <tbody>\n",
              "    <tr>\n",
              "      <th>count</th>\n",
              "      <td>25118.000000</td>\n",
              "      <td>25118.000000</td>\n",
              "      <td>25118.000000</td>\n",
              "      <td>25118.000000</td>\n",
              "      <td>25118.000000</td>\n",
              "      <td>25118.000000</td>\n",
              "      <td>25118.000000</td>\n",
              "      <td>25118.000000</td>\n",
              "      <td>25118.000000</td>\n",
              "      <td>2.511800e+04</td>\n",
              "      <td>2.511800e+04</td>\n",
              "      <td>2.511800e+04</td>\n",
              "      <td>2.511800e+04</td>\n",
              "      <td>2.511800e+04</td>\n",
              "      <td>2.511800e+04</td>\n",
              "      <td>25118.000000</td>\n",
              "      <td>25118.000000</td>\n",
              "    </tr>\n",
              "    <tr>\n",
              "      <th>mean</th>\n",
              "      <td>588.320686</td>\n",
              "      <td>310.257425</td>\n",
              "      <td>3446.070203</td>\n",
              "      <td>175.495063</td>\n",
              "      <td>76.488773</td>\n",
              "      <td>211.222987</td>\n",
              "      <td>64.349670</td>\n",
              "      <td>0.160829</td>\n",
              "      <td>0.450533</td>\n",
              "      <td>6.477280e+05</td>\n",
              "      <td>3.334076e+05</td>\n",
              "      <td>8.072678e+05</td>\n",
              "      <td>2.509368e+05</td>\n",
              "      <td>3.709316e+04</td>\n",
              "      <td>1.663499e+06</td>\n",
              "      <td>13.150859</td>\n",
              "      <td>40.022024</td>\n",
              "    </tr>\n",
              "    <tr>\n",
              "      <th>std</th>\n",
              "      <td>2139.641155</td>\n",
              "      <td>981.165985</td>\n",
              "      <td>6387.539206</td>\n",
              "      <td>171.690924</td>\n",
              "      <td>94.903068</td>\n",
              "      <td>146.326878</td>\n",
              "      <td>39.422694</td>\n",
              "      <td>2.513329</td>\n",
              "      <td>4.528242</td>\n",
              "      <td>2.214199e+06</td>\n",
              "      <td>1.193193e+06</td>\n",
              "      <td>2.387881e+06</td>\n",
              "      <td>6.093786e+05</td>\n",
              "      <td>6.875483e+04</td>\n",
              "      <td>4.365558e+06</td>\n",
              "      <td>2.971729</td>\n",
              "      <td>23.574769</td>\n",
              "    </tr>\n",
              "    <tr>\n",
              "      <th>min</th>\n",
              "      <td>-1.000000</td>\n",
              "      <td>0.000000</td>\n",
              "      <td>1.000000</td>\n",
              "      <td>0.000000</td>\n",
              "      <td>0.000000</td>\n",
              "      <td>0.000000</td>\n",
              "      <td>0.000000</td>\n",
              "      <td>0.000000</td>\n",
              "      <td>0.000000</td>\n",
              "      <td>0.000000e+00</td>\n",
              "      <td>0.000000e+00</td>\n",
              "      <td>0.000000e+00</td>\n",
              "      <td>0.000000e+00</td>\n",
              "      <td>1.076390e+01</td>\n",
              "      <td>0.000000e+00</td>\n",
              "      <td>0.000000</td>\n",
              "      <td>0.000000</td>\n",
              "    </tr>\n",
              "    <tr>\n",
              "      <th>25%</th>\n",
              "      <td>78.000000</td>\n",
              "      <td>74.000000</td>\n",
              "      <td>1321.000000</td>\n",
              "      <td>103.000000</td>\n",
              "      <td>40.000000</td>\n",
              "      <td>148.000000</td>\n",
              "      <td>40.000000</td>\n",
              "      <td>0.000000</td>\n",
              "      <td>0.000000</td>\n",
              "      <td>1.692675e+05</td>\n",
              "      <td>6.242950e+04</td>\n",
              "      <td>2.118782e+05</td>\n",
              "      <td>6.064000e+04</td>\n",
              "      <td>1.421911e+04</td>\n",
              "      <td>4.366424e+05</td>\n",
              "      <td>12.986870</td>\n",
              "      <td>27.358634</td>\n",
              "    </tr>\n",
              "    <tr>\n",
              "      <th>50%</th>\n",
              "      <td>97.000000</td>\n",
              "      <td>123.000000</td>\n",
              "      <td>1911.000000</td>\n",
              "      <td>144.000000</td>\n",
              "      <td>57.000000</td>\n",
              "      <td>164.000000</td>\n",
              "      <td>49.000000</td>\n",
              "      <td>0.000000</td>\n",
              "      <td>0.000000</td>\n",
              "      <td>2.892045e+05</td>\n",
              "      <td>1.106645e+05</td>\n",
              "      <td>3.515070e+05</td>\n",
              "      <td>1.064392e+05</td>\n",
              "      <td>2.056981e+04</td>\n",
              "      <td>7.437011e+05</td>\n",
              "      <td>13.519394</td>\n",
              "      <td>31.681745</td>\n",
              "    </tr>\n",
              "    <tr>\n",
              "      <th>75%</th>\n",
              "      <td>122.000000</td>\n",
              "      <td>260.000000</td>\n",
              "      <td>3391.830000</td>\n",
              "      <td>203.000000</td>\n",
              "      <td>92.000000</td>\n",
              "      <td>235.000000</td>\n",
              "      <td>83.000000</td>\n",
              "      <td>0.000000</td>\n",
              "      <td>0.000000</td>\n",
              "      <td>5.775908e+05</td>\n",
              "      <td>2.681820e+05</td>\n",
              "      <td>7.276708e+05</td>\n",
              "      <td>2.403750e+05</td>\n",
              "      <td>3.650932e+04</td>\n",
              "      <td>1.551471e+06</td>\n",
              "      <td>14.254714</td>\n",
              "      <td>48.843592</td>\n",
              "    </tr>\n",
              "    <tr>\n",
              "      <th>max</th>\n",
              "      <td>9999.000000</td>\n",
              "      <td>46222.000000</td>\n",
              "      <td>280912.000000</td>\n",
              "      <td>8542.000000</td>\n",
              "      <td>10559.000000</td>\n",
              "      <td>1487.000000</td>\n",
              "      <td>344.000000</td>\n",
              "      <td>90.300000</td>\n",
              "      <td>100.000000</td>\n",
              "      <td>1.409695e+08</td>\n",
              "      <td>8.177946e+07</td>\n",
              "      <td>1.123648e+08</td>\n",
              "      <td>2.556299e+07</td>\n",
              "      <td>3.023709e+06</td>\n",
              "      <td>1.995893e+08</td>\n",
              "      <td>19.111772</td>\n",
              "      <td>247.194433</td>\n",
              "    </tr>\n",
              "  </tbody>\n",
              "</table>\n",
              "</div>"
            ],
            "text/plain": [
              "       ENERGY_RATING  ...  site_eui_KBTUSF\n",
              "count   25118.000000  ...     25118.000000\n",
              "mean      588.320686  ...        40.022024\n",
              "std      2139.641155  ...        23.574769\n",
              "min        -1.000000  ...         0.000000\n",
              "25%        78.000000  ...        27.358634\n",
              "50%        97.000000  ...        31.681745\n",
              "75%       122.000000  ...        48.843592\n",
              "max      9999.000000  ...       247.194433\n",
              "\n",
              "[8 rows x 17 columns]"
            ]
          },
          "metadata": {
            "tags": []
          },
          "execution_count": 10
        }
      ]
    },
    {
      "cell_type": "markdown",
      "metadata": {
        "id": "Da-93SxbMFCX"
      },
      "source": [
        "check what happened to missing values, fix infinities replacing them with 0 as done in https://github.com/Urban-Informatics-Lab/Open-Data-Benchmarking/blob/master/Lasso_RandomForest.Rmd"
      ]
    },
    {
      "cell_type": "markdown",
      "metadata": {
        "id": "iNbDz-98ZvkM"
      },
      "source": [
        "# separate categorical and numerical values\n",
        "you will proceed to missing data imputation differently in the 2 cases"
      ]
    },
    {
      "cell_type": "code",
      "metadata": {
        "id": "7uQG7QcFPJUA"
      },
      "source": [
        "y = lon['log_total_site_energy_KBTU'].values\n",
        "x1 = lon[['floor_area_SF']]\n",
        "x2 = lon[['MAIN_HEATING_FUEL', 'BUILDING_ENVIRONMENT']]\n"
      ],
      "execution_count": 11,
      "outputs": []
    },
    {
      "cell_type": "markdown",
      "metadata": {
        "id": "dfQnS9eVZ7A4"
      },
      "source": [
        "# use Nearest Neighbor Imputer to impute missing values in numerical features\n",
        "\n",
        "here we are deviating from the paper. NN imputation is simpler and more common, I think it may be more useful to you in general"
      ]
    },
    {
      "cell_type": "code",
      "metadata": {
        "id": "gNLiSt1fOCz4",
        "outputId": "c511ef89-bcc3-4cf4-f7ca-72d47bb5009f",
        "colab": {
          "base_uri": "https://localhost:8080/",
          "height": 134
        }
      },
      "source": [
        "from sklearn.impute import KNNImputer\n",
        "# Default neighbors is 5\n",
        "imputer = KNNImputer()\n",
        "print(imputer.fit_transform(x1))\n",
        "x1 = imputer.fit_transform(x1)\n"
      ],
      "execution_count": 12,
      "outputs": [
        {
          "output_type": "stream",
          "text": [
            "[[ 13357.9999]\n",
            " [ 27038.9168]\n",
            " [ 16737.8645]\n",
            " ...\n",
            " [159477.9424]\n",
            " [ 71633.7545]\n",
            " [ 19450.3673]]\n"
          ],
          "name": "stdout"
        }
      ]
    },
    {
      "cell_type": "markdown",
      "metadata": {
        "id": "mW5GNpU0aFIO"
      },
      "source": [
        "# convert categorical variables to one-hot-encoded \n",
        "you will have to remove Nan values and replace them. You can choose to replace them with \"None\" or a similar string, for which you can use the fillna method: ```df.fillna(\"None\")``` and leave it at that or with a little more effort you can input values based on nearest neighbors or some other inputation scheme. any choice goes so long as it is well described and justified with words."
      ]
    },
    {
      "cell_type": "markdown",
      "metadata": {
        "id": "wXk8ne32pFV9"
      },
      "source": [
        "NA values will be replaced with 'None'. By doing this, buildings with missing attributes will be categorized together."
      ]
    },
    {
      "cell_type": "code",
      "metadata": {
        "id": "O4IAKnAUkrN_",
        "outputId": "cb9fff7b-fc0d-41b4-df67-5a462c6580b8",
        "colab": {
          "base_uri": "https://localhost:8080/",
          "height": 402
        }
      },
      "source": [
        "x2 = x2.fillna(\"None\")\n",
        "x2"
      ],
      "execution_count": 13,
      "outputs": [
        {
          "output_type": "execute_result",
          "data": {
            "text/html": [
              "<div>\n",
              "<style scoped>\n",
              "    .dataframe tbody tr th:only-of-type {\n",
              "        vertical-align: middle;\n",
              "    }\n",
              "\n",
              "    .dataframe tbody tr th {\n",
              "        vertical-align: top;\n",
              "    }\n",
              "\n",
              "    .dataframe thead th {\n",
              "        text-align: right;\n",
              "    }\n",
              "</style>\n",
              "<table border=\"1\" class=\"dataframe\">\n",
              "  <thead>\n",
              "    <tr style=\"text-align: right;\">\n",
              "      <th></th>\n",
              "      <th>MAIN_HEATING_FUEL</th>\n",
              "      <th>BUILDING_ENVIRONMENT</th>\n",
              "    </tr>\n",
              "  </thead>\n",
              "  <tbody>\n",
              "    <tr>\n",
              "      <th>0</th>\n",
              "      <td>Natural Gas</td>\n",
              "      <td>Heating and Mechanical Ventilation</td>\n",
              "    </tr>\n",
              "    <tr>\n",
              "      <th>1</th>\n",
              "      <td>Natural Gas</td>\n",
              "      <td>Heating and Natural Ventilation</td>\n",
              "    </tr>\n",
              "    <tr>\n",
              "      <th>2</th>\n",
              "      <td>Natural Gas</td>\n",
              "      <td>Heating and Natural Ventilation</td>\n",
              "    </tr>\n",
              "    <tr>\n",
              "      <th>3</th>\n",
              "      <td>Natural Gas</td>\n",
              "      <td>Heating and Natural Ventilation</td>\n",
              "    </tr>\n",
              "    <tr>\n",
              "      <th>4</th>\n",
              "      <td>Natural Gas</td>\n",
              "      <td>Mixed-mode with Mechanical Ventilation</td>\n",
              "    </tr>\n",
              "    <tr>\n",
              "      <th>...</th>\n",
              "      <td>...</td>\n",
              "      <td>...</td>\n",
              "    </tr>\n",
              "    <tr>\n",
              "      <th>25113</th>\n",
              "      <td>Natural Gas</td>\n",
              "      <td>Heating and Natural Ventilation</td>\n",
              "    </tr>\n",
              "    <tr>\n",
              "      <th>25114</th>\n",
              "      <td>Natural Gas</td>\n",
              "      <td>Heating and Natural Ventilation</td>\n",
              "    </tr>\n",
              "    <tr>\n",
              "      <th>25115</th>\n",
              "      <td>Natural Gas</td>\n",
              "      <td>Mixed-mode with Natural Ventilation</td>\n",
              "    </tr>\n",
              "    <tr>\n",
              "      <th>25116</th>\n",
              "      <td>Natural Gas</td>\n",
              "      <td>Heating and Mechanical Ventilation</td>\n",
              "    </tr>\n",
              "    <tr>\n",
              "      <th>25117</th>\n",
              "      <td>Natural Gas</td>\n",
              "      <td>Air Conditioning</td>\n",
              "    </tr>\n",
              "  </tbody>\n",
              "</table>\n",
              "<p>25118 rows × 2 columns</p>\n",
              "</div>"
            ],
            "text/plain": [
              "      MAIN_HEATING_FUEL                    BUILDING_ENVIRONMENT\n",
              "0           Natural Gas      Heating and Mechanical Ventilation\n",
              "1           Natural Gas         Heating and Natural Ventilation\n",
              "2           Natural Gas         Heating and Natural Ventilation\n",
              "3           Natural Gas         Heating and Natural Ventilation\n",
              "4           Natural Gas  Mixed-mode with Mechanical Ventilation\n",
              "...                 ...                                     ...\n",
              "25113       Natural Gas         Heating and Natural Ventilation\n",
              "25114       Natural Gas         Heating and Natural Ventilation\n",
              "25115       Natural Gas     Mixed-mode with Natural Ventilation\n",
              "25116       Natural Gas      Heating and Mechanical Ventilation\n",
              "25117       Natural Gas                        Air Conditioning\n",
              "\n",
              "[25118 rows x 2 columns]"
            ]
          },
          "metadata": {
            "tags": []
          },
          "execution_count": 13
        }
      ]
    },
    {
      "cell_type": "code",
      "metadata": {
        "id": "BJoES_oBQBIl",
        "outputId": "8cff0c13-2717-476c-8769-937e487c592f",
        "colab": {
          "base_uri": "https://localhost:8080/",
          "height": 435
        }
      },
      "source": [
        "from sklearn.preprocessing import OneHotEncoder\n",
        "\n",
        "encoder = OneHotEncoder(handle_unknown='ignore')\n",
        "x2 = encoder.fit_transform(x2).toarray()\n",
        "column_name = encoder.get_feature_names()\n",
        "x2\n",
        "one_hot_encoded_frame =  pd.DataFrame(x2, columns= column_name)\n",
        "one_hot_encoded_frame\n",
        "\n"
      ],
      "execution_count": 14,
      "outputs": [
        {
          "output_type": "execute_result",
          "data": {
            "text/html": [
              "<div>\n",
              "<style scoped>\n",
              "    .dataframe tbody tr th:only-of-type {\n",
              "        vertical-align: middle;\n",
              "    }\n",
              "\n",
              "    .dataframe tbody tr th {\n",
              "        vertical-align: top;\n",
              "    }\n",
              "\n",
              "    .dataframe thead th {\n",
              "        text-align: right;\n",
              "    }\n",
              "</style>\n",
              "<table border=\"1\" class=\"dataframe\">\n",
              "  <thead>\n",
              "    <tr style=\"text-align: right;\">\n",
              "      <th></th>\n",
              "      <th>x0_Anthracite</th>\n",
              "      <th>x0_Biogas</th>\n",
              "      <th>x0_Biomass</th>\n",
              "      <th>x0_Coal</th>\n",
              "      <th>x0_District Heating</th>\n",
              "      <th>x0_Grid Supplied Electricity</th>\n",
              "      <th>x0_LPG</th>\n",
              "      <th>x0_Natural Gas</th>\n",
              "      <th>x0_None</th>\n",
              "      <th>x0_Oil</th>\n",
              "      <th>x0_Other</th>\n",
              "      <th>x1_Air Conditioning</th>\n",
              "      <th>x1_Heating and Mechanical Ventilation</th>\n",
              "      <th>x1_Heating and Natural Ventilation</th>\n",
              "      <th>x1_Mechanical Ventilation Only</th>\n",
              "      <th>x1_Mixed-mode with Mechanical Ventilation</th>\n",
              "      <th>x1_Mixed-mode with Natural Ventilation</th>\n",
              "      <th>x1_Natural Ventilation Only</th>\n",
              "    </tr>\n",
              "  </thead>\n",
              "  <tbody>\n",
              "    <tr>\n",
              "      <th>0</th>\n",
              "      <td>0.0</td>\n",
              "      <td>0.0</td>\n",
              "      <td>0.0</td>\n",
              "      <td>0.0</td>\n",
              "      <td>0.0</td>\n",
              "      <td>0.0</td>\n",
              "      <td>0.0</td>\n",
              "      <td>1.0</td>\n",
              "      <td>0.0</td>\n",
              "      <td>0.0</td>\n",
              "      <td>0.0</td>\n",
              "      <td>0.0</td>\n",
              "      <td>1.0</td>\n",
              "      <td>0.0</td>\n",
              "      <td>0.0</td>\n",
              "      <td>0.0</td>\n",
              "      <td>0.0</td>\n",
              "      <td>0.0</td>\n",
              "    </tr>\n",
              "    <tr>\n",
              "      <th>1</th>\n",
              "      <td>0.0</td>\n",
              "      <td>0.0</td>\n",
              "      <td>0.0</td>\n",
              "      <td>0.0</td>\n",
              "      <td>0.0</td>\n",
              "      <td>0.0</td>\n",
              "      <td>0.0</td>\n",
              "      <td>1.0</td>\n",
              "      <td>0.0</td>\n",
              "      <td>0.0</td>\n",
              "      <td>0.0</td>\n",
              "      <td>0.0</td>\n",
              "      <td>0.0</td>\n",
              "      <td>1.0</td>\n",
              "      <td>0.0</td>\n",
              "      <td>0.0</td>\n",
              "      <td>0.0</td>\n",
              "      <td>0.0</td>\n",
              "    </tr>\n",
              "    <tr>\n",
              "      <th>2</th>\n",
              "      <td>0.0</td>\n",
              "      <td>0.0</td>\n",
              "      <td>0.0</td>\n",
              "      <td>0.0</td>\n",
              "      <td>0.0</td>\n",
              "      <td>0.0</td>\n",
              "      <td>0.0</td>\n",
              "      <td>1.0</td>\n",
              "      <td>0.0</td>\n",
              "      <td>0.0</td>\n",
              "      <td>0.0</td>\n",
              "      <td>0.0</td>\n",
              "      <td>0.0</td>\n",
              "      <td>1.0</td>\n",
              "      <td>0.0</td>\n",
              "      <td>0.0</td>\n",
              "      <td>0.0</td>\n",
              "      <td>0.0</td>\n",
              "    </tr>\n",
              "    <tr>\n",
              "      <th>3</th>\n",
              "      <td>0.0</td>\n",
              "      <td>0.0</td>\n",
              "      <td>0.0</td>\n",
              "      <td>0.0</td>\n",
              "      <td>0.0</td>\n",
              "      <td>0.0</td>\n",
              "      <td>0.0</td>\n",
              "      <td>1.0</td>\n",
              "      <td>0.0</td>\n",
              "      <td>0.0</td>\n",
              "      <td>0.0</td>\n",
              "      <td>0.0</td>\n",
              "      <td>0.0</td>\n",
              "      <td>1.0</td>\n",
              "      <td>0.0</td>\n",
              "      <td>0.0</td>\n",
              "      <td>0.0</td>\n",
              "      <td>0.0</td>\n",
              "    </tr>\n",
              "    <tr>\n",
              "      <th>4</th>\n",
              "      <td>0.0</td>\n",
              "      <td>0.0</td>\n",
              "      <td>0.0</td>\n",
              "      <td>0.0</td>\n",
              "      <td>0.0</td>\n",
              "      <td>0.0</td>\n",
              "      <td>0.0</td>\n",
              "      <td>1.0</td>\n",
              "      <td>0.0</td>\n",
              "      <td>0.0</td>\n",
              "      <td>0.0</td>\n",
              "      <td>0.0</td>\n",
              "      <td>0.0</td>\n",
              "      <td>0.0</td>\n",
              "      <td>0.0</td>\n",
              "      <td>1.0</td>\n",
              "      <td>0.0</td>\n",
              "      <td>0.0</td>\n",
              "    </tr>\n",
              "    <tr>\n",
              "      <th>...</th>\n",
              "      <td>...</td>\n",
              "      <td>...</td>\n",
              "      <td>...</td>\n",
              "      <td>...</td>\n",
              "      <td>...</td>\n",
              "      <td>...</td>\n",
              "      <td>...</td>\n",
              "      <td>...</td>\n",
              "      <td>...</td>\n",
              "      <td>...</td>\n",
              "      <td>...</td>\n",
              "      <td>...</td>\n",
              "      <td>...</td>\n",
              "      <td>...</td>\n",
              "      <td>...</td>\n",
              "      <td>...</td>\n",
              "      <td>...</td>\n",
              "      <td>...</td>\n",
              "    </tr>\n",
              "    <tr>\n",
              "      <th>25113</th>\n",
              "      <td>0.0</td>\n",
              "      <td>0.0</td>\n",
              "      <td>0.0</td>\n",
              "      <td>0.0</td>\n",
              "      <td>0.0</td>\n",
              "      <td>0.0</td>\n",
              "      <td>0.0</td>\n",
              "      <td>1.0</td>\n",
              "      <td>0.0</td>\n",
              "      <td>0.0</td>\n",
              "      <td>0.0</td>\n",
              "      <td>0.0</td>\n",
              "      <td>0.0</td>\n",
              "      <td>1.0</td>\n",
              "      <td>0.0</td>\n",
              "      <td>0.0</td>\n",
              "      <td>0.0</td>\n",
              "      <td>0.0</td>\n",
              "    </tr>\n",
              "    <tr>\n",
              "      <th>25114</th>\n",
              "      <td>0.0</td>\n",
              "      <td>0.0</td>\n",
              "      <td>0.0</td>\n",
              "      <td>0.0</td>\n",
              "      <td>0.0</td>\n",
              "      <td>0.0</td>\n",
              "      <td>0.0</td>\n",
              "      <td>1.0</td>\n",
              "      <td>0.0</td>\n",
              "      <td>0.0</td>\n",
              "      <td>0.0</td>\n",
              "      <td>0.0</td>\n",
              "      <td>0.0</td>\n",
              "      <td>1.0</td>\n",
              "      <td>0.0</td>\n",
              "      <td>0.0</td>\n",
              "      <td>0.0</td>\n",
              "      <td>0.0</td>\n",
              "    </tr>\n",
              "    <tr>\n",
              "      <th>25115</th>\n",
              "      <td>0.0</td>\n",
              "      <td>0.0</td>\n",
              "      <td>0.0</td>\n",
              "      <td>0.0</td>\n",
              "      <td>0.0</td>\n",
              "      <td>0.0</td>\n",
              "      <td>0.0</td>\n",
              "      <td>1.0</td>\n",
              "      <td>0.0</td>\n",
              "      <td>0.0</td>\n",
              "      <td>0.0</td>\n",
              "      <td>0.0</td>\n",
              "      <td>0.0</td>\n",
              "      <td>0.0</td>\n",
              "      <td>0.0</td>\n",
              "      <td>0.0</td>\n",
              "      <td>1.0</td>\n",
              "      <td>0.0</td>\n",
              "    </tr>\n",
              "    <tr>\n",
              "      <th>25116</th>\n",
              "      <td>0.0</td>\n",
              "      <td>0.0</td>\n",
              "      <td>0.0</td>\n",
              "      <td>0.0</td>\n",
              "      <td>0.0</td>\n",
              "      <td>0.0</td>\n",
              "      <td>0.0</td>\n",
              "      <td>1.0</td>\n",
              "      <td>0.0</td>\n",
              "      <td>0.0</td>\n",
              "      <td>0.0</td>\n",
              "      <td>0.0</td>\n",
              "      <td>1.0</td>\n",
              "      <td>0.0</td>\n",
              "      <td>0.0</td>\n",
              "      <td>0.0</td>\n",
              "      <td>0.0</td>\n",
              "      <td>0.0</td>\n",
              "    </tr>\n",
              "    <tr>\n",
              "      <th>25117</th>\n",
              "      <td>0.0</td>\n",
              "      <td>0.0</td>\n",
              "      <td>0.0</td>\n",
              "      <td>0.0</td>\n",
              "      <td>0.0</td>\n",
              "      <td>0.0</td>\n",
              "      <td>0.0</td>\n",
              "      <td>1.0</td>\n",
              "      <td>0.0</td>\n",
              "      <td>0.0</td>\n",
              "      <td>0.0</td>\n",
              "      <td>1.0</td>\n",
              "      <td>0.0</td>\n",
              "      <td>0.0</td>\n",
              "      <td>0.0</td>\n",
              "      <td>0.0</td>\n",
              "      <td>0.0</td>\n",
              "      <td>0.0</td>\n",
              "    </tr>\n",
              "  </tbody>\n",
              "</table>\n",
              "<p>25118 rows × 18 columns</p>\n",
              "</div>"
            ],
            "text/plain": [
              "       x0_Anthracite  ...  x1_Natural Ventilation Only\n",
              "0                0.0  ...                          0.0\n",
              "1                0.0  ...                          0.0\n",
              "2                0.0  ...                          0.0\n",
              "3                0.0  ...                          0.0\n",
              "4                0.0  ...                          0.0\n",
              "...              ...  ...                          ...\n",
              "25113            0.0  ...                          0.0\n",
              "25114            0.0  ...                          0.0\n",
              "25115            0.0  ...                          0.0\n",
              "25116            0.0  ...                          0.0\n",
              "25117            0.0  ...                          0.0\n",
              "\n",
              "[25118 rows x 18 columns]"
            ]
          },
          "metadata": {
            "tags": []
          },
          "execution_count": 14
        }
      ]
    },
    {
      "cell_type": "markdown",
      "metadata": {
        "id": "3Wd7WBC6fSSI"
      },
      "source": [
        "# combine your numerical and categorical imput features and split your data into training and testing"
      ]
    },
    {
      "cell_type": "code",
      "metadata": {
        "id": "eq9FKlTgOsvX",
        "outputId": "0d742b9c-c24e-48b3-8244-539a3c7fb0a5",
        "colab": {
          "base_uri": "https://localhost:8080/",
          "height": 34
        }
      },
      "source": [
        "x1.shape"
      ],
      "execution_count": 15,
      "outputs": [
        {
          "output_type": "execute_result",
          "data": {
            "text/plain": [
              "(25118, 1)"
            ]
          },
          "metadata": {
            "tags": []
          },
          "execution_count": 15
        }
      ]
    },
    {
      "cell_type": "code",
      "metadata": {
        "id": "ob2Nd1_pTeAx",
        "outputId": "974e76f8-1a3d-41c4-a001-d8b1ec5f0294",
        "colab": {
          "base_uri": "https://localhost:8080/",
          "height": 34
        }
      },
      "source": [
        "x2.shape"
      ],
      "execution_count": 16,
      "outputs": [
        {
          "output_type": "execute_result",
          "data": {
            "text/plain": [
              "(25118, 18)"
            ]
          },
          "metadata": {
            "tags": []
          },
          "execution_count": 16
        }
      ]
    },
    {
      "cell_type": "code",
      "metadata": {
        "id": "0taJGPcRTfLN",
        "outputId": "256c8b15-1c8b-416f-d365-371111e4a344",
        "colab": {
          "base_uri": "https://localhost:8080/",
          "height": 34
        }
      },
      "source": [
        "x = np.hstack([x1, x2])\n",
        "x.shape"
      ],
      "execution_count": 17,
      "outputs": [
        {
          "output_type": "execute_result",
          "data": {
            "text/plain": [
              "(25118, 19)"
            ]
          },
          "metadata": {
            "tags": []
          },
          "execution_count": 17
        }
      ]
    },
    {
      "cell_type": "code",
      "metadata": {
        "id": "WCUUattUUfqR"
      },
      "source": [
        "from sklearn.model_selection import train_test_split\n",
        "\n",
        "X_train, X_test, y_train, y_test = train_test_split(\n",
        "    x, y, test_size=0.25, random_state=42)"
      ],
      "execution_count": 18,
      "outputs": []
    },
    {
      "cell_type": "markdown",
      "metadata": {
        "id": "ao-6jRG0fdNT"
      },
      "source": [
        "# run a random forest REGRESSION model\n",
        "\n",
        "report the score on the tranining and test data and identify the most important features"
      ]
    },
    {
      "cell_type": "code",
      "metadata": {
        "id": "kEiFt_htTjNF",
        "outputId": "b54b4db9-90c8-49f2-efd5-2147f9a0e2e9",
        "colab": {
          "base_uri": "https://localhost:8080/",
          "height": 134
        }
      },
      "source": [
        "from sklearn.ensemble import RandomForestRegressor\n",
        "rf = RandomForestRegressor(max_depth=2, random_state=0)\n",
        "rf.fit(X_train, y_train,)\n"
      ],
      "execution_count": 19,
      "outputs": [
        {
          "output_type": "execute_result",
          "data": {
            "text/plain": [
              "RandomForestRegressor(bootstrap=True, ccp_alpha=0.0, criterion='mse',\n",
              "                      max_depth=2, max_features='auto', max_leaf_nodes=None,\n",
              "                      max_samples=None, min_impurity_decrease=0.0,\n",
              "                      min_impurity_split=None, min_samples_leaf=1,\n",
              "                      min_samples_split=2, min_weight_fraction_leaf=0.0,\n",
              "                      n_estimators=100, n_jobs=None, oob_score=False,\n",
              "                      random_state=0, verbose=0, warm_start=False)"
            ]
          },
          "metadata": {
            "tags": []
          },
          "execution_count": 19
        }
      ]
    },
    {
      "cell_type": "code",
      "metadata": {
        "id": "jORmU9bIru5k",
        "outputId": "a6b89a6d-18d9-433e-c477-cfafb861c713",
        "colab": {
          "base_uri": "https://localhost:8080/",
          "height": 34
        }
      },
      "source": [
        "rf.score(X_train, y_train)"
      ],
      "execution_count": 20,
      "outputs": [
        {
          "output_type": "execute_result",
          "data": {
            "text/plain": [
              "0.08739069146183664"
            ]
          },
          "metadata": {
            "tags": []
          },
          "execution_count": 20
        }
      ]
    },
    {
      "cell_type": "markdown",
      "metadata": {
        "id": "IkhY7rUasG7B"
      },
      "source": [
        "The R2 of .087 indicates a weak fit to the model, even with the training dataset."
      ]
    },
    {
      "cell_type": "code",
      "metadata": {
        "id": "ymTuhJURT8hC",
        "outputId": "627791d7-d5b9-4006-f595-3a856ae9fe1c",
        "colab": {
          "base_uri": "https://localhost:8080/",
          "height": 34
        }
      },
      "source": [
        "rf.score(X_test, y_test)"
      ],
      "execution_count": 21,
      "outputs": [
        {
          "output_type": "execute_result",
          "data": {
            "text/plain": [
              "0.06438451580914706"
            ]
          },
          "metadata": {
            "tags": []
          },
          "execution_count": 21
        }
      ]
    },
    {
      "cell_type": "markdown",
      "metadata": {
        "id": "0M6nYvKVduZU"
      },
      "source": [
        "The R2 is .064. This value has a maximum of 1, thus this low R2 represents a weak prediction of energy use given the building area, main heating fuel, and building environment. This value is also only slightly lower than the training R2.\n"
      ]
    },
    {
      "cell_type": "code",
      "metadata": {
        "id": "jX2RquwBUT0a",
        "outputId": "b2abb692-0113-4573-cacd-8ccecd3142ef",
        "colab": {
          "base_uri": "https://localhost:8080/",
          "height": 50
        }
      },
      "source": [
        "rf.feature_importances_"
      ],
      "execution_count": 22,
      "outputs": [
        {
          "output_type": "execute_result",
          "data": {
            "text/plain": [
              "array([1., 0., 0., 0., 0., 0., 0., 0., 0., 0., 0., 0., 0., 0., 0., 0., 0.,\n",
              "       0., 0.])"
            ]
          },
          "metadata": {
            "tags": []
          },
          "execution_count": 22
        }
      ]
    },
    {
      "cell_type": "code",
      "metadata": {
        "id": "465vWw5gWGA3",
        "outputId": "79c32e41-a658-4ee4-c788-11cc099f696f",
        "colab": {
          "base_uri": "https://localhost:8080/",
          "height": 168
        }
      },
      "source": [
        "names = list(one_hot_encoded_frame.columns.values.tolist())\n",
        "names.insert(0, 'floor_area_SF')  \n",
        " \n",
        "\n",
        "feature_names = np.array(names)\n",
        "\n",
        "feature_names"
      ],
      "execution_count": 23,
      "outputs": [
        {
          "output_type": "execute_result",
          "data": {
            "text/plain": [
              "array(['floor_area_SF', 'x0_Anthracite', 'x0_Biogas', 'x0_Biomass',\n",
              "       'x0_Coal', 'x0_District Heating', 'x0_Grid Supplied Electricity',\n",
              "       'x0_LPG', 'x0_Natural Gas', 'x0_None', 'x0_Oil', 'x0_Other',\n",
              "       'x1_Air Conditioning', 'x1_Heating and Mechanical Ventilation',\n",
              "       'x1_Heating and Natural Ventilation',\n",
              "       'x1_Mechanical Ventilation Only',\n",
              "       'x1_Mixed-mode with Mechanical Ventilation',\n",
              "       'x1_Mixed-mode with Natural Ventilation',\n",
              "       'x1_Natural Ventilation Only'], dtype='<U41')"
            ]
          },
          "metadata": {
            "tags": []
          },
          "execution_count": 23
        }
      ]
    },
    {
      "cell_type": "code",
      "metadata": {
        "id": "jO9F9bMRUYgU",
        "outputId": "db4a2540-4ae9-4195-8aaf-6fde6d66d659",
        "colab": {
          "base_uri": "https://localhost:8080/",
          "height": 1000
        }
      },
      "source": [
        "import pylab as plt\n",
        "tree_feature_importances = (\n",
        "    rf.feature_importances_)\n",
        "sorted_idx = tree_feature_importances.argsort()\n",
        "\n",
        "y_ticks = np.arange(0, len(feature_names))\n",
        "fig, ax = plt.subplots(figsize=(10,20))\n",
        "ax.barh(y_ticks, tree_feature_importances[sorted_idx])\n",
        "ax.set_yticklabels(feature_names[sorted_idx])\n",
        "ax.set_yticks(y_ticks)\n",
        "ax.set_title(\"Random Forest Feature Importances (MDI)\")\n",
        "fig.tight_layout()\n",
        "plt.show()"
      ],
      "execution_count": 24,
      "outputs": [
        {
          "output_type": "display_data",
          "data": {
            "image/png": "[encoded data removed]",
            "text/plain": [
              "<Figure size 720x1440 with 1 Axes>"
            ]
          },
          "metadata": {
            "tags": [],
            "needs_background": "light"
          }
        }
      ]
    },
    {
      "cell_type": "markdown",
      "metadata": {
        "id": "op6AxXxafY65"
      },
      "source": [
        "Figure 1: Importance chart of the input variables, representing how influential each input variable is on predicting energy use with the random forest regression classifier. Floor area is the most important variable. The other variables of little to no importance."
      ]
    },
    {
      "cell_type": "markdown",
      "metadata": {
        "id": "XZxr_mNXV5QB"
      },
      "source": [
        "# useful links and methods and functions I used: \n",
        "\n",
        "```df.dropna()``` to remove observation with missing variables\n",
        "\n",
        "```df.drop(columns, axis=1)``` to remove features (columns)\n",
        "\n",
        "\n",
        "```np.log10()``` and ```np.isinf()``` to convert to log space and find infinite values  \n"
      ]
    },
    {
      "cell_type": "markdown",
      "metadata": {
        "id": "glzZInBSoLjW"
      },
      "source": [
        "one hot encoder https://scikit-learn.org/stable/modules/generated/sklearn.preprocessing.OneHotEncoder.html and https://stackabuse.com/one-hot-encoding-in-python-with-pandas-and-scikit-learn/\n"
      ]
    },
    {
      "cell_type": "markdown",
      "metadata": {
        "id": "c9_0ZFaGqRj1"
      },
      "source": [
        "KNN imputer https://scikit-learn.org/stable/modules/generated/sklearn.impute.KNNImputer.html , https://www.analyticsvidhya.com/blog/2020/07/knnimputer-a-robust-way-to-impute-missing-values-using-scikit-learn/, and \n",
        "https://machinelearningmastery.com/knn-imputation-for-missing-values-in-machine-learning/  "
      ]
    },
    {
      "cell_type": "code",
      "metadata": {
        "id": "bKLcYpBcqggC"
      },
      "source": [
        ""
      ],
      "execution_count": 24,
      "outputs": []
    },
    {
      "cell_type": "markdown",
      "metadata": {
        "id": "l2bDx2a_AvoB"
      },
      "source": [
        "Chicago"
      ]
    },
    {
      "cell_type": "code",
      "metadata": {
        "id": "mCb4Ma4uAyZJ"
      },
      "source": [
        "chi = pd.read_csv(\"https://raw.githubusercontent.com/Urban-Informatics-Lab/Open-Data-Benchmarking/master/Chicago/Chicago_Energy_Benchmarking_-_2016_Data_Reported_in_2017.csv\")"
      ],
      "execution_count": 25,
      "outputs": []
    },
    {
      "cell_type": "code",
      "metadata": {
        "id": "e8y21UHAA8e2",
        "outputId": "4d13b48c-54ba-4b9a-c263-5821d1bbc208",
        "colab": {
          "base_uri": "https://localhost:8080/",
          "height": 371
        }
      },
      "source": [
        "chi.describe()"
      ],
      "execution_count": 26,
      "outputs": [
        {
          "output_type": "execute_result",
          "data": {
            "text/html": [
              "<div>\n",
              "<style scoped>\n",
              "    .dataframe tbody tr th:only-of-type {\n",
              "        vertical-align: middle;\n",
              "    }\n",
              "\n",
              "    .dataframe tbody tr th {\n",
              "        vertical-align: top;\n",
              "    }\n",
              "\n",
              "    .dataframe thead th {\n",
              "        text-align: right;\n",
              "    }\n",
              "</style>\n",
              "<table border=\"1\" class=\"dataframe\">\n",
              "  <thead>\n",
              "    <tr style=\"text-align: right;\">\n",
              "      <th></th>\n",
              "      <th>Data Year</th>\n",
              "      <th>ID</th>\n",
              "      <th>Gross Floor Area - Buildings (sq ft)</th>\n",
              "      <th>Year Built</th>\n",
              "      <th># of Buildings</th>\n",
              "      <th>ENERGY STAR Score</th>\n",
              "      <th>Electricity Use (kBtu)</th>\n",
              "      <th>Natural Gas Use (kBtu)</th>\n",
              "      <th>District Steam Use (kBtu)</th>\n",
              "      <th>District Chilled Water Use (kBtu)</th>\n",
              "      <th>All Other Fuel Use (kBtu)</th>\n",
              "      <th>Site EUI (kBtu/sq ft)</th>\n",
              "      <th>Source EUI (kBtu/sq ft)</th>\n",
              "      <th>Weather Normalized Site EUI (kBtu/sq ft)</th>\n",
              "      <th>Weather Normalized Source EUI (kBtu/sq ft)</th>\n",
              "      <th>Total GHG Emissions (Metric Tons CO2e)</th>\n",
              "      <th>GHG Intensity (kg CO2e/sq ft)</th>\n",
              "      <th>Latitude</th>\n",
              "      <th>Longitude</th>\n",
              "    </tr>\n",
              "  </thead>\n",
              "  <tbody>\n",
              "    <tr>\n",
              "      <th>count</th>\n",
              "      <td>2717.0</td>\n",
              "      <td>2717.000000</td>\n",
              "      <td>2.717000e+03</td>\n",
              "      <td>2712.000000</td>\n",
              "      <td>2717.000000</td>\n",
              "      <td>2300.000000</td>\n",
              "      <td>2.691000e+03</td>\n",
              "      <td>2.478000e+03</td>\n",
              "      <td>6.700000e+01</td>\n",
              "      <td>8.800000e+01</td>\n",
              "      <td>1.700000e+01</td>\n",
              "      <td>2688.000000</td>\n",
              "      <td>2688.000000</td>\n",
              "      <td>2658.000000</td>\n",
              "      <td>2658.000000</td>\n",
              "      <td>2673.000000</td>\n",
              "      <td>2673.000000</td>\n",
              "      <td>2717.000000</td>\n",
              "      <td>2717.000000</td>\n",
              "    </tr>\n",
              "    <tr>\n",
              "      <th>mean</th>\n",
              "      <td>2016.0</td>\n",
              "      <td>184277.504233</td>\n",
              "      <td>2.444146e+05</td>\n",
              "      <td>1962.731932</td>\n",
              "      <td>1.408907</td>\n",
              "      <td>60.012609</td>\n",
              "      <td>1.081069e+07</td>\n",
              "      <td>1.191014e+07</td>\n",
              "      <td>2.797624e+07</td>\n",
              "      <td>1.759946e+07</td>\n",
              "      <td>1.100594e+06</td>\n",
              "      <td>94.208408</td>\n",
              "      <td>180.017820</td>\n",
              "      <td>99.133296</td>\n",
              "      <td>184.965500</td>\n",
              "      <td>2630.786495</td>\n",
              "      <td>10.103629</td>\n",
              "      <td>41.885083</td>\n",
              "      <td>-87.653376</td>\n",
              "    </tr>\n",
              "    <tr>\n",
              "      <th>std</th>\n",
              "      <td>0.0</td>\n",
              "      <td>59795.814503</td>\n",
              "      <td>3.956004e+05</td>\n",
              "      <td>36.324819</td>\n",
              "      <td>5.181418</td>\n",
              "      <td>28.350327</td>\n",
              "      <td>2.502301e+07</td>\n",
              "      <td>2.785050e+07</td>\n",
              "      <td>5.054843e+07</td>\n",
              "      <td>1.955778e+07</td>\n",
              "      <td>2.637424e+06</td>\n",
              "      <td>125.939184</td>\n",
              "      <td>166.056539</td>\n",
              "      <td>127.267249</td>\n",
              "      <td>166.420203</td>\n",
              "      <td>5794.436792</td>\n",
              "      <td>9.002384</td>\n",
              "      <td>0.068259</td>\n",
              "      <td>0.047320</td>\n",
              "    </tr>\n",
              "    <tr>\n",
              "      <th>min</th>\n",
              "      <td>2016.0</td>\n",
              "      <td>100001.000000</td>\n",
              "      <td>5.000000e+04</td>\n",
              "      <td>1872.000000</td>\n",
              "      <td>1.000000</td>\n",
              "      <td>1.000000</td>\n",
              "      <td>5.028900e+03</td>\n",
              "      <td>1.284000e+03</td>\n",
              "      <td>-1.714850e+07</td>\n",
              "      <td>-1.383204e+06</td>\n",
              "      <td>1.587000e+04</td>\n",
              "      <td>0.200000</td>\n",
              "      <td>0.200000</td>\n",
              "      <td>0.300000</td>\n",
              "      <td>0.300000</td>\n",
              "      <td>32.500000</td>\n",
              "      <td>0.400000</td>\n",
              "      <td>41.651404</td>\n",
              "      <td>-87.905562</td>\n",
              "    </tr>\n",
              "    <tr>\n",
              "      <th>25%</th>\n",
              "      <td>2016.0</td>\n",
              "      <td>120518.000000</td>\n",
              "      <td>7.491000e+04</td>\n",
              "      <td>1927.750000</td>\n",
              "      <td>1.000000</td>\n",
              "      <td>38.000000</td>\n",
              "      <td>1.948236e+06</td>\n",
              "      <td>3.213429e+06</td>\n",
              "      <td>6.435511e+06</td>\n",
              "      <td>4.815333e+06</td>\n",
              "      <td>4.416000e+04</td>\n",
              "      <td>61.800000</td>\n",
              "      <td>113.875000</td>\n",
              "      <td>65.400000</td>\n",
              "      <td>118.625000</td>\n",
              "      <td>602.100000</td>\n",
              "      <td>6.300000</td>\n",
              "      <td>41.860795</td>\n",
              "      <td>-87.666607</td>\n",
              "    </tr>\n",
              "    <tr>\n",
              "      <th>50%</th>\n",
              "      <td>2016.0</td>\n",
              "      <td>173702.000000</td>\n",
              "      <td>1.229450e+05</td>\n",
              "      <td>1969.000000</td>\n",
              "      <td>1.000000</td>\n",
              "      <td>65.000000</td>\n",
              "      <td>4.035714e+06</td>\n",
              "      <td>5.585163e+06</td>\n",
              "      <td>1.343250e+07</td>\n",
              "      <td>9.720848e+06</td>\n",
              "      <td>7.009020e+04</td>\n",
              "      <td>79.400000</td>\n",
              "      <td>148.100000</td>\n",
              "      <td>84.400000</td>\n",
              "      <td>154.050000</td>\n",
              "      <td>1099.500000</td>\n",
              "      <td>8.300000</td>\n",
              "      <td>41.890528</td>\n",
              "      <td>-87.640861</td>\n",
              "    </tr>\n",
              "    <tr>\n",
              "      <th>75%</th>\n",
              "      <td>2016.0</td>\n",
              "      <td>251346.000000</td>\n",
              "      <td>2.520760e+05</td>\n",
              "      <td>1997.000000</td>\n",
              "      <td>1.000000</td>\n",
              "      <td>84.000000</td>\n",
              "      <td>9.735142e+06</td>\n",
              "      <td>1.191968e+07</td>\n",
              "      <td>2.439484e+07</td>\n",
              "      <td>2.255981e+07</td>\n",
              "      <td>1.047696e+05</td>\n",
              "      <td>101.050000</td>\n",
              "      <td>196.575000</td>\n",
              "      <td>107.275000</td>\n",
              "      <td>201.575000</td>\n",
              "      <td>2435.700000</td>\n",
              "      <td>11.100000</td>\n",
              "      <td>41.925024</td>\n",
              "      <td>-87.626668</td>\n",
              "    </tr>\n",
              "    <tr>\n",
              "      <th>max</th>\n",
              "      <td>2016.0</td>\n",
              "      <td>260184.000000</td>\n",
              "      <td>9.245333e+06</td>\n",
              "      <td>2016.000000</td>\n",
              "      <td>236.000000</td>\n",
              "      <td>100.000000</td>\n",
              "      <td>4.857050e+08</td>\n",
              "      <td>5.493302e+08</td>\n",
              "      <td>3.575457e+08</td>\n",
              "      <td>9.075356e+07</td>\n",
              "      <td>8.912998e+06</td>\n",
              "      <td>5637.700000</td>\n",
              "      <td>6001.500000</td>\n",
              "      <td>5637.700000</td>\n",
              "      <td>6001.500000</td>\n",
              "      <td>127610.000000</td>\n",
              "      <td>304.600000</td>\n",
              "      <td>42.019367</td>\n",
              "      <td>-87.527913</td>\n",
              "    </tr>\n",
              "  </tbody>\n",
              "</table>\n",
              "</div>"
            ],
            "text/plain": [
              "       Data Year             ID  ...     Latitude    Longitude\n",
              "count     2717.0    2717.000000  ...  2717.000000  2717.000000\n",
              "mean      2016.0  184277.504233  ...    41.885083   -87.653376\n",
              "std          0.0   59795.814503  ...     0.068259     0.047320\n",
              "min       2016.0  100001.000000  ...    41.651404   -87.905562\n",
              "25%       2016.0  120518.000000  ...    41.860795   -87.666607\n",
              "50%       2016.0  173702.000000  ...    41.890528   -87.640861\n",
              "75%       2016.0  251346.000000  ...    41.925024   -87.626668\n",
              "max       2016.0  260184.000000  ...    42.019367   -87.527913\n",
              "\n",
              "[8 rows x 19 columns]"
            ]
          },
          "metadata": {
            "tags": []
          },
          "execution_count": 26
        }
      ]
    },
    {
      "cell_type": "code",
      "metadata": {
        "id": "L2mxN9QWBKj5",
        "outputId": "8e71b553-cc34-43e5-b3f9-694bde8a3d59",
        "colab": {
          "base_uri": "https://localhost:8080/",
          "height": 484
        }
      },
      "source": [
        "chi.head()"
      ],
      "execution_count": 27,
      "outputs": [
        {
          "output_type": "execute_result",
          "data": {
            "text/html": [
              "<div>\n",
              "<style scoped>\n",
              "    .dataframe tbody tr th:only-of-type {\n",
              "        vertical-align: middle;\n",
              "    }\n",
              "\n",
              "    .dataframe tbody tr th {\n",
              "        vertical-align: top;\n",
              "    }\n",
              "\n",
              "    .dataframe thead th {\n",
              "        text-align: right;\n",
              "    }\n",
              "</style>\n",
              "<table border=\"1\" class=\"dataframe\">\n",
              "  <thead>\n",
              "    <tr style=\"text-align: right;\">\n",
              "      <th></th>\n",
              "      <th>Data Year</th>\n",
              "      <th>ID</th>\n",
              "      <th>Property Name</th>\n",
              "      <th>Address</th>\n",
              "      <th>ZIP Code</th>\n",
              "      <th>Community Area</th>\n",
              "      <th>Primary Property Type</th>\n",
              "      <th>Gross Floor Area - Buildings (sq ft)</th>\n",
              "      <th>Year Built</th>\n",
              "      <th># of Buildings</th>\n",
              "      <th>ENERGY STAR Score</th>\n",
              "      <th>Electricity Use (kBtu)</th>\n",
              "      <th>Natural Gas Use (kBtu)</th>\n",
              "      <th>District Steam Use (kBtu)</th>\n",
              "      <th>District Chilled Water Use (kBtu)</th>\n",
              "      <th>All Other Fuel Use (kBtu)</th>\n",
              "      <th>Site EUI (kBtu/sq ft)</th>\n",
              "      <th>Source EUI (kBtu/sq ft)</th>\n",
              "      <th>Weather Normalized Site EUI (kBtu/sq ft)</th>\n",
              "      <th>Weather Normalized Source EUI (kBtu/sq ft)</th>\n",
              "      <th>Total GHG Emissions (Metric Tons CO2e)</th>\n",
              "      <th>GHG Intensity (kg CO2e/sq ft)</th>\n",
              "      <th>Latitude</th>\n",
              "      <th>Longitude</th>\n",
              "      <th>Location</th>\n",
              "    </tr>\n",
              "  </thead>\n",
              "  <tbody>\n",
              "    <tr>\n",
              "      <th>0</th>\n",
              "      <td>2016</td>\n",
              "      <td>254115</td>\n",
              "      <td>Archer Building Lofts Condominium Association</td>\n",
              "      <td>2310 S. Canal Street</td>\n",
              "      <td>60616</td>\n",
              "      <td>Armour Square</td>\n",
              "      <td>Multifamily Housing</td>\n",
              "      <td>99000.0</td>\n",
              "      <td>2000.0</td>\n",
              "      <td>1</td>\n",
              "      <td>96.0</td>\n",
              "      <td>1935003.2</td>\n",
              "      <td>2783435.5</td>\n",
              "      <td>NaN</td>\n",
              "      <td>NaN</td>\n",
              "      <td>NaN</td>\n",
              "      <td>47.7</td>\n",
              "      <td>90.9</td>\n",
              "      <td>46.7</td>\n",
              "      <td>87.8</td>\n",
              "      <td>504.5</td>\n",
              "      <td>5.1</td>\n",
              "      <td>41.884253</td>\n",
              "      <td>-87.63245</td>\n",
              "      <td>(41.8842525, -87.63245)</td>\n",
              "    </tr>\n",
              "    <tr>\n",
              "      <th>1</th>\n",
              "      <td>2016</td>\n",
              "      <td>254114</td>\n",
              "      <td>HRTL - Town Hall: 3600 N Halsted</td>\n",
              "      <td>3600 North Halsted Street</td>\n",
              "      <td>60613</td>\n",
              "      <td>Lake View</td>\n",
              "      <td>Multifamily Housing</td>\n",
              "      <td>92072.0</td>\n",
              "      <td>2014.0</td>\n",
              "      <td>1</td>\n",
              "      <td>55.0</td>\n",
              "      <td>2477744.2</td>\n",
              "      <td>3147551.1</td>\n",
              "      <td>NaN</td>\n",
              "      <td>NaN</td>\n",
              "      <td>NaN</td>\n",
              "      <td>61.1</td>\n",
              "      <td>120.4</td>\n",
              "      <td>63.6</td>\n",
              "      <td>123.0</td>\n",
              "      <td>623.9</td>\n",
              "      <td>6.8</td>\n",
              "      <td>41.947402</td>\n",
              "      <td>-87.64964</td>\n",
              "      <td>(41.9474017, -87.64964)</td>\n",
              "    </tr>\n",
              "    <tr>\n",
              "      <th>2</th>\n",
              "      <td>2016</td>\n",
              "      <td>254113</td>\n",
              "      <td>40 E Delaware Condominiums</td>\n",
              "      <td>40 E Delaware</td>\n",
              "      <td>60611</td>\n",
              "      <td>Near North Side</td>\n",
              "      <td>Multifamily Housing</td>\n",
              "      <td>136000.0</td>\n",
              "      <td>1924.0</td>\n",
              "      <td>1</td>\n",
              "      <td>24.0</td>\n",
              "      <td>5724360.2</td>\n",
              "      <td>1951759.8</td>\n",
              "      <td>NaN</td>\n",
              "      <td>NaN</td>\n",
              "      <td>NaN</td>\n",
              "      <td>56.4</td>\n",
              "      <td>147.2</td>\n",
              "      <td>59.8</td>\n",
              "      <td>157.4</td>\n",
              "      <td>1158.8</td>\n",
              "      <td>8.5</td>\n",
              "      <td>41.899208</td>\n",
              "      <td>-87.62729</td>\n",
              "      <td>(41.8992081, -87.62729)</td>\n",
              "    </tr>\n",
              "    <tr>\n",
              "      <th>3</th>\n",
              "      <td>2016</td>\n",
              "      <td>254109</td>\n",
              "      <td>South Commons - 2901 S Michigan</td>\n",
              "      <td>2901 S Michigan</td>\n",
              "      <td>60616</td>\n",
              "      <td>Douglas</td>\n",
              "      <td>Multifamily Housing</td>\n",
              "      <td>182246.0</td>\n",
              "      <td>1964.0</td>\n",
              "      <td>1</td>\n",
              "      <td>41.0</td>\n",
              "      <td>3158535.8</td>\n",
              "      <td>17010259.2</td>\n",
              "      <td>NaN</td>\n",
              "      <td>NaN</td>\n",
              "      <td>NaN</td>\n",
              "      <td>110.7</td>\n",
              "      <td>152.4</td>\n",
              "      <td>121.1</td>\n",
              "      <td>163.3</td>\n",
              "      <td>1485.7</td>\n",
              "      <td>8.2</td>\n",
              "      <td>41.845860</td>\n",
              "      <td>-87.62921</td>\n",
              "      <td>(41.8458598, -87.62921)</td>\n",
              "    </tr>\n",
              "    <tr>\n",
              "      <th>4</th>\n",
              "      <td>2016</td>\n",
              "      <td>254107</td>\n",
              "      <td>Columbus on the Park Condominium</td>\n",
              "      <td>811 S Lytle</td>\n",
              "      <td>60607</td>\n",
              "      <td>Near West Side</td>\n",
              "      <td>Multifamily Housing</td>\n",
              "      <td>193497.0</td>\n",
              "      <td>1930.0</td>\n",
              "      <td>1</td>\n",
              "      <td>94.0</td>\n",
              "      <td>3620381.1</td>\n",
              "      <td>5465540.1</td>\n",
              "      <td>NaN</td>\n",
              "      <td>NaN</td>\n",
              "      <td>NaN</td>\n",
              "      <td>47.0</td>\n",
              "      <td>88.4</td>\n",
              "      <td>48.8</td>\n",
              "      <td>89.0</td>\n",
              "      <td>957.6</td>\n",
              "      <td>4.9</td>\n",
              "      <td>41.874295</td>\n",
              "      <td>-87.65018</td>\n",
              "      <td>(41.8742951, -87.65018)</td>\n",
              "    </tr>\n",
              "  </tbody>\n",
              "</table>\n",
              "</div>"
            ],
            "text/plain": [
              "   Data Year      ID  ... Longitude                 Location\n",
              "0       2016  254115  ... -87.63245  (41.8842525, -87.63245)\n",
              "1       2016  254114  ... -87.64964  (41.9474017, -87.64964)\n",
              "2       2016  254113  ... -87.62729  (41.8992081, -87.62729)\n",
              "3       2016  254109  ... -87.62921  (41.8458598, -87.62921)\n",
              "4       2016  254107  ... -87.65018  (41.8742951, -87.65018)\n",
              "\n",
              "[5 rows x 25 columns]"
            ]
          },
          "metadata": {
            "tags": []
          },
          "execution_count": 27
        }
      ]
    },
    {
      "cell_type": "code",
      "metadata": {
        "id": "DJQpRiP7BC2d",
        "outputId": "2074f578-d440-42b6-edf6-412e38d46ca7",
        "colab": {
          "base_uri": "https://localhost:8080/",
          "height": 437
        }
      },
      "source": [
        "# summarize the number of rows with missing values for each column\n",
        "for c in chi.columns:\n",
        "  \n",
        "  # count number of rows with missing values\n",
        "  n_miss = chi[c].isnull().sum()\n",
        "  perc = n_miss / chi.shape[0] * 100\n",
        "  print('%s (%s):  Missing: %d (%.1f%%)' % (c, chi[c].dtype, \n",
        "                                                  n_miss, perc))\n"
      ],
      "execution_count": 28,
      "outputs": [
        {
          "output_type": "stream",
          "text": [
            "Data Year (int64):  Missing: 0 (0.0%)\n",
            "ID (int64):  Missing: 0 (0.0%)\n",
            "Property Name (object):  Missing: 0 (0.0%)\n",
            "Address (object):  Missing: 0 (0.0%)\n",
            "ZIP Code (object):  Missing: 0 (0.0%)\n",
            "Community Area (object):  Missing: 0 (0.0%)\n",
            "Primary Property Type (object):  Missing: 0 (0.0%)\n",
            "Gross Floor Area - Buildings (sq ft) (float64):  Missing: 0 (0.0%)\n",
            "Year Built (float64):  Missing: 5 (0.2%)\n",
            "# of Buildings (int64):  Missing: 0 (0.0%)\n",
            "ENERGY STAR Score (float64):  Missing: 417 (15.3%)\n",
            "Electricity Use (kBtu) (float64):  Missing: 26 (1.0%)\n",
            "Natural Gas Use (kBtu) (float64):  Missing: 239 (8.8%)\n",
            "District Steam Use (kBtu) (float64):  Missing: 2650 (97.5%)\n",
            "District Chilled Water Use (kBtu) (float64):  Missing: 2629 (96.8%)\n",
            "All Other Fuel Use (kBtu) (float64):  Missing: 2700 (99.4%)\n",
            "Site EUI (kBtu/sq ft) (float64):  Missing: 29 (1.1%)\n",
            "Source EUI (kBtu/sq ft) (float64):  Missing: 29 (1.1%)\n",
            "Weather Normalized Site EUI (kBtu/sq ft) (float64):  Missing: 59 (2.2%)\n",
            "Weather Normalized Source EUI (kBtu/sq ft) (float64):  Missing: 59 (2.2%)\n",
            "Total GHG Emissions (Metric Tons CO2e) (float64):  Missing: 44 (1.6%)\n",
            "GHG Intensity (kg CO2e/sq ft) (float64):  Missing: 44 (1.6%)\n",
            "Latitude (float64):  Missing: 0 (0.0%)\n",
            "Longitude (float64):  Missing: 0 (0.0%)\n",
            "Location (object):  Missing: 0 (0.0%)\n"
          ],
          "name": "stdout"
        }
      ]
    },
    {
      "cell_type": "code",
      "metadata": {
        "id": "pPgaMP6eBMGt"
      },
      "source": [
        "chi.drop(['Data Year', 'ID', 'Property Name', 'Address', 'Community Area', 'All Other Fuel Use (kBtu)', 'District Chilled Water Use (kBtu)', 'District Steam Use (kBtu)'], axis=1, inplace=True)"
      ],
      "execution_count": 29,
      "outputs": []
    },
    {
      "cell_type": "code",
      "metadata": {
        "id": "Gcg0lf_LBp31",
        "outputId": "d08f6975-c928-4a86-fe18-420d49e45739",
        "colab": {
          "base_uri": "https://localhost:8080/",
          "height": 302
        }
      },
      "source": [
        "# summarize the number of rows with missing values for each column\n",
        "for c in chi.columns:\n",
        "  \n",
        "  # count number of rows with missing values\n",
        "  n_miss = chi[c].isnull().sum()\n",
        "  perc = n_miss / chi.shape[0] * 100\n",
        "  print('%s (%s):  Missing: %d (%.1f%%)' % (c, chi[c].dtype, \n",
        "                                                  n_miss, perc))"
      ],
      "execution_count": 30,
      "outputs": [
        {
          "output_type": "stream",
          "text": [
            "ZIP Code (object):  Missing: 0 (0.0%)\n",
            "Primary Property Type (object):  Missing: 0 (0.0%)\n",
            "Gross Floor Area - Buildings (sq ft) (float64):  Missing: 0 (0.0%)\n",
            "Year Built (float64):  Missing: 5 (0.2%)\n",
            "# of Buildings (int64):  Missing: 0 (0.0%)\n",
            "ENERGY STAR Score (float64):  Missing: 417 (15.3%)\n",
            "Electricity Use (kBtu) (float64):  Missing: 26 (1.0%)\n",
            "Natural Gas Use (kBtu) (float64):  Missing: 239 (8.8%)\n",
            "Site EUI (kBtu/sq ft) (float64):  Missing: 29 (1.1%)\n",
            "Source EUI (kBtu/sq ft) (float64):  Missing: 29 (1.1%)\n",
            "Weather Normalized Site EUI (kBtu/sq ft) (float64):  Missing: 59 (2.2%)\n",
            "Weather Normalized Source EUI (kBtu/sq ft) (float64):  Missing: 59 (2.2%)\n",
            "Total GHG Emissions (Metric Tons CO2e) (float64):  Missing: 44 (1.6%)\n",
            "GHG Intensity (kg CO2e/sq ft) (float64):  Missing: 44 (1.6%)\n",
            "Latitude (float64):  Missing: 0 (0.0%)\n",
            "Longitude (float64):  Missing: 0 (0.0%)\n",
            "Location (object):  Missing: 0 (0.0%)\n"
          ],
          "name": "stdout"
        }
      ]
    },
    {
      "cell_type": "code",
      "metadata": {
        "id": "RYJjD2cbBrLd",
        "outputId": "27660952-2453-447a-d967-9ba99c133304",
        "colab": {
          "base_uri": "https://localhost:8080/",
          "height": 704
        }
      },
      "source": [
        "chi['total_site_energy_KBTU'] = chi['Gross Floor Area - Buildings (sq ft)'] * chi['Site EUI (kBtu/sq ft)']\n",
        "chi['log_total_site_energy_KBTU'] = np.log(chi['total_site_energy_KBTU'])\n",
        "\n",
        "chi"
      ],
      "execution_count": 31,
      "outputs": [
        {
          "output_type": "execute_result",
          "data": {
            "text/html": [
              "<div>\n",
              "<style scoped>\n",
              "    .dataframe tbody tr th:only-of-type {\n",
              "        vertical-align: middle;\n",
              "    }\n",
              "\n",
              "    .dataframe tbody tr th {\n",
              "        vertical-align: top;\n",
              "    }\n",
              "\n",
              "    .dataframe thead th {\n",
              "        text-align: right;\n",
              "    }\n",
              "</style>\n",
              "<table border=\"1\" class=\"dataframe\">\n",
              "  <thead>\n",
              "    <tr style=\"text-align: right;\">\n",
              "      <th></th>\n",
              "      <th>ZIP Code</th>\n",
              "      <th>Primary Property Type</th>\n",
              "      <th>Gross Floor Area - Buildings (sq ft)</th>\n",
              "      <th>Year Built</th>\n",
              "      <th># of Buildings</th>\n",
              "      <th>ENERGY STAR Score</th>\n",
              "      <th>Electricity Use (kBtu)</th>\n",
              "      <th>Natural Gas Use (kBtu)</th>\n",
              "      <th>Site EUI (kBtu/sq ft)</th>\n",
              "      <th>Source EUI (kBtu/sq ft)</th>\n",
              "      <th>Weather Normalized Site EUI (kBtu/sq ft)</th>\n",
              "      <th>Weather Normalized Source EUI (kBtu/sq ft)</th>\n",
              "      <th>Total GHG Emissions (Metric Tons CO2e)</th>\n",
              "      <th>GHG Intensity (kg CO2e/sq ft)</th>\n",
              "      <th>Latitude</th>\n",
              "      <th>Longitude</th>\n",
              "      <th>Location</th>\n",
              "      <th>total_site_energy_KBTU</th>\n",
              "      <th>log_total_site_energy_KBTU</th>\n",
              "    </tr>\n",
              "  </thead>\n",
              "  <tbody>\n",
              "    <tr>\n",
              "      <th>0</th>\n",
              "      <td>60616</td>\n",
              "      <td>Multifamily Housing</td>\n",
              "      <td>99000.0</td>\n",
              "      <td>2000.0</td>\n",
              "      <td>1</td>\n",
              "      <td>96.0</td>\n",
              "      <td>1935003.2</td>\n",
              "      <td>2783435.5</td>\n",
              "      <td>47.7</td>\n",
              "      <td>90.9</td>\n",
              "      <td>46.7</td>\n",
              "      <td>87.8</td>\n",
              "      <td>504.5</td>\n",
              "      <td>5.1</td>\n",
              "      <td>41.884253</td>\n",
              "      <td>-87.632450</td>\n",
              "      <td>(41.8842525, -87.63245)</td>\n",
              "      <td>4722300.0</td>\n",
              "      <td>15.367807</td>\n",
              "    </tr>\n",
              "    <tr>\n",
              "      <th>1</th>\n",
              "      <td>60613</td>\n",
              "      <td>Multifamily Housing</td>\n",
              "      <td>92072.0</td>\n",
              "      <td>2014.0</td>\n",
              "      <td>1</td>\n",
              "      <td>55.0</td>\n",
              "      <td>2477744.2</td>\n",
              "      <td>3147551.1</td>\n",
              "      <td>61.1</td>\n",
              "      <td>120.4</td>\n",
              "      <td>63.6</td>\n",
              "      <td>123.0</td>\n",
              "      <td>623.9</td>\n",
              "      <td>6.8</td>\n",
              "      <td>41.947402</td>\n",
              "      <td>-87.649640</td>\n",
              "      <td>(41.9474017, -87.64964)</td>\n",
              "      <td>5625599.2</td>\n",
              "      <td>15.542838</td>\n",
              "    </tr>\n",
              "    <tr>\n",
              "      <th>2</th>\n",
              "      <td>60611</td>\n",
              "      <td>Multifamily Housing</td>\n",
              "      <td>136000.0</td>\n",
              "      <td>1924.0</td>\n",
              "      <td>1</td>\n",
              "      <td>24.0</td>\n",
              "      <td>5724360.2</td>\n",
              "      <td>1951759.8</td>\n",
              "      <td>56.4</td>\n",
              "      <td>147.2</td>\n",
              "      <td>59.8</td>\n",
              "      <td>157.4</td>\n",
              "      <td>1158.8</td>\n",
              "      <td>8.5</td>\n",
              "      <td>41.899208</td>\n",
              "      <td>-87.627290</td>\n",
              "      <td>(41.8992081, -87.62729)</td>\n",
              "      <td>7670400.0</td>\n",
              "      <td>15.852879</td>\n",
              "    </tr>\n",
              "    <tr>\n",
              "      <th>3</th>\n",
              "      <td>60616</td>\n",
              "      <td>Multifamily Housing</td>\n",
              "      <td>182246.0</td>\n",
              "      <td>1964.0</td>\n",
              "      <td>1</td>\n",
              "      <td>41.0</td>\n",
              "      <td>3158535.8</td>\n",
              "      <td>17010259.2</td>\n",
              "      <td>110.7</td>\n",
              "      <td>152.4</td>\n",
              "      <td>121.1</td>\n",
              "      <td>163.3</td>\n",
              "      <td>1485.7</td>\n",
              "      <td>8.2</td>\n",
              "      <td>41.845860</td>\n",
              "      <td>-87.629210</td>\n",
              "      <td>(41.8458598, -87.62921)</td>\n",
              "      <td>20174632.2</td>\n",
              "      <td>16.819937</td>\n",
              "    </tr>\n",
              "    <tr>\n",
              "      <th>4</th>\n",
              "      <td>60607</td>\n",
              "      <td>Multifamily Housing</td>\n",
              "      <td>193497.0</td>\n",
              "      <td>1930.0</td>\n",
              "      <td>1</td>\n",
              "      <td>94.0</td>\n",
              "      <td>3620381.1</td>\n",
              "      <td>5465540.1</td>\n",
              "      <td>47.0</td>\n",
              "      <td>88.4</td>\n",
              "      <td>48.8</td>\n",
              "      <td>89.0</td>\n",
              "      <td>957.6</td>\n",
              "      <td>4.9</td>\n",
              "      <td>41.874295</td>\n",
              "      <td>-87.650180</td>\n",
              "      <td>(41.8742951, -87.65018)</td>\n",
              "      <td>9094359.0</td>\n",
              "      <td>16.023165</td>\n",
              "    </tr>\n",
              "    <tr>\n",
              "      <th>...</th>\n",
              "      <td>...</td>\n",
              "      <td>...</td>\n",
              "      <td>...</td>\n",
              "      <td>...</td>\n",
              "      <td>...</td>\n",
              "      <td>...</td>\n",
              "      <td>...</td>\n",
              "      <td>...</td>\n",
              "      <td>...</td>\n",
              "      <td>...</td>\n",
              "      <td>...</td>\n",
              "      <td>...</td>\n",
              "      <td>...</td>\n",
              "      <td>...</td>\n",
              "      <td>...</td>\n",
              "      <td>...</td>\n",
              "      <td>...</td>\n",
              "      <td>...</td>\n",
              "      <td>...</td>\n",
              "    </tr>\n",
              "    <tr>\n",
              "      <th>2712</th>\n",
              "      <td>60623</td>\n",
              "      <td>Hospital (General Medical &amp; Surgical)</td>\n",
              "      <td>239057.0</td>\n",
              "      <td>1897.0</td>\n",
              "      <td>1</td>\n",
              "      <td>47.0</td>\n",
              "      <td>25863669.7</td>\n",
              "      <td>41427477.1</td>\n",
              "      <td>281.5</td>\n",
              "      <td>521.7</td>\n",
              "      <td>285.8</td>\n",
              "      <td>521.1</td>\n",
              "      <td>6967.6</td>\n",
              "      <td>29.1</td>\n",
              "      <td>41.855136</td>\n",
              "      <td>-87.697840</td>\n",
              "      <td>(41.85513555, -87.6978405)</td>\n",
              "      <td>67294545.5</td>\n",
              "      <td>18.024590</td>\n",
              "    </tr>\n",
              "    <tr>\n",
              "      <th>2713</th>\n",
              "      <td>60649</td>\n",
              "      <td>Multifamily Housing</td>\n",
              "      <td>56412.0</td>\n",
              "      <td>1932.0</td>\n",
              "      <td>1</td>\n",
              "      <td>38.0</td>\n",
              "      <td>952654.3</td>\n",
              "      <td>6014842.5</td>\n",
              "      <td>123.5</td>\n",
              "      <td>165.0</td>\n",
              "      <td>136.2</td>\n",
              "      <td>179.6</td>\n",
              "      <td>495.1</td>\n",
              "      <td>8.8</td>\n",
              "      <td>41.762592</td>\n",
              "      <td>-87.572316</td>\n",
              "      <td>(41.76259226, -87.57231648)</td>\n",
              "      <td>6966882.0</td>\n",
              "      <td>15.756678</td>\n",
              "    </tr>\n",
              "    <tr>\n",
              "      <th>2714</th>\n",
              "      <td>60607</td>\n",
              "      <td>Other - Mall</td>\n",
              "      <td>95204.0</td>\n",
              "      <td>2008.0</td>\n",
              "      <td>1</td>\n",
              "      <td>NaN</td>\n",
              "      <td>6972237.8</td>\n",
              "      <td>1997780.9</td>\n",
              "      <td>94.2</td>\n",
              "      <td>252.0</td>\n",
              "      <td>99.3</td>\n",
              "      <td>263.3</td>\n",
              "      <td>1391.2</td>\n",
              "      <td>14.6</td>\n",
              "      <td>41.866867</td>\n",
              "      <td>-87.641450</td>\n",
              "      <td>(41.866867, -87.64144957)</td>\n",
              "      <td>8968216.8</td>\n",
              "      <td>16.009197</td>\n",
              "    </tr>\n",
              "    <tr>\n",
              "      <th>2715</th>\n",
              "      <td>60607</td>\n",
              "      <td>Office</td>\n",
              "      <td>60000.0</td>\n",
              "      <td>1908.0</td>\n",
              "      <td>1</td>\n",
              "      <td>84.0</td>\n",
              "      <td>2374537.0</td>\n",
              "      <td>1246019.6</td>\n",
              "      <td>60.3</td>\n",
              "      <td>146.1</td>\n",
              "      <td>62.0</td>\n",
              "      <td>145.7</td>\n",
              "      <td>503.9</td>\n",
              "      <td>8.4</td>\n",
              "      <td>41.876426</td>\n",
              "      <td>-87.633355</td>\n",
              "      <td>(41.87642552, -87.63335549)</td>\n",
              "      <td>3618000.0</td>\n",
              "      <td>15.101432</td>\n",
              "    </tr>\n",
              "    <tr>\n",
              "      <th>2716</th>\n",
              "      <td>60622</td>\n",
              "      <td>Hospital (General Medical &amp; Surgical)</td>\n",
              "      <td>309056.0</td>\n",
              "      <td>1928.0</td>\n",
              "      <td>1</td>\n",
              "      <td>84.0</td>\n",
              "      <td>21387596.6</td>\n",
              "      <td>37456864.9</td>\n",
              "      <td>190.4</td>\n",
              "      <td>344.6</td>\n",
              "      <td>194.6</td>\n",
              "      <td>345.9</td>\n",
              "      <td>5931.7</td>\n",
              "      <td>19.2</td>\n",
              "      <td>41.907436</td>\n",
              "      <td>-87.685380</td>\n",
              "      <td>(41.90743588, -87.68538017)</td>\n",
              "      <td>58844262.4</td>\n",
              "      <td>17.890405</td>\n",
              "    </tr>\n",
              "  </tbody>\n",
              "</table>\n",
              "<p>2717 rows × 19 columns</p>\n",
              "</div>"
            ],
            "text/plain": [
              "     ZIP Code  ... log_total_site_energy_KBTU\n",
              "0       60616  ...                  15.367807\n",
              "1       60613  ...                  15.542838\n",
              "2       60611  ...                  15.852879\n",
              "3       60616  ...                  16.819937\n",
              "4       60607  ...                  16.023165\n",
              "...       ...  ...                        ...\n",
              "2712    60623  ...                  18.024590\n",
              "2713    60649  ...                  15.756678\n",
              "2714    60607  ...                  16.009197\n",
              "2715    60607  ...                  15.101432\n",
              "2716    60622  ...                  17.890405\n",
              "\n",
              "[2717 rows x 19 columns]"
            ]
          },
          "metadata": {
            "tags": []
          },
          "execution_count": 31
        }
      ]
    },
    {
      "cell_type": "code",
      "metadata": {
        "id": "mwmBOJkbCjFM",
        "outputId": "17c8a992-56e1-433a-bc09-769b9a6aa18d",
        "colab": {
          "base_uri": "https://localhost:8080/",
          "height": 346
        }
      },
      "source": [
        "chi = chi.replace([np.inf, -np.inf], 0)\n",
        "chi = chi.dropna()\n",
        "chi.head()"
      ],
      "execution_count": 32,
      "outputs": [
        {
          "output_type": "execute_result",
          "data": {
            "text/html": [
              "<div>\n",
              "<style scoped>\n",
              "    .dataframe tbody tr th:only-of-type {\n",
              "        vertical-align: middle;\n",
              "    }\n",
              "\n",
              "    .dataframe tbody tr th {\n",
              "        vertical-align: top;\n",
              "    }\n",
              "\n",
              "    .dataframe thead th {\n",
              "        text-align: right;\n",
              "    }\n",
              "</style>\n",
              "<table border=\"1\" class=\"dataframe\">\n",
              "  <thead>\n",
              "    <tr style=\"text-align: right;\">\n",
              "      <th></th>\n",
              "      <th>ZIP Code</th>\n",
              "      <th>Primary Property Type</th>\n",
              "      <th>Gross Floor Area - Buildings (sq ft)</th>\n",
              "      <th>Year Built</th>\n",
              "      <th># of Buildings</th>\n",
              "      <th>ENERGY STAR Score</th>\n",
              "      <th>Electricity Use (kBtu)</th>\n",
              "      <th>Natural Gas Use (kBtu)</th>\n",
              "      <th>Site EUI (kBtu/sq ft)</th>\n",
              "      <th>Source EUI (kBtu/sq ft)</th>\n",
              "      <th>Weather Normalized Site EUI (kBtu/sq ft)</th>\n",
              "      <th>Weather Normalized Source EUI (kBtu/sq ft)</th>\n",
              "      <th>Total GHG Emissions (Metric Tons CO2e)</th>\n",
              "      <th>GHG Intensity (kg CO2e/sq ft)</th>\n",
              "      <th>Latitude</th>\n",
              "      <th>Longitude</th>\n",
              "      <th>Location</th>\n",
              "      <th>total_site_energy_KBTU</th>\n",
              "      <th>log_total_site_energy_KBTU</th>\n",
              "    </tr>\n",
              "  </thead>\n",
              "  <tbody>\n",
              "    <tr>\n",
              "      <th>0</th>\n",
              "      <td>60616</td>\n",
              "      <td>Multifamily Housing</td>\n",
              "      <td>99000.0</td>\n",
              "      <td>2000.0</td>\n",
              "      <td>1</td>\n",
              "      <td>96.0</td>\n",
              "      <td>1935003.2</td>\n",
              "      <td>2783435.5</td>\n",
              "      <td>47.7</td>\n",
              "      <td>90.9</td>\n",
              "      <td>46.7</td>\n",
              "      <td>87.8</td>\n",
              "      <td>504.5</td>\n",
              "      <td>5.1</td>\n",
              "      <td>41.884253</td>\n",
              "      <td>-87.63245</td>\n",
              "      <td>(41.8842525, -87.63245)</td>\n",
              "      <td>4722300.0</td>\n",
              "      <td>15.367807</td>\n",
              "    </tr>\n",
              "    <tr>\n",
              "      <th>1</th>\n",
              "      <td>60613</td>\n",
              "      <td>Multifamily Housing</td>\n",
              "      <td>92072.0</td>\n",
              "      <td>2014.0</td>\n",
              "      <td>1</td>\n",
              "      <td>55.0</td>\n",
              "      <td>2477744.2</td>\n",
              "      <td>3147551.1</td>\n",
              "      <td>61.1</td>\n",
              "      <td>120.4</td>\n",
              "      <td>63.6</td>\n",
              "      <td>123.0</td>\n",
              "      <td>623.9</td>\n",
              "      <td>6.8</td>\n",
              "      <td>41.947402</td>\n",
              "      <td>-87.64964</td>\n",
              "      <td>(41.9474017, -87.64964)</td>\n",
              "      <td>5625599.2</td>\n",
              "      <td>15.542838</td>\n",
              "    </tr>\n",
              "    <tr>\n",
              "      <th>2</th>\n",
              "      <td>60611</td>\n",
              "      <td>Multifamily Housing</td>\n",
              "      <td>136000.0</td>\n",
              "      <td>1924.0</td>\n",
              "      <td>1</td>\n",
              "      <td>24.0</td>\n",
              "      <td>5724360.2</td>\n",
              "      <td>1951759.8</td>\n",
              "      <td>56.4</td>\n",
              "      <td>147.2</td>\n",
              "      <td>59.8</td>\n",
              "      <td>157.4</td>\n",
              "      <td>1158.8</td>\n",
              "      <td>8.5</td>\n",
              "      <td>41.899208</td>\n",
              "      <td>-87.62729</td>\n",
              "      <td>(41.8992081, -87.62729)</td>\n",
              "      <td>7670400.0</td>\n",
              "      <td>15.852879</td>\n",
              "    </tr>\n",
              "    <tr>\n",
              "      <th>3</th>\n",
              "      <td>60616</td>\n",
              "      <td>Multifamily Housing</td>\n",
              "      <td>182246.0</td>\n",
              "      <td>1964.0</td>\n",
              "      <td>1</td>\n",
              "      <td>41.0</td>\n",
              "      <td>3158535.8</td>\n",
              "      <td>17010259.2</td>\n",
              "      <td>110.7</td>\n",
              "      <td>152.4</td>\n",
              "      <td>121.1</td>\n",
              "      <td>163.3</td>\n",
              "      <td>1485.7</td>\n",
              "      <td>8.2</td>\n",
              "      <td>41.845860</td>\n",
              "      <td>-87.62921</td>\n",
              "      <td>(41.8458598, -87.62921)</td>\n",
              "      <td>20174632.2</td>\n",
              "      <td>16.819937</td>\n",
              "    </tr>\n",
              "    <tr>\n",
              "      <th>4</th>\n",
              "      <td>60607</td>\n",
              "      <td>Multifamily Housing</td>\n",
              "      <td>193497.0</td>\n",
              "      <td>1930.0</td>\n",
              "      <td>1</td>\n",
              "      <td>94.0</td>\n",
              "      <td>3620381.1</td>\n",
              "      <td>5465540.1</td>\n",
              "      <td>47.0</td>\n",
              "      <td>88.4</td>\n",
              "      <td>48.8</td>\n",
              "      <td>89.0</td>\n",
              "      <td>957.6</td>\n",
              "      <td>4.9</td>\n",
              "      <td>41.874295</td>\n",
              "      <td>-87.65018</td>\n",
              "      <td>(41.8742951, -87.65018)</td>\n",
              "      <td>9094359.0</td>\n",
              "      <td>16.023165</td>\n",
              "    </tr>\n",
              "  </tbody>\n",
              "</table>\n",
              "</div>"
            ],
            "text/plain": [
              "  ZIP Code  ... log_total_site_energy_KBTU\n",
              "0    60616  ...                  15.367807\n",
              "1    60613  ...                  15.542838\n",
              "2    60611  ...                  15.852879\n",
              "3    60616  ...                  16.819937\n",
              "4    60607  ...                  16.023165\n",
              "\n",
              "[5 rows x 19 columns]"
            ]
          },
          "metadata": {
            "tags": []
          },
          "execution_count": 32
        }
      ]
    },
    {
      "cell_type": "code",
      "metadata": {
        "id": "YfPJJSnXXo3q",
        "outputId": "fa21d0f2-1523-4d13-e9db-848b003216d9",
        "colab": {
          "base_uri": "https://localhost:8080/",
          "height": 351
        }
      },
      "source": [
        "chi.describe()\n"
      ],
      "execution_count": 33,
      "outputs": [
        {
          "output_type": "execute_result",
          "data": {
            "text/html": [
              "<div>\n",
              "<style scoped>\n",
              "    .dataframe tbody tr th:only-of-type {\n",
              "        vertical-align: middle;\n",
              "    }\n",
              "\n",
              "    .dataframe tbody tr th {\n",
              "        vertical-align: top;\n",
              "    }\n",
              "\n",
              "    .dataframe thead th {\n",
              "        text-align: right;\n",
              "    }\n",
              "</style>\n",
              "<table border=\"1\" class=\"dataframe\">\n",
              "  <thead>\n",
              "    <tr style=\"text-align: right;\">\n",
              "      <th></th>\n",
              "      <th>Gross Floor Area - Buildings (sq ft)</th>\n",
              "      <th>Year Built</th>\n",
              "      <th># of Buildings</th>\n",
              "      <th>ENERGY STAR Score</th>\n",
              "      <th>Electricity Use (kBtu)</th>\n",
              "      <th>Natural Gas Use (kBtu)</th>\n",
              "      <th>Site EUI (kBtu/sq ft)</th>\n",
              "      <th>Source EUI (kBtu/sq ft)</th>\n",
              "      <th>Weather Normalized Site EUI (kBtu/sq ft)</th>\n",
              "      <th>Weather Normalized Source EUI (kBtu/sq ft)</th>\n",
              "      <th>Total GHG Emissions (Metric Tons CO2e)</th>\n",
              "      <th>GHG Intensity (kg CO2e/sq ft)</th>\n",
              "      <th>Latitude</th>\n",
              "      <th>Longitude</th>\n",
              "      <th>total_site_energy_KBTU</th>\n",
              "      <th>log_total_site_energy_KBTU</th>\n",
              "    </tr>\n",
              "  </thead>\n",
              "  <tbody>\n",
              "    <tr>\n",
              "      <th>count</th>\n",
              "      <td>2.104000e+03</td>\n",
              "      <td>2104.000000</td>\n",
              "      <td>2104.000000</td>\n",
              "      <td>2104.000000</td>\n",
              "      <td>2.104000e+03</td>\n",
              "      <td>2.104000e+03</td>\n",
              "      <td>2104.000000</td>\n",
              "      <td>2104.000000</td>\n",
              "      <td>2104.000000</td>\n",
              "      <td>2104.000000</td>\n",
              "      <td>2104.000000</td>\n",
              "      <td>2104.000000</td>\n",
              "      <td>2104.000000</td>\n",
              "      <td>2104.000000</td>\n",
              "      <td>2.104000e+03</td>\n",
              "      <td>2104.000000</td>\n",
              "    </tr>\n",
              "    <tr>\n",
              "      <th>mean</th>\n",
              "      <td>2.283840e+05</td>\n",
              "      <td>1961.822243</td>\n",
              "      <td>1.355989</td>\n",
              "      <td>59.317490</td>\n",
              "      <td>8.944349e+06</td>\n",
              "      <td>1.130127e+07</td>\n",
              "      <td>90.751759</td>\n",
              "      <td>166.834933</td>\n",
              "      <td>95.778232</td>\n",
              "      <td>171.701854</td>\n",
              "      <td>2282.857605</td>\n",
              "      <td>9.311787</td>\n",
              "      <td>41.887946</td>\n",
              "      <td>-87.654559</td>\n",
              "      <td>2.083556e+07</td>\n",
              "      <td>16.272622</td>\n",
              "    </tr>\n",
              "    <tr>\n",
              "      <th>std</th>\n",
              "      <td>3.251700e+05</td>\n",
              "      <td>36.458847</td>\n",
              "      <td>5.563807</td>\n",
              "      <td>28.142021</td>\n",
              "      <td>2.139336e+07</td>\n",
              "      <td>2.289719e+07</td>\n",
              "      <td>133.852635</td>\n",
              "      <td>163.455894</td>\n",
              "      <td>134.454941</td>\n",
              "      <td>163.614945</td>\n",
              "      <td>4971.827516</td>\n",
              "      <td>8.667602</td>\n",
              "      <td>0.068017</td>\n",
              "      <td>0.046900</td>\n",
              "      <td>4.304460e+07</td>\n",
              "      <td>0.948916</td>\n",
              "    </tr>\n",
              "    <tr>\n",
              "      <th>min</th>\n",
              "      <td>5.000000e+04</td>\n",
              "      <td>1872.000000</td>\n",
              "      <td>1.000000</td>\n",
              "      <td>1.000000</td>\n",
              "      <td>5.683130e+04</td>\n",
              "      <td>2.651000e+03</td>\n",
              "      <td>4.900000</td>\n",
              "      <td>14.600000</td>\n",
              "      <td>4.900000</td>\n",
              "      <td>14.600000</td>\n",
              "      <td>80.800000</td>\n",
              "      <td>0.800000</td>\n",
              "      <td>41.651404</td>\n",
              "      <td>-87.904210</td>\n",
              "      <td>6.750000e+05</td>\n",
              "      <td>13.422468</td>\n",
              "    </tr>\n",
              "    <tr>\n",
              "      <th>25%</th>\n",
              "      <td>7.487000e+04</td>\n",
              "      <td>1927.000000</td>\n",
              "      <td>1.000000</td>\n",
              "      <td>37.750000</td>\n",
              "      <td>1.794606e+06</td>\n",
              "      <td>3.315692e+06</td>\n",
              "      <td>62.700000</td>\n",
              "      <td>111.400000</td>\n",
              "      <td>66.550000</td>\n",
              "      <td>116.375000</td>\n",
              "      <td>572.250000</td>\n",
              "      <td>6.100000</td>\n",
              "      <td>41.865128</td>\n",
              "      <td>-87.667646</td>\n",
              "      <td>5.806190e+06</td>\n",
              "      <td>15.574435</td>\n",
              "    </tr>\n",
              "    <tr>\n",
              "      <th>50%</th>\n",
              "      <td>1.202610e+05</td>\n",
              "      <td>1967.000000</td>\n",
              "      <td>1.000000</td>\n",
              "      <td>64.000000</td>\n",
              "      <td>3.536471e+06</td>\n",
              "      <td>5.610707e+06</td>\n",
              "      <td>78.750000</td>\n",
              "      <td>142.500000</td>\n",
              "      <td>83.900000</td>\n",
              "      <td>147.900000</td>\n",
              "      <td>1008.950000</td>\n",
              "      <td>7.900000</td>\n",
              "      <td>41.892228</td>\n",
              "      <td>-87.642700</td>\n",
              "      <td>9.919664e+06</td>\n",
              "      <td>16.110030</td>\n",
              "    </tr>\n",
              "    <tr>\n",
              "      <th>75%</th>\n",
              "      <td>2.490155e+05</td>\n",
              "      <td>1997.000000</td>\n",
              "      <td>1.000000</td>\n",
              "      <td>83.000000</td>\n",
              "      <td>8.607172e+06</td>\n",
              "      <td>1.178117e+07</td>\n",
              "      <td>97.850000</td>\n",
              "      <td>181.025000</td>\n",
              "      <td>104.400000</td>\n",
              "      <td>186.000000</td>\n",
              "      <td>2237.325000</td>\n",
              "      <td>10.200000</td>\n",
              "      <td>41.934034</td>\n",
              "      <td>-87.627307</td>\n",
              "      <td>2.094386e+07</td>\n",
              "      <td>16.857356</td>\n",
              "    </tr>\n",
              "    <tr>\n",
              "      <th>max</th>\n",
              "      <td>4.518811e+06</td>\n",
              "      <td>2016.000000</td>\n",
              "      <td>236.000000</td>\n",
              "      <td>100.000000</td>\n",
              "      <td>4.686723e+08</td>\n",
              "      <td>5.139386e+08</td>\n",
              "      <td>5637.700000</td>\n",
              "      <td>6001.500000</td>\n",
              "      <td>5637.700000</td>\n",
              "      <td>6001.500000</td>\n",
              "      <td>127610.000000</td>\n",
              "      <td>304.600000</td>\n",
              "      <td>42.019367</td>\n",
              "      <td>-87.533787</td>\n",
              "      <td>1.155374e+09</td>\n",
              "      <td>20.867690</td>\n",
              "    </tr>\n",
              "  </tbody>\n",
              "</table>\n",
              "</div>"
            ],
            "text/plain": [
              "       Gross Floor Area - Buildings (sq ft)  ...  log_total_site_energy_KBTU\n",
              "count                          2.104000e+03  ...                 2104.000000\n",
              "mean                           2.283840e+05  ...                   16.272622\n",
              "std                            3.251700e+05  ...                    0.948916\n",
              "min                            5.000000e+04  ...                   13.422468\n",
              "25%                            7.487000e+04  ...                   15.574435\n",
              "50%                            1.202610e+05  ...                   16.110030\n",
              "75%                            2.490155e+05  ...                   16.857356\n",
              "max                            4.518811e+06  ...                   20.867690\n",
              "\n",
              "[8 rows x 16 columns]"
            ]
          },
          "metadata": {
            "tags": []
          },
          "execution_count": 33
        }
      ]
    },
    {
      "cell_type": "code",
      "metadata": {
        "id": "EMwRzmxnCt87"
      },
      "source": [
        "y = chi['log_total_site_energy_KBTU'].values\n",
        "x1 = chi[['Gross Floor Area - Buildings (sq ft)', 'Year Built', '# of Buildings', 'Latitude', 'Longitude']]\n",
        "x2 = chi[['Primary Property Type']]\n"
      ],
      "execution_count": 34,
      "outputs": []
    },
    {
      "cell_type": "code",
      "metadata": {
        "id": "nm6a4LnlDRZT",
        "outputId": "14baf46c-9868-40ff-f1ee-62b90494e13f",
        "colab": {
          "base_uri": "https://localhost:8080/",
          "height": 235
        }
      },
      "source": [
        "from sklearn.impute import KNNImputer\n",
        "# Default neighbors is 5\n",
        "imputer = KNNImputer()\n",
        "print(imputer.fit_transform(x1))\n",
        "x1 = imputer.fit_transform(x1)"
      ],
      "execution_count": 35,
      "outputs": [
        {
          "output_type": "stream",
          "text": [
            "[[ 9.90000000e+04  2.00000000e+03  1.00000000e+00  4.18842525e+01\n",
            "  -8.76324500e+01]\n",
            " [ 9.20720000e+04  2.01400000e+03  1.00000000e+00  4.19474017e+01\n",
            "  -8.76496400e+01]\n",
            " [ 1.36000000e+05  1.92400000e+03  1.00000000e+00  4.18992081e+01\n",
            "  -8.76272900e+01]\n",
            " ...\n",
            " [ 5.64120000e+04  1.93200000e+03  1.00000000e+00  4.17625923e+01\n",
            "  -8.75723165e+01]\n",
            " [ 6.00000000e+04  1.90800000e+03  1.00000000e+00  4.18764255e+01\n",
            "  -8.76333555e+01]\n",
            " [ 3.09056000e+05  1.92800000e+03  1.00000000e+00  4.19074359e+01\n",
            "  -8.76853802e+01]]\n"
          ],
          "name": "stdout"
        }
      ]
    },
    {
      "cell_type": "code",
      "metadata": {
        "id": "Wa7StOXDDZJ7",
        "outputId": "4a19584b-f6ee-484e-926c-f338559c7e6e",
        "colab": {
          "base_uri": "https://localhost:8080/",
          "height": 435
        }
      },
      "source": [
        "from sklearn.preprocessing import OneHotEncoder\n",
        "x2 = x2.fillna(\"None\")\n",
        "x2\n",
        "encoder = OneHotEncoder(handle_unknown='ignore')\n",
        "x2 = encoder.fit_transform(x2).toarray()\n",
        "column_name = encoder.get_feature_names()\n",
        "x2\n",
        "one_hot_encoded_frame =  pd.DataFrame(x2, columns= column_name)\n",
        "one_hot_encoded_frame\n"
      ],
      "execution_count": 36,
      "outputs": [
        {
          "output_type": "execute_result",
          "data": {
            "text/html": [
              "<div>\n",
              "<style scoped>\n",
              "    .dataframe tbody tr th:only-of-type {\n",
              "        vertical-align: middle;\n",
              "    }\n",
              "\n",
              "    .dataframe tbody tr th {\n",
              "        vertical-align: top;\n",
              "    }\n",
              "\n",
              "    .dataframe thead th {\n",
              "        text-align: right;\n",
              "    }\n",
              "</style>\n",
              "<table border=\"1\" class=\"dataframe\">\n",
              "  <thead>\n",
              "    <tr style=\"text-align: right;\">\n",
              "      <th></th>\n",
              "      <th>x0_Bank Branch</th>\n",
              "      <th>x0_Courthouse</th>\n",
              "      <th>x0_Financial Office</th>\n",
              "      <th>x0_Hospital (General Medical &amp; Surgical)</th>\n",
              "      <th>x0_Hotel</th>\n",
              "      <th>x0_K-12 School</th>\n",
              "      <th>x0_Medical Office</th>\n",
              "      <th>x0_Mixed Use Property</th>\n",
              "      <th>x0_Multifamily Housing</th>\n",
              "      <th>x0_Office</th>\n",
              "      <th>x0_Residence Hall/Dormitory</th>\n",
              "      <th>x0_Retail Store</th>\n",
              "      <th>x0_Senior Care Community</th>\n",
              "      <th>x0_Supermarket/Grocery Store</th>\n",
              "      <th>x0_Wholesale Club/Supercenter</th>\n",
              "      <th>x0_Worship Facility</th>\n",
              "    </tr>\n",
              "  </thead>\n",
              "  <tbody>\n",
              "    <tr>\n",
              "      <th>0</th>\n",
              "      <td>0.0</td>\n",
              "      <td>0.0</td>\n",
              "      <td>0.0</td>\n",
              "      <td>0.0</td>\n",
              "      <td>0.0</td>\n",
              "      <td>0.0</td>\n",
              "      <td>0.0</td>\n",
              "      <td>0.0</td>\n",
              "      <td>1.0</td>\n",
              "      <td>0.0</td>\n",
              "      <td>0.0</td>\n",
              "      <td>0.0</td>\n",
              "      <td>0.0</td>\n",
              "      <td>0.0</td>\n",
              "      <td>0.0</td>\n",
              "      <td>0.0</td>\n",
              "    </tr>\n",
              "    <tr>\n",
              "      <th>1</th>\n",
              "      <td>0.0</td>\n",
              "      <td>0.0</td>\n",
              "      <td>0.0</td>\n",
              "      <td>0.0</td>\n",
              "      <td>0.0</td>\n",
              "      <td>0.0</td>\n",
              "      <td>0.0</td>\n",
              "      <td>0.0</td>\n",
              "      <td>1.0</td>\n",
              "      <td>0.0</td>\n",
              "      <td>0.0</td>\n",
              "      <td>0.0</td>\n",
              "      <td>0.0</td>\n",
              "      <td>0.0</td>\n",
              "      <td>0.0</td>\n",
              "      <td>0.0</td>\n",
              "    </tr>\n",
              "    <tr>\n",
              "      <th>2</th>\n",
              "      <td>0.0</td>\n",
              "      <td>0.0</td>\n",
              "      <td>0.0</td>\n",
              "      <td>0.0</td>\n",
              "      <td>0.0</td>\n",
              "      <td>0.0</td>\n",
              "      <td>0.0</td>\n",
              "      <td>0.0</td>\n",
              "      <td>1.0</td>\n",
              "      <td>0.0</td>\n",
              "      <td>0.0</td>\n",
              "      <td>0.0</td>\n",
              "      <td>0.0</td>\n",
              "      <td>0.0</td>\n",
              "      <td>0.0</td>\n",
              "      <td>0.0</td>\n",
              "    </tr>\n",
              "    <tr>\n",
              "      <th>3</th>\n",
              "      <td>0.0</td>\n",
              "      <td>0.0</td>\n",
              "      <td>0.0</td>\n",
              "      <td>0.0</td>\n",
              "      <td>0.0</td>\n",
              "      <td>0.0</td>\n",
              "      <td>0.0</td>\n",
              "      <td>0.0</td>\n",
              "      <td>1.0</td>\n",
              "      <td>0.0</td>\n",
              "      <td>0.0</td>\n",
              "      <td>0.0</td>\n",
              "      <td>0.0</td>\n",
              "      <td>0.0</td>\n",
              "      <td>0.0</td>\n",
              "      <td>0.0</td>\n",
              "    </tr>\n",
              "    <tr>\n",
              "      <th>4</th>\n",
              "      <td>0.0</td>\n",
              "      <td>0.0</td>\n",
              "      <td>0.0</td>\n",
              "      <td>0.0</td>\n",
              "      <td>0.0</td>\n",
              "      <td>0.0</td>\n",
              "      <td>0.0</td>\n",
              "      <td>0.0</td>\n",
              "      <td>1.0</td>\n",
              "      <td>0.0</td>\n",
              "      <td>0.0</td>\n",
              "      <td>0.0</td>\n",
              "      <td>0.0</td>\n",
              "      <td>0.0</td>\n",
              "      <td>0.0</td>\n",
              "      <td>0.0</td>\n",
              "    </tr>\n",
              "    <tr>\n",
              "      <th>...</th>\n",
              "      <td>...</td>\n",
              "      <td>...</td>\n",
              "      <td>...</td>\n",
              "      <td>...</td>\n",
              "      <td>...</td>\n",
              "      <td>...</td>\n",
              "      <td>...</td>\n",
              "      <td>...</td>\n",
              "      <td>...</td>\n",
              "      <td>...</td>\n",
              "      <td>...</td>\n",
              "      <td>...</td>\n",
              "      <td>...</td>\n",
              "      <td>...</td>\n",
              "      <td>...</td>\n",
              "      <td>...</td>\n",
              "    </tr>\n",
              "    <tr>\n",
              "      <th>2099</th>\n",
              "      <td>0.0</td>\n",
              "      <td>0.0</td>\n",
              "      <td>0.0</td>\n",
              "      <td>0.0</td>\n",
              "      <td>0.0</td>\n",
              "      <td>0.0</td>\n",
              "      <td>0.0</td>\n",
              "      <td>0.0</td>\n",
              "      <td>1.0</td>\n",
              "      <td>0.0</td>\n",
              "      <td>0.0</td>\n",
              "      <td>0.0</td>\n",
              "      <td>0.0</td>\n",
              "      <td>0.0</td>\n",
              "      <td>0.0</td>\n",
              "      <td>0.0</td>\n",
              "    </tr>\n",
              "    <tr>\n",
              "      <th>2100</th>\n",
              "      <td>0.0</td>\n",
              "      <td>0.0</td>\n",
              "      <td>0.0</td>\n",
              "      <td>1.0</td>\n",
              "      <td>0.0</td>\n",
              "      <td>0.0</td>\n",
              "      <td>0.0</td>\n",
              "      <td>0.0</td>\n",
              "      <td>0.0</td>\n",
              "      <td>0.0</td>\n",
              "      <td>0.0</td>\n",
              "      <td>0.0</td>\n",
              "      <td>0.0</td>\n",
              "      <td>0.0</td>\n",
              "      <td>0.0</td>\n",
              "      <td>0.0</td>\n",
              "    </tr>\n",
              "    <tr>\n",
              "      <th>2101</th>\n",
              "      <td>0.0</td>\n",
              "      <td>0.0</td>\n",
              "      <td>0.0</td>\n",
              "      <td>0.0</td>\n",
              "      <td>0.0</td>\n",
              "      <td>0.0</td>\n",
              "      <td>0.0</td>\n",
              "      <td>0.0</td>\n",
              "      <td>1.0</td>\n",
              "      <td>0.0</td>\n",
              "      <td>0.0</td>\n",
              "      <td>0.0</td>\n",
              "      <td>0.0</td>\n",
              "      <td>0.0</td>\n",
              "      <td>0.0</td>\n",
              "      <td>0.0</td>\n",
              "    </tr>\n",
              "    <tr>\n",
              "      <th>2102</th>\n",
              "      <td>0.0</td>\n",
              "      <td>0.0</td>\n",
              "      <td>0.0</td>\n",
              "      <td>0.0</td>\n",
              "      <td>0.0</td>\n",
              "      <td>0.0</td>\n",
              "      <td>0.0</td>\n",
              "      <td>0.0</td>\n",
              "      <td>0.0</td>\n",
              "      <td>1.0</td>\n",
              "      <td>0.0</td>\n",
              "      <td>0.0</td>\n",
              "      <td>0.0</td>\n",
              "      <td>0.0</td>\n",
              "      <td>0.0</td>\n",
              "      <td>0.0</td>\n",
              "    </tr>\n",
              "    <tr>\n",
              "      <th>2103</th>\n",
              "      <td>0.0</td>\n",
              "      <td>0.0</td>\n",
              "      <td>0.0</td>\n",
              "      <td>1.0</td>\n",
              "      <td>0.0</td>\n",
              "      <td>0.0</td>\n",
              "      <td>0.0</td>\n",
              "      <td>0.0</td>\n",
              "      <td>0.0</td>\n",
              "      <td>0.0</td>\n",
              "      <td>0.0</td>\n",
              "      <td>0.0</td>\n",
              "      <td>0.0</td>\n",
              "      <td>0.0</td>\n",
              "      <td>0.0</td>\n",
              "      <td>0.0</td>\n",
              "    </tr>\n",
              "  </tbody>\n",
              "</table>\n",
              "<p>2104 rows × 16 columns</p>\n",
              "</div>"
            ],
            "text/plain": [
              "      x0_Bank Branch  ...  x0_Worship Facility\n",
              "0                0.0  ...                  0.0\n",
              "1                0.0  ...                  0.0\n",
              "2                0.0  ...                  0.0\n",
              "3                0.0  ...                  0.0\n",
              "4                0.0  ...                  0.0\n",
              "...              ...  ...                  ...\n",
              "2099             0.0  ...                  0.0\n",
              "2100             0.0  ...                  0.0\n",
              "2101             0.0  ...                  0.0\n",
              "2102             0.0  ...                  0.0\n",
              "2103             0.0  ...                  0.0\n",
              "\n",
              "[2104 rows x 16 columns]"
            ]
          },
          "metadata": {
            "tags": []
          },
          "execution_count": 36
        }
      ]
    },
    {
      "cell_type": "code",
      "metadata": {
        "id": "_bEvf39RIyZY",
        "outputId": "60e4c9c2-85f5-422b-e048-c1628e87e677",
        "colab": {
          "base_uri": "https://localhost:8080/",
          "height": 34
        }
      },
      "source": [
        "x1.shape"
      ],
      "execution_count": 37,
      "outputs": [
        {
          "output_type": "execute_result",
          "data": {
            "text/plain": [
              "(2104, 5)"
            ]
          },
          "metadata": {
            "tags": []
          },
          "execution_count": 37
        }
      ]
    },
    {
      "cell_type": "code",
      "metadata": {
        "id": "3iJ2qq4tI0yp",
        "outputId": "fd9727ca-4eb4-4447-c9b2-2e284d1e4d45",
        "colab": {
          "base_uri": "https://localhost:8080/",
          "height": 34
        }
      },
      "source": [
        "x2.shape"
      ],
      "execution_count": 38,
      "outputs": [
        {
          "output_type": "execute_result",
          "data": {
            "text/plain": [
              "(2104, 16)"
            ]
          },
          "metadata": {
            "tags": []
          },
          "execution_count": 38
        }
      ]
    },
    {
      "cell_type": "code",
      "metadata": {
        "id": "nn3EczycVSZR",
        "outputId": "cdeefead-eb4c-44c6-9bb4-ad3934da4a36",
        "colab": {
          "base_uri": "https://localhost:8080/",
          "height": 34
        }
      },
      "source": [
        "x = np.hstack([x1, x2])\n",
        "x.shape"
      ],
      "execution_count": 39,
      "outputs": [
        {
          "output_type": "execute_result",
          "data": {
            "text/plain": [
              "(2104, 21)"
            ]
          },
          "metadata": {
            "tags": []
          },
          "execution_count": 39
        }
      ]
    },
    {
      "cell_type": "code",
      "metadata": {
        "id": "2TTJfzBZDpCS"
      },
      "source": [
        "from sklearn.model_selection import train_test_split\n",
        "\n",
        "X_train, X_test, y_train, y_test = train_test_split(\n",
        "    x, y, test_size=0.25, random_state=42)"
      ],
      "execution_count": 40,
      "outputs": []
    },
    {
      "cell_type": "code",
      "metadata": {
        "id": "ow41cCTGD9N0",
        "outputId": "36acf70a-59bc-4a20-aba3-d0e2e4f0f0c5",
        "colab": {
          "base_uri": "https://localhost:8080/",
          "height": 134
        }
      },
      "source": [
        "from sklearn.ensemble import RandomForestRegressor\n",
        "rf = RandomForestRegressor(max_depth=2, random_state=0)\n",
        "rf.fit(X_train, y_train,)"
      ],
      "execution_count": 41,
      "outputs": [
        {
          "output_type": "execute_result",
          "data": {
            "text/plain": [
              "RandomForestRegressor(bootstrap=True, ccp_alpha=0.0, criterion='mse',\n",
              "                      max_depth=2, max_features='auto', max_leaf_nodes=None,\n",
              "                      max_samples=None, min_impurity_decrease=0.0,\n",
              "                      min_impurity_split=None, min_samples_leaf=1,\n",
              "                      min_samples_split=2, min_weight_fraction_leaf=0.0,\n",
              "                      n_estimators=100, n_jobs=None, oob_score=False,\n",
              "                      random_state=0, verbose=0, warm_start=False)"
            ]
          },
          "metadata": {
            "tags": []
          },
          "execution_count": 41
        }
      ]
    },
    {
      "cell_type": "code",
      "metadata": {
        "id": "GN-gp8b9kg1r",
        "outputId": "a718fd58-ee9b-4497-ec54-8e3e73effecf",
        "colab": {
          "base_uri": "https://localhost:8080/",
          "height": 34
        }
      },
      "source": [
        "rf.score(X_train, y_train)"
      ],
      "execution_count": 42,
      "outputs": [
        {
          "output_type": "execute_result",
          "data": {
            "text/plain": [
              "0.7549212066726896"
            ]
          },
          "metadata": {
            "tags": []
          },
          "execution_count": 42
        }
      ]
    },
    {
      "cell_type": "markdown",
      "metadata": {
        "id": "OfqI01-zkkAA"
      },
      "source": [
        "The R2 for the training set is .755 indicating a good fit of the model when using the training data."
      ]
    },
    {
      "cell_type": "markdown",
      "metadata": {
        "id": "MW0drpbtkj-a"
      },
      "source": [
        ""
      ]
    },
    {
      "cell_type": "code",
      "metadata": {
        "id": "ObV-9sczDzdy",
        "outputId": "87e566b0-80c0-4980-8263-acaf5a0b80a8",
        "colab": {
          "base_uri": "https://localhost:8080/",
          "height": 34
        }
      },
      "source": [
        "rf.score(X_test, y_test)"
      ],
      "execution_count": 43,
      "outputs": [
        {
          "output_type": "execute_result",
          "data": {
            "text/plain": [
              "0.7096868424317337"
            ]
          },
          "metadata": {
            "tags": []
          },
          "execution_count": 43
        }
      ]
    },
    {
      "cell_type": "markdown",
      "metadata": {
        "id": "TfSjVQ0_gE0c"
      },
      "source": [
        "The R2 of .709 for the test set is high indicating a good fit of the random forest regression model for energy use using latitude, longitude, number of buildings, year built, floor area, and primary property type. This value is somewhat lower than with the training dataset, but not enough to indicate overfitting."
      ]
    },
    {
      "cell_type": "code",
      "metadata": {
        "id": "tpZrHrM7ITes",
        "outputId": "95a7c980-cc73-45e0-8731-506a1e328089",
        "colab": {
          "base_uri": "https://localhost:8080/",
          "height": 50
        }
      },
      "source": [
        "rf.feature_importances_"
      ],
      "execution_count": 44,
      "outputs": [
        {
          "output_type": "execute_result",
          "data": {
            "text/plain": [
              "array([1., 0., 0., 0., 0., 0., 0., 0., 0., 0., 0., 0., 0., 0., 0., 0., 0.,\n",
              "       0., 0., 0., 0.])"
            ]
          },
          "metadata": {
            "tags": []
          },
          "execution_count": 44
        }
      ]
    },
    {
      "cell_type": "code",
      "metadata": {
        "id": "UT1LRkRIatkG",
        "outputId": "01371c94-d136-45f9-a8de-ea9ffe65e6c6",
        "colab": {
          "base_uri": "https://localhost:8080/",
          "height": 185
        }
      },
      "source": [
        "names = list(one_hot_encoded_frame.columns.values.tolist())\n",
        "names.insert(0, 'Longitude')  \n",
        "names.insert(0, 'Latitude')  \n",
        "\n",
        "names.insert(0, '# of Buildings')  \n",
        "names.insert(0, 'Year Built')  \n",
        "names.insert(0, 'Gross Floor Area - Buildings (sq ft)')  \n",
        "\n",
        "\n",
        "feature_names = np.array(names)\n",
        "\n",
        "feature_names"
      ],
      "execution_count": 45,
      "outputs": [
        {
          "output_type": "execute_result",
          "data": {
            "text/plain": [
              "array(['Gross Floor Area - Buildings (sq ft)', 'Year Built',\n",
              "       '# of Buildings', 'Latitude', 'Longitude', 'x0_Bank Branch',\n",
              "       'x0_Courthouse', 'x0_Financial Office',\n",
              "       'x0_Hospital (General Medical & Surgical)', 'x0_Hotel',\n",
              "       'x0_K-12 School', 'x0_Medical Office', 'x0_Mixed Use Property',\n",
              "       'x0_Multifamily Housing', 'x0_Office',\n",
              "       'x0_Residence Hall/Dormitory', 'x0_Retail Store',\n",
              "       'x0_Senior Care Community', 'x0_Supermarket/Grocery Store',\n",
              "       'x0_Wholesale Club/Supercenter', 'x0_Worship Facility'],\n",
              "      dtype='<U40')"
            ]
          },
          "metadata": {
            "tags": []
          },
          "execution_count": 45
        }
      ]
    },
    {
      "cell_type": "code",
      "metadata": {
        "id": "EV8MbH6Yav3U",
        "outputId": "a8b2961c-1669-4294-9f7e-06158c2d3313",
        "colab": {
          "base_uri": "https://localhost:8080/",
          "height": 1000
        }
      },
      "source": [
        "import pylab as plt\n",
        "tree_feature_importances = (\n",
        "    rf.feature_importances_)\n",
        "sorted_idx = tree_feature_importances.argsort()\n",
        "\n",
        "y_ticks = np.arange(0, len(feature_names))\n",
        "fig, ax = plt.subplots(figsize=(10,20))\n",
        "ax.barh(y_ticks, tree_feature_importances[sorted_idx])\n",
        "ax.set_yticklabels(feature_names[sorted_idx])\n",
        "ax.set_yticks(y_ticks)\n",
        "ax.set_title(\"Random Forest Feature Importances (MDI)\")\n",
        "fig.tight_layout()\n",
        "plt.show()"
      ],
      "execution_count": 46,
      "outputs": [
        {
          "output_type": "display_data",
          "data": {
            "image/png": "[encoded data removed]",
            "text/plain": [
              "<Figure size 720x1440 with 1 Axes>"
            ]
          },
          "metadata": {
            "tags": [],
            "needs_background": "light"
          }
        }
      ]
    },
    {
      "cell_type": "markdown",
      "metadata": {
        "id": "4ulBKh6Jgsw7"
      },
      "source": [
        "Figure 2: Importance chart of the input variables, representing how influential each input variable is on predicting energy use with the random forest regression classifier. Similarly to the London model building size is the most important variable. This result is similar to the London model and the results of the paper which showed area as the most important variable for each city.\n",
        "\n"
      ]
    },
    {
      "cell_type": "markdown",
      "metadata": {
        "id": "D5M0jX-uulL_"
      },
      "source": [
        "Using above and below mean for London"
      ]
    },
    {
      "cell_type": "code",
      "metadata": {
        "id": "GkuPWto4uo-A",
        "outputId": "2dbce489-0d1b-4d7f-f7e8-b97b6fea6d79",
        "colab": {
          "base_uri": "https://localhost:8080/",
          "height": 50
        }
      },
      "source": [
        "lon = pd.read_csv(\"https://raw.githubusercontent.com/Urban-Informatics-Lab/Open-Data-Benchmarking/master/London/london_2010.csv\")\n",
        "lon.drop(['RRN', 'RELATED_RRN', 'ISSUE_DATE', 'ORGANISATION_NAME', 'ADDR1', 'ADDR2', 'ADDR3', 'ADDR4', 'POST_TOWN', 'COUNTY_OSGB', 'POSTCODE'], axis=1, inplace=True)\n",
        "lon['floor_area_SF'] = lon['FLOOR_AREA']*10.7639\n",
        "lon['total_site_energy_KBTU'] = lon['TYPICAL_ANNUAL_HEAT_TOTAL'] + lon['TYPICAL_ANNUAL_ELEC_TOTAL']*3.41214\n",
        "lon['log_total_site_energy_KBTU'] = np.log(lon['total_site_energy_KBTU'])\n",
        "lon['site_eui_KBTUSF'] = lon['total_site_energy_KBTU']/lon['floor_area_SF']\n",
        "lon = lon.replace([np.inf, -np.inf], 0)"
      ],
      "execution_count": 47,
      "outputs": [
        {
          "output_type": "stream",
          "text": [
            "/usr/local/lib/python3.6/dist-packages/pandas/core/series.py:726: RuntimeWarning: divide by zero encountered in log\n",
            "  result = getattr(ufunc, method)(*inputs, **kwargs)\n"
          ],
          "name": "stderr"
        }
      ]
    },
    {
      "cell_type": "code",
      "metadata": {
        "id": "4cLFjCmyvLUv",
        "outputId": "0cba13d5-0ab3-4083-b04c-4962bf30f6ab",
        "colab": {
          "base_uri": "https://localhost:8080/",
          "height": 34
        }
      },
      "source": [
        "m = lon['log_total_site_energy_KBTU'].mean()\n",
        "m"
      ],
      "execution_count": 48,
      "outputs": [
        {
          "output_type": "execute_result",
          "data": {
            "text/plain": [
              "13.150859205517296"
            ]
          },
          "metadata": {
            "tags": []
          },
          "execution_count": 48
        }
      ]
    },
    {
      "cell_type": "code",
      "metadata": {
        "id": "M2CrjUekuwG_",
        "outputId": "87c3a0c0-2e8a-4f85-b764-7b8fdd553237",
        "colab": {
          "base_uri": "https://localhost:8080/",
          "height": 573
        }
      },
      "source": [
        "lon['energy_mean'] = (lon['log_total_site_energy_KBTU'] > m) * 1\n",
        "lon.sort_values('log_total_site_energy_KBTU')"
      ],
      "execution_count": 49,
      "outputs": [
        {
          "output_type": "execute_result",
          "data": {
            "text/html": [
              "<div>\n",
              "<style scoped>\n",
              "    .dataframe tbody tr th:only-of-type {\n",
              "        vertical-align: middle;\n",
              "    }\n",
              "\n",
              "    .dataframe tbody tr th {\n",
              "        vertical-align: top;\n",
              "    }\n",
              "\n",
              "    .dataframe thead th {\n",
              "        text-align: right;\n",
              "    }\n",
              "</style>\n",
              "<table border=\"1\" class=\"dataframe\">\n",
              "  <thead>\n",
              "    <tr style=\"text-align: right;\">\n",
              "      <th></th>\n",
              "      <th>ENERGY_RATING_BAND</th>\n",
              "      <th>ENERGY_RATING</th>\n",
              "      <th>TOTAL_CO2_EMISSIONS</th>\n",
              "      <th>MAIN_HEATING_FUEL</th>\n",
              "      <th>BUILDING_ENVIRONMENT</th>\n",
              "      <th>FLOOR_AREA</th>\n",
              "      <th>ANNUALENERGYUSEFUELTHERMAL</th>\n",
              "      <th>ANNUALENERGYUSEELECTRICAL</th>\n",
              "      <th>TYPICALENERGYUSEFUELTHERMAL</th>\n",
              "      <th>TYPICALENERGYUSEELECTRICAL</th>\n",
              "      <th>RENEWABLESTHERMAL</th>\n",
              "      <th>RENEWABLESELECTRICAL</th>\n",
              "      <th>ACTUAL_ANNUAL_HEAT_TOTAL</th>\n",
              "      <th>ACTUAL_ANNUAL_ELEC_TOTAL</th>\n",
              "      <th>TYPICAL_ANNUAL_HEAT_TOTAL</th>\n",
              "      <th>TYPICAL_ANNUAL_ELEC_TOTAL</th>\n",
              "      <th>floor_area_SF</th>\n",
              "      <th>total_site_energy_KBTU</th>\n",
              "      <th>log_total_site_energy_KBTU</th>\n",
              "      <th>site_eui_KBTUSF</th>\n",
              "      <th>energy_mean</th>\n",
              "    </tr>\n",
              "  </thead>\n",
              "  <tbody>\n",
              "    <tr>\n",
              "      <th>4373</th>\n",
              "      <td>G</td>\n",
              "      <td>9999</td>\n",
              "      <td>0</td>\n",
              "      <td>Natural Gas</td>\n",
              "      <td>Heating and Natural Ventilation</td>\n",
              "      <td>1327.00</td>\n",
              "      <td>0</td>\n",
              "      <td>0</td>\n",
              "      <td>0</td>\n",
              "      <td>0</td>\n",
              "      <td>0.0</td>\n",
              "      <td>0.0</td>\n",
              "      <td>0.00</td>\n",
              "      <td>0.00</td>\n",
              "      <td>0.000000e+00</td>\n",
              "      <td>0.0</td>\n",
              "      <td>1.428370e+04</td>\n",
              "      <td>0.000000e+00</td>\n",
              "      <td>0.000000</td>\n",
              "      <td>0.000000</td>\n",
              "      <td>0</td>\n",
              "    </tr>\n",
              "    <tr>\n",
              "      <th>1334</th>\n",
              "      <td>G</td>\n",
              "      <td>9999</td>\n",
              "      <td>0</td>\n",
              "      <td>Natural Gas</td>\n",
              "      <td>Heating and Natural Ventilation</td>\n",
              "      <td>2349.00</td>\n",
              "      <td>0</td>\n",
              "      <td>0</td>\n",
              "      <td>0</td>\n",
              "      <td>0</td>\n",
              "      <td>0.0</td>\n",
              "      <td>0.0</td>\n",
              "      <td>0.00</td>\n",
              "      <td>0.00</td>\n",
              "      <td>0.000000e+00</td>\n",
              "      <td>0.0</td>\n",
              "      <td>2.528440e+04</td>\n",
              "      <td>0.000000e+00</td>\n",
              "      <td>0.000000</td>\n",
              "      <td>0.000000</td>\n",
              "      <td>0</td>\n",
              "    </tr>\n",
              "    <tr>\n",
              "      <th>1333</th>\n",
              "      <td>G</td>\n",
              "      <td>9999</td>\n",
              "      <td>0</td>\n",
              "      <td>Natural Gas</td>\n",
              "      <td>Heating and Natural Ventilation</td>\n",
              "      <td>2432.00</td>\n",
              "      <td>0</td>\n",
              "      <td>0</td>\n",
              "      <td>0</td>\n",
              "      <td>0</td>\n",
              "      <td>0.0</td>\n",
              "      <td>0.0</td>\n",
              "      <td>0.00</td>\n",
              "      <td>0.00</td>\n",
              "      <td>0.000000e+00</td>\n",
              "      <td>0.0</td>\n",
              "      <td>2.617780e+04</td>\n",
              "      <td>0.000000e+00</td>\n",
              "      <td>0.000000</td>\n",
              "      <td>0.000000</td>\n",
              "      <td>0</td>\n",
              "    </tr>\n",
              "    <tr>\n",
              "      <th>1332</th>\n",
              "      <td>G</td>\n",
              "      <td>9999</td>\n",
              "      <td>0</td>\n",
              "      <td>Natural Gas</td>\n",
              "      <td>Heating and Natural Ventilation</td>\n",
              "      <td>1358.00</td>\n",
              "      <td>0</td>\n",
              "      <td>0</td>\n",
              "      <td>0</td>\n",
              "      <td>0</td>\n",
              "      <td>0.0</td>\n",
              "      <td>0.0</td>\n",
              "      <td>0.00</td>\n",
              "      <td>0.00</td>\n",
              "      <td>0.000000e+00</td>\n",
              "      <td>0.0</td>\n",
              "      <td>1.461738e+04</td>\n",
              "      <td>0.000000e+00</td>\n",
              "      <td>0.000000</td>\n",
              "      <td>0.000000</td>\n",
              "      <td>0</td>\n",
              "    </tr>\n",
              "    <tr>\n",
              "      <th>1331</th>\n",
              "      <td>G</td>\n",
              "      <td>9999</td>\n",
              "      <td>0</td>\n",
              "      <td>Natural Gas</td>\n",
              "      <td>Heating and Natural Ventilation</td>\n",
              "      <td>2189.00</td>\n",
              "      <td>0</td>\n",
              "      <td>0</td>\n",
              "      <td>0</td>\n",
              "      <td>0</td>\n",
              "      <td>0.0</td>\n",
              "      <td>0.0</td>\n",
              "      <td>0.00</td>\n",
              "      <td>0.00</td>\n",
              "      <td>0.000000e+00</td>\n",
              "      <td>0.0</td>\n",
              "      <td>2.356218e+04</td>\n",
              "      <td>0.000000e+00</td>\n",
              "      <td>0.000000</td>\n",
              "      <td>0.000000</td>\n",
              "      <td>0</td>\n",
              "    </tr>\n",
              "    <tr>\n",
              "      <th>...</th>\n",
              "      <td>...</td>\n",
              "      <td>...</td>\n",
              "      <td>...</td>\n",
              "      <td>...</td>\n",
              "      <td>...</td>\n",
              "      <td>...</td>\n",
              "      <td>...</td>\n",
              "      <td>...</td>\n",
              "      <td>...</td>\n",
              "      <td>...</td>\n",
              "      <td>...</td>\n",
              "      <td>...</td>\n",
              "      <td>...</td>\n",
              "      <td>...</td>\n",
              "      <td>...</td>\n",
              "      <td>...</td>\n",
              "      <td>...</td>\n",
              "      <td>...</td>\n",
              "      <td>...</td>\n",
              "      <td>...</td>\n",
              "      <td>...</td>\n",
              "    </tr>\n",
              "    <tr>\n",
              "      <th>5958</th>\n",
              "      <td>E</td>\n",
              "      <td>110</td>\n",
              "      <td>26209</td>\n",
              "      <td>Natural Gas</td>\n",
              "      <td>Mixed-mode with Natural Ventilation</td>\n",
              "      <td>171236.00</td>\n",
              "      <td>238</td>\n",
              "      <td>194</td>\n",
              "      <td>450</td>\n",
              "      <td>94</td>\n",
              "      <td>0.0</td>\n",
              "      <td>0.0</td>\n",
              "      <td>40754168.00</td>\n",
              "      <td>33219784.00</td>\n",
              "      <td>7.705620e+07</td>\n",
              "      <td>16096184.0</td>\n",
              "      <td>1.843167e+06</td>\n",
              "      <td>1.319786e+08</td>\n",
              "      <td>18.698151</td>\n",
              "      <td>71.604266</td>\n",
              "      <td>1</td>\n",
              "    </tr>\n",
              "    <tr>\n",
              "      <th>19396</th>\n",
              "      <td>E</td>\n",
              "      <td>116</td>\n",
              "      <td>28817</td>\n",
              "      <td>Natural Gas</td>\n",
              "      <td>Mixed-mode with Natural Ventilation</td>\n",
              "      <td>181819.00</td>\n",
              "      <td>348</td>\n",
              "      <td>165</td>\n",
              "      <td>451</td>\n",
              "      <td>90</td>\n",
              "      <td>0.0</td>\n",
              "      <td>0.0</td>\n",
              "      <td>63273012.00</td>\n",
              "      <td>30000135.00</td>\n",
              "      <td>8.200037e+07</td>\n",
              "      <td>16363710.0</td>\n",
              "      <td>1.957082e+06</td>\n",
              "      <td>1.378356e+08</td>\n",
              "      <td>18.741573</td>\n",
              "      <td>70.429175</td>\n",
              "      <td>1</td>\n",
              "    </tr>\n",
              "    <tr>\n",
              "      <th>1075</th>\n",
              "      <td>C</td>\n",
              "      <td>60</td>\n",
              "      <td>14872</td>\n",
              "      <td>Natural Gas</td>\n",
              "      <td>Air Conditioning</td>\n",
              "      <td>174000.00</td>\n",
              "      <td>45</td>\n",
              "      <td>140</td>\n",
              "      <td>364</td>\n",
              "      <td>130</td>\n",
              "      <td>0.0</td>\n",
              "      <td>0.0</td>\n",
              "      <td>7830000.00</td>\n",
              "      <td>24360000.00</td>\n",
              "      <td>6.333600e+07</td>\n",
              "      <td>22620000.0</td>\n",
              "      <td>1.872919e+06</td>\n",
              "      <td>1.405186e+08</td>\n",
              "      <td>18.760850</td>\n",
              "      <td>75.026542</td>\n",
              "      <td>1</td>\n",
              "    </tr>\n",
              "    <tr>\n",
              "      <th>14393</th>\n",
              "      <td>E</td>\n",
              "      <td>123</td>\n",
              "      <td>34439</td>\n",
              "      <td>Natural Gas</td>\n",
              "      <td>Heating and Mechanical Ventilation</td>\n",
              "      <td>209408.83</td>\n",
              "      <td>473</td>\n",
              "      <td>132</td>\n",
              "      <td>436</td>\n",
              "      <td>90</td>\n",
              "      <td>0.0</td>\n",
              "      <td>0.0</td>\n",
              "      <td>99050376.59</td>\n",
              "      <td>27641965.56</td>\n",
              "      <td>9.130225e+07</td>\n",
              "      <td>18846794.7</td>\n",
              "      <td>2.254056e+06</td>\n",
              "      <td>1.556102e+08</td>\n",
              "      <td>18.862864</td>\n",
              "      <td>69.035628</td>\n",
              "      <td>1</td>\n",
              "    </tr>\n",
              "    <tr>\n",
              "      <th>6408</th>\n",
              "      <td>B</td>\n",
              "      <td>50</td>\n",
              "      <td>18074</td>\n",
              "      <td>Natural Gas</td>\n",
              "      <td>Heating and Mechanical Ventilation</td>\n",
              "      <td>280912.00</td>\n",
              "      <td>0</td>\n",
              "      <td>117</td>\n",
              "      <td>400</td>\n",
              "      <td>91</td>\n",
              "      <td>0.0</td>\n",
              "      <td>0.0</td>\n",
              "      <td>0.00</td>\n",
              "      <td>32866704.00</td>\n",
              "      <td>1.123648e+08</td>\n",
              "      <td>25562992.0</td>\n",
              "      <td>3.023709e+06</td>\n",
              "      <td>1.995893e+08</td>\n",
              "      <td>19.111772</td>\n",
              "      <td>66.008114</td>\n",
              "      <td>1</td>\n",
              "    </tr>\n",
              "  </tbody>\n",
              "</table>\n",
              "<p>25118 rows × 21 columns</p>\n",
              "</div>"
            ],
            "text/plain": [
              "      ENERGY_RATING_BAND  ENERGY_RATING  ...  site_eui_KBTUSF energy_mean\n",
              "4373                   G           9999  ...         0.000000           0\n",
              "1334                   G           9999  ...         0.000000           0\n",
              "1333                   G           9999  ...         0.000000           0\n",
              "1332                   G           9999  ...         0.000000           0\n",
              "1331                   G           9999  ...         0.000000           0\n",
              "...                  ...            ...  ...              ...         ...\n",
              "5958                   E            110  ...        71.604266           1\n",
              "19396                  E            116  ...        70.429175           1\n",
              "1075                   C             60  ...        75.026542           1\n",
              "14393                  E            123  ...        69.035628           1\n",
              "6408                   B             50  ...        66.008114           1\n",
              "\n",
              "[25118 rows x 21 columns]"
            ]
          },
          "metadata": {
            "tags": []
          },
          "execution_count": 49
        }
      ]
    },
    {
      "cell_type": "code",
      "metadata": {
        "id": "MTm7LeedurmU",
        "outputId": "6332583e-3cc8-4aa9-b875-93a66bbc1238",
        "colab": {
          "base_uri": "https://localhost:8080/",
          "height": 252
        }
      },
      "source": [
        "y = lon['energy_mean'].values\n",
        "x1 = lon[['floor_area_SF']]\n",
        "x2 = lon[['MAIN_HEATING_FUEL', 'BUILDING_ENVIRONMENT']]\n",
        "from sklearn.impute import KNNImputer\n",
        "# Default neighbors is 5\n",
        "imputer = KNNImputer()\n",
        "print(imputer.fit_transform(x1))\n",
        "x1 = imputer.fit_transform(x1)\n",
        "x2 = x2.fillna(\"None\")\n",
        "from sklearn.preprocessing import OneHotEncoder\n",
        "\n",
        "encoder = OneHotEncoder(handle_unknown='ignore')\n",
        "x2 = encoder.fit_transform(x2).toarray()\n",
        "column_name = encoder.get_feature_names()\n",
        "x2\n",
        "one_hot_encoded_frame =  pd.DataFrame(x2, columns= column_name)\n",
        "one_hot_encoded_frame\n",
        "x = np.hstack([x1, x2])\n",
        "from sklearn.model_selection import train_test_split\n",
        "\n",
        "X_train, X_test, y_train, y_test = train_test_split(\n",
        "    x, y, test_size=0.25, random_state=42)\n",
        "\n",
        "from sklearn.ensemble import RandomForestRegressor\n",
        "rf = RandomForestRegressor(max_depth=2, random_state=0)\n",
        "rf.fit(X_train, y_train,)"
      ],
      "execution_count": 50,
      "outputs": [
        {
          "output_type": "stream",
          "text": [
            "[[ 13357.9999]\n",
            " [ 27038.9168]\n",
            " [ 16737.8645]\n",
            " ...\n",
            " [159477.9424]\n",
            " [ 71633.7545]\n",
            " [ 19450.3673]]\n"
          ],
          "name": "stdout"
        },
        {
          "output_type": "execute_result",
          "data": {
            "text/plain": [
              "RandomForestRegressor(bootstrap=True, ccp_alpha=0.0, criterion='mse',\n",
              "                      max_depth=2, max_features='auto', max_leaf_nodes=None,\n",
              "                      max_samples=None, min_impurity_decrease=0.0,\n",
              "                      min_impurity_split=None, min_samples_leaf=1,\n",
              "                      min_samples_split=2, min_weight_fraction_leaf=0.0,\n",
              "                      n_estimators=100, n_jobs=None, oob_score=False,\n",
              "                      random_state=0, verbose=0, warm_start=False)"
            ]
          },
          "metadata": {
            "tags": []
          },
          "execution_count": 50
        }
      ]
    },
    {
      "cell_type": "code",
      "metadata": {
        "id": "SZnpLeuRxEPh",
        "outputId": "2effdd2b-24e5-4d62-e2c0-08867cab0d27",
        "colab": {
          "base_uri": "https://localhost:8080/",
          "height": 34
        }
      },
      "source": [
        "rf.score(X_train, y_train)"
      ],
      "execution_count": 51,
      "outputs": [
        {
          "output_type": "execute_result",
          "data": {
            "text/plain": [
              "0.48258126397477885"
            ]
          },
          "metadata": {
            "tags": []
          },
          "execution_count": 51
        }
      ]
    },
    {
      "cell_type": "markdown",
      "metadata": {
        "id": "bk6aORjEmUev"
      },
      "source": [
        "The R2 for the training set is .483, which is significantly higher than the model using the raw energy consumption. "
      ]
    },
    {
      "cell_type": "code",
      "metadata": {
        "id": "yJehWMC2xHXQ",
        "outputId": "d7e92f0e-603a-45c2-fdde-6032e7664346",
        "colab": {
          "base_uri": "https://localhost:8080/",
          "height": 34
        }
      },
      "source": [
        "rf.score(X_test, y_test)"
      ],
      "execution_count": 52,
      "outputs": [
        {
          "output_type": "execute_result",
          "data": {
            "text/plain": [
              "0.47863021943932543"
            ]
          },
          "metadata": {
            "tags": []
          },
          "execution_count": 52
        }
      ]
    },
    {
      "cell_type": "markdown",
      "metadata": {
        "id": "ORsLHGClmebh"
      },
      "source": [
        "The R2 for the testing set is .479, which is also significantly higher than the model using the raw energy consumption. "
      ]
    },
    {
      "cell_type": "code",
      "metadata": {
        "id": "QlHyRKUsxJeN",
        "outputId": "d2f75bce-94bb-4bff-90ca-401e2a6f4a7b",
        "colab": {
          "base_uri": "https://localhost:8080/",
          "height": 1000
        }
      },
      "source": [
        "names = list(one_hot_encoded_frame.columns.values.tolist())\n",
        "names.insert(0, 'floor_area_SF')  \n",
        " \n",
        "\n",
        "feature_names = np.array(names)\n",
        "\n",
        "feature_names\n",
        "import pylab as plt\n",
        "tree_feature_importances = (\n",
        "    rf.feature_importances_)\n",
        "sorted_idx = tree_feature_importances.argsort()\n",
        "\n",
        "y_ticks = np.arange(0, len(feature_names))\n",
        "fig, ax = plt.subplots(figsize=(10,20))\n",
        "ax.barh(y_ticks, tree_feature_importances[sorted_idx])\n",
        "ax.set_yticklabels(feature_names[sorted_idx])\n",
        "ax.set_yticks(y_ticks)\n",
        "ax.set_title(\"Random Forest Feature Importances (MDI)\")\n",
        "fig.tight_layout()\n",
        "plt.show()"
      ],
      "execution_count": 53,
      "outputs": [
        {
          "output_type": "display_data",
          "data": {
            "image/png": "[encoded data removed]",
            "text/plain": [
              "<Figure size 720x1440 with 1 Axes>"
            ]
          },
          "metadata": {
            "tags": [],
            "needs_background": "light"
          }
        }
      ]
    },
    {
      "cell_type": "markdown",
      "metadata": {
        "id": "nX7SFUppml6x"
      },
      "source": [
        "Figure 3: Floor size is still the most important variable, however heating and natural ventilation has a greater importance with this model."
      ]
    },
    {
      "cell_type": "code",
      "metadata": {
        "id": "ssBgPCNKxVHY",
        "outputId": "a31e7c24-de11-47ce-aaa6-52e3c80abe5f",
        "colab": {
          "base_uri": "https://localhost:8080/",
          "height": 353
        }
      },
      "source": [
        "chi = pd.read_csv(\"https://raw.githubusercontent.com/Urban-Informatics-Lab/Open-Data-Benchmarking/master/Chicago/Chicago_Energy_Benchmarking_-_2016_Data_Reported_in_2017.csv\")\n",
        "chi.drop(['Data Year', 'ID', 'Property Name', 'Address', 'Community Area', 'All Other Fuel Use (kBtu)', 'District Chilled Water Use (kBtu)', 'District Steam Use (kBtu)'], axis=1, inplace=True)\n",
        "chi['total_site_energy_KBTU'] = chi['Gross Floor Area - Buildings (sq ft)'] * chi['Site EUI (kBtu/sq ft)']\n",
        "chi['log_total_site_energy_KBTU'] = np.log(chi['total_site_energy_KBTU'])\n",
        "chi = chi.replace([np.inf, -np.inf], 0)\n",
        "\n",
        "m = chi['log_total_site_energy_KBTU'].mean()\n",
        "chi['energy_mean'] = (chi['log_total_site_energy_KBTU'] > m) * 1\n",
        "chi.sort_values('log_total_site_energy_KBTU')\n",
        "\n",
        "chi = chi.dropna()\n",
        "y = chi['energy_mean'].values\n",
        "x1 = chi[['Gross Floor Area - Buildings (sq ft)', 'Year Built', '# of Buildings', 'Latitude', 'Longitude']]\n",
        "x2 = chi[['Primary Property Type']]\n",
        "from sklearn.impute import KNNImputer\n",
        "# Default neighbors is 5\n",
        "imputer = KNNImputer()\n",
        "print(imputer.fit_transform(x1))\n",
        "x1 = imputer.fit_transform(x1)\n",
        "from sklearn.preprocessing import OneHotEncoder\n",
        "x2 = x2.fillna(\"None\")\n",
        "x2\n",
        "encoder = OneHotEncoder(handle_unknown='ignore')\n",
        "x2 = encoder.fit_transform(x2).toarray()\n",
        "column_name = encoder.get_feature_names()\n",
        "x2\n",
        "one_hot_encoded_frame =  pd.DataFrame(x2, columns= column_name)\n",
        "one_hot_encoded_frame\n",
        "x = np.hstack([x1, x2])\n",
        "              \n",
        "from sklearn.model_selection import train_test_split\n",
        "\n",
        "X_train, X_test, y_train, y_test = train_test_split(\n",
        "    x, y, test_size=0.25, random_state=42)\n",
        "from sklearn.ensemble import RandomForestRegressor\n",
        "rf = RandomForestRegressor(max_depth=2, random_state=0)\n",
        "rf.fit(X_train, y_train,)"
      ],
      "execution_count": 54,
      "outputs": [
        {
          "output_type": "stream",
          "text": [
            "[[ 9.90000000e+04  2.00000000e+03  1.00000000e+00  4.18842525e+01\n",
            "  -8.76324500e+01]\n",
            " [ 9.20720000e+04  2.01400000e+03  1.00000000e+00  4.19474017e+01\n",
            "  -8.76496400e+01]\n",
            " [ 1.36000000e+05  1.92400000e+03  1.00000000e+00  4.18992081e+01\n",
            "  -8.76272900e+01]\n",
            " ...\n",
            " [ 5.64120000e+04  1.93200000e+03  1.00000000e+00  4.17625923e+01\n",
            "  -8.75723165e+01]\n",
            " [ 6.00000000e+04  1.90800000e+03  1.00000000e+00  4.18764255e+01\n",
            "  -8.76333555e+01]\n",
            " [ 3.09056000e+05  1.92800000e+03  1.00000000e+00  4.19074359e+01\n",
            "  -8.76853802e+01]]\n"
          ],
          "name": "stdout"
        },
        {
          "output_type": "execute_result",
          "data": {
            "text/plain": [
              "RandomForestRegressor(bootstrap=True, ccp_alpha=0.0, criterion='mse',\n",
              "                      max_depth=2, max_features='auto', max_leaf_nodes=None,\n",
              "                      max_samples=None, min_impurity_decrease=0.0,\n",
              "                      min_impurity_split=None, min_samples_leaf=1,\n",
              "                      min_samples_split=2, min_weight_fraction_leaf=0.0,\n",
              "                      n_estimators=100, n_jobs=None, oob_score=False,\n",
              "                      random_state=0, verbose=0, warm_start=False)"
            ]
          },
          "metadata": {
            "tags": []
          },
          "execution_count": 54
        }
      ]
    },
    {
      "cell_type": "code",
      "metadata": {
        "id": "_9xZxOPYnj7v",
        "outputId": "d7343d7c-cd9a-490f-d471-96cc2fed25d2",
        "colab": {
          "base_uri": "https://localhost:8080/",
          "height": 34
        }
      },
      "source": [
        "rf.score(X_train, y_train)"
      ],
      "execution_count": 55,
      "outputs": [
        {
          "output_type": "execute_result",
          "data": {
            "text/plain": [
              "0.649309603995577"
            ]
          },
          "metadata": {
            "tags": []
          },
          "execution_count": 55
        }
      ]
    },
    {
      "cell_type": "markdown",
      "metadata": {
        "id": "d6m3fzqWn-Ha"
      },
      "source": [
        "The R2 for this model using the training data is .649, which is lower than the original model."
      ]
    },
    {
      "cell_type": "code",
      "metadata": {
        "id": "_s1d6GaRnxCM",
        "outputId": "3ffbe67a-e245-42d6-a1a2-5edf505b2fe9",
        "colab": {
          "base_uri": "https://localhost:8080/",
          "height": 34
        }
      },
      "source": [
        "rf.score(X_test, y_test)"
      ],
      "execution_count": 56,
      "outputs": [
        {
          "output_type": "execute_result",
          "data": {
            "text/plain": [
              "0.6657343690758135"
            ]
          },
          "metadata": {
            "tags": []
          },
          "execution_count": 56
        }
      ]
    },
    {
      "cell_type": "markdown",
      "metadata": {
        "id": "rj9E1v4IoF_B"
      },
      "source": [
        "The R2 for this model using the testing data is .666, which is lower than the original model."
      ]
    },
    {
      "cell_type": "code",
      "metadata": {
        "id": "ZhWrqEsWnzo8",
        "outputId": "c1dfdf10-4585-452e-e143-cb2f5cc08a94",
        "colab": {
          "base_uri": "https://localhost:8080/",
          "height": 1000
        }
      },
      "source": [
        "names = list(one_hot_encoded_frame.columns.values.tolist())\n",
        "names.insert(0, 'Longitude')  \n",
        "names.insert(0, 'Latitude')  \n",
        "\n",
        "names.insert(0, '# of Buildings')  \n",
        "names.insert(0, 'Year Built')  \n",
        "names.insert(0, 'Gross Floor Area - Buildings (sq ft)')  \n",
        "\n",
        "\n",
        "feature_names = np.array(names)\n",
        "\n",
        "feature_names\n",
        "import pylab as plt\n",
        "tree_feature_importances = (\n",
        "    rf.feature_importances_)\n",
        "sorted_idx = tree_feature_importances.argsort()\n",
        "\n",
        "y_ticks = np.arange(0, len(feature_names))\n",
        "fig, ax = plt.subplots(figsize=(10,20))\n",
        "ax.barh(y_ticks, tree_feature_importances[sorted_idx])\n",
        "ax.set_yticklabels(feature_names[sorted_idx])\n",
        "ax.set_yticks(y_ticks)\n",
        "ax.set_title(\"Random Forest Feature Importances (MDI)\")\n",
        "fig.tight_layout()\n",
        "plt.show()"
      ],
      "execution_count": 57,
      "outputs": [
        {
          "output_type": "display_data",
          "data": {
            "image/png": "[encoded data removed]",
            "text/plain": [
              "<Figure size 720x1440 with 1 Axes>"
            ]
          },
          "metadata": {
            "tags": [],
            "needs_background": "light"
          }
        }
      ]
    },
    {
      "cell_type": "markdown",
      "metadata": {
        "id": "S3z15_H7oSGy"
      },
      "source": [
        "Figure 4: The importance plot shows that floor size is still the most important variable, however supermarkets now have more importance."
      ]
    },
    {
      "cell_type": "code",
      "metadata": {
        "id": "bbSXOFEgoZ9k"
      },
      "source": [
        ""
      ],
      "execution_count": 57,
      "outputs": []
    }
  ]
}